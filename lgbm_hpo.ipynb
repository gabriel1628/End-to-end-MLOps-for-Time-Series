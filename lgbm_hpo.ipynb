{
 "cells": [
  {
   "cell_type": "code",
   "execution_count": 1,
   "metadata": {
    "colab": {
     "base_uri": "https://localhost:8080/"
    },
    "id": "mdyOGosmjVVA",
    "outputId": "69aa8969-e8b0-4919-da4c-ae016617763b",
    "scrolled": true
   },
   "outputs": [
    {
     "name": "stdout",
     "output_type": "stream",
     "text": [
      "Collecting lightgbm\n",
      "  Downloading lightgbm-4.5.0.tar.gz (1.7 MB)\n",
      "\u001b[2K     \u001b[90m━━━━━━━━━━━━━━━━━━━━━━━━━━━━━━━━━━━━━━━━\u001b[0m \u001b[32m1.7/1.7 MB\u001b[0m \u001b[31m88.3 MB/s\u001b[0m eta \u001b[36m0:00:00\u001b[0m\n",
      "\u001b[?25h  Installing build dependencies ... \u001b[?25ldone\n",
      "\u001b[?25h  Getting requirements to build wheel ... \u001b[?25ldone\n",
      "\u001b[?25h  Installing backend dependencies ... \u001b[?25ldone\n",
      "\u001b[?25h  Preparing metadata (pyproject.toml) ... \u001b[?25ldone\n",
      "\u001b[?25hCollecting optuna\n",
      "  Downloading optuna-4.0.0-py3-none-any.whl.metadata (16 kB)\n",
      "Collecting mlforecast\n",
      "  Downloading mlforecast-0.13.4-py3-none-any.whl.metadata (12 kB)\n",
      "Requirement already satisfied: numpy>=1.17.0 in /home/ec2-user/anaconda3/envs/python3/lib/python3.10/site-packages (from lightgbm) (1.22.4)\n",
      "Requirement already satisfied: scipy in /home/ec2-user/anaconda3/envs/python3/lib/python3.10/site-packages (from lightgbm) (1.14.0)\n",
      "Collecting alembic>=1.5.0 (from optuna)\n",
      "  Downloading alembic-1.13.2-py3-none-any.whl.metadata (7.4 kB)\n",
      "Collecting colorlog (from optuna)\n",
      "  Downloading colorlog-6.8.2-py3-none-any.whl.metadata (10 kB)\n",
      "Requirement already satisfied: packaging>=20.0 in /home/ec2-user/anaconda3/envs/python3/lib/python3.10/site-packages (from optuna) (21.3)\n",
      "Requirement already satisfied: sqlalchemy>=1.3.0 in /home/ec2-user/anaconda3/envs/python3/lib/python3.10/site-packages (from optuna) (2.0.31)\n",
      "Requirement already satisfied: tqdm in /home/ec2-user/anaconda3/envs/python3/lib/python3.10/site-packages (from optuna) (4.66.4)\n",
      "Requirement already satisfied: PyYAML in /home/ec2-user/anaconda3/envs/python3/lib/python3.10/site-packages (from optuna) (6.0.1)\n",
      "Requirement already satisfied: cloudpickle in /home/ec2-user/anaconda3/envs/python3/lib/python3.10/site-packages (from mlforecast) (2.2.1)\n",
      "Collecting coreforecast>=0.0.11 (from mlforecast)\n",
      "  Downloading coreforecast-0.0.12-py3-none-manylinux_2_17_x86_64.manylinux2014_x86_64.whl.metadata (3.6 kB)\n",
      "Requirement already satisfied: fsspec in /home/ec2-user/anaconda3/envs/python3/lib/python3.10/site-packages (from mlforecast) (2024.6.1)\n",
      "Requirement already satisfied: numba in /home/ec2-user/anaconda3/envs/python3/lib/python3.10/site-packages (from mlforecast) (0.60.0)\n",
      "Requirement already satisfied: pandas in /home/ec2-user/anaconda3/envs/python3/lib/python3.10/site-packages (from mlforecast) (2.2.2)\n",
      "Requirement already satisfied: scikit-learn in /home/ec2-user/anaconda3/envs/python3/lib/python3.10/site-packages (from mlforecast) (1.5.1)\n",
      "Collecting utilsforecast>=0.1.9 (from mlforecast)\n",
      "  Downloading utilsforecast-0.2.4-py3-none-any.whl.metadata (7.4 kB)\n",
      "Collecting window-ops (from mlforecast)\n",
      "  Downloading window_ops-0.0.15-py3-none-any.whl.metadata (6.8 kB)\n",
      "Collecting Mako (from alembic>=1.5.0->optuna)\n",
      "  Downloading Mako-1.3.5-py3-none-any.whl.metadata (2.9 kB)\n",
      "Requirement already satisfied: typing-extensions>=4 in /home/ec2-user/anaconda3/envs/python3/lib/python3.10/site-packages (from alembic>=1.5.0->optuna) (4.12.2)\n",
      "Requirement already satisfied: pyparsing!=3.0.5,>=2.0.2 in /home/ec2-user/anaconda3/envs/python3/lib/python3.10/site-packages (from packaging>=20.0->optuna) (3.1.2)\n",
      "Requirement already satisfied: greenlet!=0.4.17 in /home/ec2-user/anaconda3/envs/python3/lib/python3.10/site-packages (from sqlalchemy>=1.3.0->optuna) (3.0.3)\n",
      "Requirement already satisfied: python-dateutil>=2.8.2 in /home/ec2-user/anaconda3/envs/python3/lib/python3.10/site-packages (from pandas->mlforecast) (2.9.0)\n",
      "Requirement already satisfied: pytz>=2020.1 in /home/ec2-user/anaconda3/envs/python3/lib/python3.10/site-packages (from pandas->mlforecast) (2024.1)\n",
      "Requirement already satisfied: tzdata>=2022.7 in /home/ec2-user/anaconda3/envs/python3/lib/python3.10/site-packages (from pandas->mlforecast) (2024.1)\n",
      "Requirement already satisfied: llvmlite<0.44,>=0.43.0dev0 in /home/ec2-user/anaconda3/envs/python3/lib/python3.10/site-packages (from numba->mlforecast) (0.43.0)\n",
      "Requirement already satisfied: joblib>=1.2.0 in /home/ec2-user/anaconda3/envs/python3/lib/python3.10/site-packages (from scikit-learn->mlforecast) (1.4.2)\n",
      "Requirement already satisfied: threadpoolctl>=3.1.0 in /home/ec2-user/anaconda3/envs/python3/lib/python3.10/site-packages (from scikit-learn->mlforecast) (3.5.0)\n",
      "Collecting numpy>=1.17.0 (from lightgbm)\n",
      "  Downloading numpy-2.0.2-cp310-cp310-manylinux_2_17_x86_64.manylinux2014_x86_64.whl.metadata (60 kB)\n",
      "\u001b[2K     \u001b[90m━━━━━━━━━━━━━━━━━━━━━━━━━━━━━━━━━━━━━━━━\u001b[0m \u001b[32m60.9/60.9 kB\u001b[0m \u001b[31m16.4 MB/s\u001b[0m eta \u001b[36m0:00:00\u001b[0m\n",
      "\u001b[?25hRequirement already satisfied: six>=1.5 in /home/ec2-user/anaconda3/envs/python3/lib/python3.10/site-packages (from python-dateutil>=2.8.2->pandas->mlforecast) (1.16.0)\n",
      "Requirement already satisfied: MarkupSafe>=0.9.2 in /home/ec2-user/anaconda3/envs/python3/lib/python3.10/site-packages (from Mako->alembic>=1.5.0->optuna) (2.1.5)\n",
      "Downloading optuna-4.0.0-py3-none-any.whl (362 kB)\n",
      "\u001b[2K   \u001b[90m━━━━━━━━━━━━━━━━━━━━━━━━━━━━━━━━━━━━━━━━\u001b[0m \u001b[32m362.8/362.8 kB\u001b[0m \u001b[31m47.9 MB/s\u001b[0m eta \u001b[36m0:00:00\u001b[0m\n",
      "\u001b[?25hDownloading mlforecast-0.13.4-py3-none-any.whl (70 kB)\n",
      "\u001b[2K   \u001b[90m━━━━━━━━━━━━━━━━━━━━━━━━━━━━━━━━━━━━━━━━\u001b[0m \u001b[32m71.0/71.0 kB\u001b[0m \u001b[31m19.2 MB/s\u001b[0m eta \u001b[36m0:00:00\u001b[0m\n",
      "\u001b[?25hDownloading alembic-1.13.2-py3-none-any.whl (232 kB)\n",
      "\u001b[2K   \u001b[90m━━━━━━━━━━━━━━━━━━━━━━━━━━━━━━━━━━━━━━━━\u001b[0m \u001b[32m233.0/233.0 kB\u001b[0m \u001b[31m50.1 MB/s\u001b[0m eta \u001b[36m0:00:00\u001b[0m\n",
      "\u001b[?25hDownloading coreforecast-0.0.12-py3-none-manylinux_2_17_x86_64.manylinux2014_x86_64.whl (196 kB)\n",
      "\u001b[2K   \u001b[90m━━━━━━━━━━━━━━━━━━━━━━━━━━━━━━━━━━━━━━━━\u001b[0m \u001b[32m196.7/196.7 kB\u001b[0m \u001b[31m45.2 MB/s\u001b[0m eta \u001b[36m0:00:00\u001b[0m\n",
      "\u001b[?25hDownloading utilsforecast-0.2.4-py3-none-any.whl (40 kB)\n",
      "\u001b[2K   \u001b[90m━━━━━━━━━━━━━━━━━━━━━━━━━━━━━━━━━━━━━━━━\u001b[0m \u001b[32m40.3/40.3 kB\u001b[0m \u001b[31m10.8 MB/s\u001b[0m eta \u001b[36m0:00:00\u001b[0m\n",
      "\u001b[?25hDownloading colorlog-6.8.2-py3-none-any.whl (11 kB)\n",
      "Downloading numpy-2.0.2-cp310-cp310-manylinux_2_17_x86_64.manylinux2014_x86_64.whl (19.5 MB)\n",
      "\u001b[2K   \u001b[90m━━━━━━━━━━━━━━━━━━━━━━━━━━━━━━━━━━━━━━━━\u001b[0m \u001b[32m19.5/19.5 MB\u001b[0m \u001b[31m107.9 MB/s\u001b[0m eta \u001b[36m0:00:00\u001b[0m00:01\u001b[0m00:01\u001b[0m\n",
      "\u001b[?25hDownloading window_ops-0.0.15-py3-none-any.whl (15 kB)\n",
      "Downloading Mako-1.3.5-py3-none-any.whl (78 kB)\n",
      "\u001b[2K   \u001b[90m━━━━━━━━━━━━━━━━━━━━━━━━━━━━━━━━━━━━━━━━\u001b[0m \u001b[32m78.6/78.6 kB\u001b[0m \u001b[31m21.0 MB/s\u001b[0m eta \u001b[36m0:00:00\u001b[0m\n",
      "\u001b[?25hBuilding wheels for collected packages: lightgbm\n",
      "  Building wheel for lightgbm (pyproject.toml) ... \u001b[?25ldone\n",
      "\u001b[?25h  Created wheel for lightgbm: filename=lightgbm-4.5.0-py3-none-linux_x86_64.whl size=2740297 sha256=f1a164702001744f89c0383cc88fe11ac7765898137232f7dab3dde6b33f6ce6\n",
      "  Stored in directory: /home/ec2-user/.cache/pip/wheels/7c/16/bf/61bc6295609c0752bc0f5b774a41f3413bca3afe3a73d2e47d\n",
      "Successfully built lightgbm\n",
      "Installing collected packages: numpy, Mako, colorlog, coreforecast, alembic, window-ops, utilsforecast, optuna, lightgbm, mlforecast\n",
      "  Attempting uninstall: numpy\n",
      "    Found existing installation: numpy 1.22.4\n",
      "    Uninstalling numpy-1.22.4:\n",
      "      Successfully uninstalled numpy-1.22.4\n",
      "\u001b[31mERROR: pip's dependency resolver does not currently take into account all the packages that are installed. This behaviour is the source of the following dependency conflicts.\n",
      "mkl-fft 1.3.10 requires mkl, which is not installed.\n",
      "hdijupyterutils 0.21.0 requires pandas<2.0.0,>=0.17.1, but you have pandas 2.2.2 which is incompatible.\n",
      "sagemaker 2.229.0 requires numpy<2.0,>=1.9.0, but you have numpy 2.0.2 which is incompatible.\n",
      "sparkmagic 0.21.0 requires pandas<2.0.0,>=0.17.1, but you have pandas 2.2.2 which is incompatible.\u001b[0m\u001b[31m\n",
      "\u001b[0mSuccessfully installed Mako-1.3.5 alembic-1.13.2 colorlog-6.8.2 coreforecast-0.0.12 lightgbm-4.5.0 mlforecast-0.13.4 numpy-2.0.2 optuna-4.0.0 utilsforecast-0.2.4 window-ops-0.0.15\n"
     ]
    }
   ],
   "source": [
    "!pip install lightgbm optuna mlforecast"
   ]
  },
  {
   "cell_type": "code",
   "execution_count": 2,
   "metadata": {
    "colab": {
     "base_uri": "https://localhost:8080/"
    },
    "id": "iRB66y34ih-x",
    "outputId": "4f93a618-e1e6-4919-9330-99a4abbee523"
   },
   "outputs": [],
   "source": [
    "import numpy as np\n",
    "import pandas as pd\n",
    "\n",
    "from lightgbm import LGBMRegressor\n",
    "\n",
    "from sklearn.model_selection import TimeSeriesSplit, cross_val_score\n",
    "from sklearn.metrics import mean_absolute_error\n",
    "\n",
    "import logging\n",
    "import optuna\n",
    "\n",
    "# import mlflow\n",
    "\n",
    "import boto3\n",
    "\n",
    "import os\n",
    "import sys\n",
    "import yaml\n",
    "import time\n",
    "\n",
    "# Import custom modules\n",
    "sys.path.append(os.path.realpath(\"../../modules\"))\n",
    "from utils import train_test_split\n",
    "\n",
    "sys.path.append(os.path.realpath(\"../../preprocessing\"))\n",
    "from preprocessing import *\n",
    "\n",
    "import warnings\n",
    "\n",
    "warnings.filterwarnings(\"ignore\", category=UserWarning)"
   ]
  },
  {
   "cell_type": "markdown",
   "metadata": {
    "id": "lq5fM7Yrih-y"
   },
   "source": [
    "# Global variables"
   ]
  },
  {
   "cell_type": "code",
   "execution_count": 3,
   "metadata": {
    "id": "M6I6N6fKih-z"
   },
   "outputs": [],
   "source": [
    "forecast_horizon = 24\n",
    "n_lags = 48\n",
    "model_name = \"lightgbm\"\n",
    "feature_set_version = 2  # preprocessing version\n",
    "study_path = \"../optuna_studies\""
   ]
  },
  {
   "cell_type": "markdown",
   "metadata": {
    "id": "XmuI3e8HbsLf"
   },
   "source": [
    "# Import data from S3"
   ]
  },
  {
   "cell_type": "code",
   "execution_count": 4,
   "metadata": {
    "id": "8LYDJVthbsEJ"
   },
   "outputs": [],
   "source": [
    "def download_s3_folder(bucket_name, s3_folder, local_dir):\n",
    "    # Initialize S3 client\n",
    "    s3 = boto3.client(\"s3\")\n",
    "\n",
    "    # Ensure the local directory exists\n",
    "    if not os.path.exists(local_dir):\n",
    "        os.makedirs(local_dir)\n",
    "\n",
    "    # List objects within the specified S3 folder\n",
    "    paginator = s3.get_paginator(\"list_objects_v2\")\n",
    "    pages = paginator.paginate(Bucket=bucket_name, Prefix=s3_folder)\n",
    "\n",
    "    for page in pages:\n",
    "        if \"Contents\" in page:\n",
    "            for obj in page[\"Contents\"]:\n",
    "                # Get the path of the object key\n",
    "                s3_key = obj[\"Key\"]\n",
    "                if s3_key == s3_folder:\n",
    "                    continue\n",
    "                # Remove the prefix from the key to get the relative file path\n",
    "                relative_path = os.path.relpath(s3_key, s3_folder)\n",
    "\n",
    "                # Create the full local path\n",
    "                local_file_path = os.path.join(local_dir, relative_path)\n",
    "\n",
    "                # Create local directory if not exists\n",
    "                local_file_dir = os.path.dirname(local_file_path)\n",
    "                if not os.path.exists(local_file_dir):\n",
    "                    os.makedirs(local_file_dir)\n",
    "\n",
    "                # Download the file\n",
    "                print(f\"Downloading {s3_key} to {local_file_path}...\")\n",
    "                s3.download_file(bucket_name, s3_key, local_file_path)"
   ]
  },
  {
   "cell_type": "code",
   "execution_count": 5,
   "metadata": {
    "colab": {
     "base_uri": "https://localhost:8080/"
    },
    "id": "vQrutaD-dFn_",
    "outputId": "4c73c485-8a38-499f-fd29-a058f0b11c60"
   },
   "outputs": [
    {
     "name": "stdout",
     "output_type": "stream",
     "text": [
      "Existing buckets:\n",
      "  bs-ekratest\n",
      "  data-boris\n",
      "  elasticbeanstalk-eu-west-1-058264089030\n",
      "  projet-cobalt\n",
      "  projet-d2ian\n",
      "  projet-tirecs\n",
      "  raawn-project\n",
      "  rag-m-data\n",
      "  ragoud-pdf\n",
      "  sagemaker-eu-west-1-058264089030\n",
      "  sagemaker-studio-lbkxz4v2xkk\n",
      "  sagemaker-studio-pdxyk96esz\n",
      "  tirecs-melissarohart-tests\n"
     ]
    }
   ],
   "source": [
    "# Retrieve the list of existing buckets\n",
    "s3 = boto3.client(\"s3\")\n",
    "response = s3.list_buckets()\n",
    "\n",
    "# Output the bucket names\n",
    "print(\"Existing buckets:\")\n",
    "for bucket in response[\"Buckets\"]:\n",
    "    print(f'  {bucket[\"Name\"]}')"
   ]
  },
  {
   "cell_type": "code",
   "execution_count": 6,
   "metadata": {
    "colab": {
     "base_uri": "https://localhost:8080/"
    },
    "id": "JsF_aHdzcFLo",
    "outputId": "91f7eccd-4f96-4f83-b53a-670047176c95"
   },
   "outputs": [
    {
     "name": "stdout",
     "output_type": "stream",
     "text": [
      "Downloading data/consumption.csv to ../../data/consumption.csv...\n",
      "Downloading data/consumption_no_nan.csv to ../../data/consumption_no_nan.csv...\n",
      "Downloading data/data_json.json to ../../data/data_json.json...\n",
      "Downloading data/data_json_mlforecast.json to ../../data/data_json_mlforecast.json...\n",
      "Downloading data/data_json_small.json to ../../data/data_json_small.json...\n",
      "Downloading data/data_json_test.json to ../../data/data_json_test.json...\n",
      "Downloading data/df_hat.csv to ../../data/df_hat.csv...\n",
      "Downloading data/production.csv to ../../data/production.csv...\n"
     ]
    }
   ],
   "source": [
    "bucket_name = \"projet-cobalt\"\n",
    "s3_folders = [\"data/\", \"optuna_studies/\"]  # These are the \"folders\" in the S3 bucket\n",
    "local_dirs = [\"../../data/\", \"../optuna_studies/\"]  # Local directory to save files\n",
    "\n",
    "for s3_folder, local_dir in zip(s3_folders, local_dirs):\n",
    "    download_s3_folder(bucket_name, s3_folder, local_dir)"
   ]
  },
  {
   "cell_type": "markdown",
   "metadata": {
    "id": "-LkFxhqbih-z"
   },
   "source": [
    "# Import Data"
   ]
  },
  {
   "cell_type": "code",
   "execution_count": 7,
   "metadata": {
    "colab": {
     "base_uri": "https://localhost:8080/",
     "height": 206
    },
    "id": "XpK8I4IGih-z",
    "outputId": "47a31ca2-313f-4b93-91fb-faadf48abb86"
   },
   "outputs": [
    {
     "data": {
      "text/html": [
       "<div>\n",
       "<style scoped>\n",
       "    .dataframe tbody tr th:only-of-type {\n",
       "        vertical-align: middle;\n",
       "    }\n",
       "\n",
       "    .dataframe tbody tr th {\n",
       "        vertical-align: top;\n",
       "    }\n",
       "\n",
       "    .dataframe thead th {\n",
       "        text-align: right;\n",
       "    }\n",
       "</style>\n",
       "<table border=\"1\" class=\"dataframe\">\n",
       "  <thead>\n",
       "    <tr style=\"text-align: right;\">\n",
       "      <th></th>\n",
       "      <th>unique_id</th>\n",
       "      <th>ds</th>\n",
       "      <th>y</th>\n",
       "    </tr>\n",
       "  </thead>\n",
       "  <tbody>\n",
       "    <tr>\n",
       "      <th>0</th>\n",
       "      <td>0</td>\n",
       "      <td>2021-09-01</td>\n",
       "      <td>96.590</td>\n",
       "    </tr>\n",
       "    <tr>\n",
       "      <th>1</th>\n",
       "      <td>1</td>\n",
       "      <td>2021-09-01</td>\n",
       "      <td>17.314</td>\n",
       "    </tr>\n",
       "    <tr>\n",
       "      <th>2</th>\n",
       "      <td>2</td>\n",
       "      <td>2021-09-01</td>\n",
       "      <td>656.859</td>\n",
       "    </tr>\n",
       "    <tr>\n",
       "      <th>3</th>\n",
       "      <td>3</td>\n",
       "      <td>2021-09-01</td>\n",
       "      <td>59.000</td>\n",
       "    </tr>\n",
       "    <tr>\n",
       "      <th>4</th>\n",
       "      <td>4</td>\n",
       "      <td>2021-09-01</td>\n",
       "      <td>501.760</td>\n",
       "    </tr>\n",
       "  </tbody>\n",
       "</table>\n",
       "</div>"
      ],
      "text/plain": [
       "   unique_id         ds        y\n",
       "0          0 2021-09-01   96.590\n",
       "1          1 2021-09-01   17.314\n",
       "2          2 2021-09-01  656.859\n",
       "3          3 2021-09-01   59.000\n",
       "4          4 2021-09-01  501.760"
      ]
     },
     "execution_count": 7,
     "metadata": {},
     "output_type": "execute_result"
    }
   ],
   "source": [
    "df = pd.read_csv(\n",
    "    \"../../data/consumption.csv\", usecols=[\"prediction_unit_id\", \"datetime\", \"target\"]\n",
    ")[[\"prediction_unit_id\", \"datetime\", \"target\"]].rename(\n",
    "    columns={\"prediction_unit_id\": \"unique_id\", \"datetime\": \"ds\", \"target\": \"y\"}\n",
    ")\n",
    "df[\"ds\"] = pd.to_datetime(df[\"ds\"])\n",
    "df.head()"
   ]
  },
  {
   "cell_type": "code",
   "execution_count": 8,
   "metadata": {
    "colab": {
     "base_uri": "https://localhost:8080/"
    },
    "id": "uLCPNu7Kih-0",
    "outputId": "1d924a6e-ca96-4968-ae5b-c46c4073f706"
   },
   "outputs": [
    {
     "data": {
      "text/plain": [
       "(1009176, 3)"
      ]
     },
     "execution_count": 8,
     "metadata": {},
     "output_type": "execute_result"
    }
   ],
   "source": [
    "df.shape"
   ]
  },
  {
   "cell_type": "markdown",
   "metadata": {
    "id": "jVbL2lCcih-1"
   },
   "source": [
    "# Train/Test split"
   ]
  },
  {
   "cell_type": "code",
   "execution_count": 9,
   "metadata": {
    "id": "-nmY1sibih-1"
   },
   "outputs": [],
   "source": [
    "# taking the last 60 days of each unit for test\n",
    "df_train, df_test = train_test_split(df, test_window=24 * 60)"
   ]
  },
  {
   "cell_type": "code",
   "execution_count": 10,
   "metadata": {
    "colab": {
     "base_uri": "https://localhost:8080/"
    },
    "id": "fH1OFTmOih-1",
    "outputId": "7f2991b4-8721-4fd4-dba4-99039bee620f"
   },
   "outputs": [
    {
     "data": {
      "text/plain": [
       "True"
      ]
     },
     "execution_count": 10,
     "metadata": {},
     "output_type": "execute_result"
    }
   ],
   "source": [
    "df.shape[0] == df_train.shape[0] + df_test.shape[0]"
   ]
  },
  {
   "cell_type": "code",
   "execution_count": 11,
   "metadata": {
    "colab": {
     "base_uri": "https://localhost:8080/"
    },
    "id": "bgc7Ypr2ih-1",
    "outputId": "1762ad84-4713-4ba3-a89d-2e81c1bb8ada"
   },
   "outputs": [
    {
     "data": {
      "text/plain": [
       "True"
      ]
     },
     "execution_count": 11,
     "metadata": {},
     "output_type": "execute_result"
    }
   ],
   "source": [
    "df.shape[1] == df_train.shape[1] == df_test.shape[1]"
   ]
  },
  {
   "cell_type": "code",
   "execution_count": 12,
   "metadata": {
    "colab": {
     "base_uri": "https://localhost:8080/"
    },
    "id": "yCd56qwtih-1",
    "outputId": "5bdf8e49-1248-46cd-e7d7-ff219ea99735"
   },
   "outputs": [
    {
     "name": "stdout",
     "output_type": "stream",
     "text": [
      "test set : 9.85% of the data set\n"
     ]
    }
   ],
   "source": [
    "test_size = df_test.shape[0] / (df.shape[0])\n",
    "print(f\"test set : {round(test_size*100, 2)}% of the data set\")"
   ]
  },
  {
   "cell_type": "markdown",
   "metadata": {
    "id": "jRfk9JN5ih-2"
   },
   "source": [
    "# Preprocessing"
   ]
  },
  {
   "cell_type": "code",
   "execution_count": 13,
   "metadata": {
    "id": "eTz6qqDNih-2"
   },
   "outputs": [],
   "source": [
    "preprocessing = vars()[f\"preprocessing_{feature_set_version}\"]"
   ]
  },
  {
   "cell_type": "code",
   "execution_count": 14,
   "metadata": {
    "colab": {
     "base_uri": "https://localhost:8080/",
     "height": 342
    },
    "id": "CfOWjjSzih-2",
    "outputId": "ce06008a-c1cc-42b6-f0a0-5b245de75356"
   },
   "outputs": [
    {
     "name": "stdout",
     "output_type": "stream",
     "text": [
      "(855591, 99) (855591,)\n"
     ]
    },
    {
     "name": "stderr",
     "output_type": "stream",
     "text": [
      "/home/ec2-user/anaconda3/envs/python3/lib/python3.10/site-packages/mlforecast/core.py:454: PerformanceWarning: DataFrame is highly fragmented.  This is usually the result of calling `frame.insert` many times, which has poor performance.  Consider joining all columns at once using pd.concat(axis=1) instead. To get a de-fragmented frame, use `newframe = frame.copy()`\n",
      "  df[feat_name] = feat_vals[restore_idxs]\n",
      "/home/ec2-user/anaconda3/envs/python3/lib/python3.10/site-packages/mlforecast/core.py:454: PerformanceWarning: DataFrame is highly fragmented.  This is usually the result of calling `frame.insert` many times, which has poor performance.  Consider joining all columns at once using pd.concat(axis=1) instead. To get a de-fragmented frame, use `newframe = frame.copy()`\n",
      "  df[feat_name] = feat_vals[restore_idxs]\n"
     ]
    },
    {
     "data": {
      "text/html": [
       "<div>\n",
       "<style scoped>\n",
       "    .dataframe tbody tr th:only-of-type {\n",
       "        vertical-align: middle;\n",
       "    }\n",
       "\n",
       "    .dataframe tbody tr th {\n",
       "        vertical-align: top;\n",
       "    }\n",
       "\n",
       "    .dataframe thead th {\n",
       "        text-align: right;\n",
       "    }\n",
       "</style>\n",
       "<table border=\"1\" class=\"dataframe\">\n",
       "  <thead>\n",
       "    <tr style=\"text-align: right;\">\n",
       "      <th></th>\n",
       "      <th>lag24</th>\n",
       "      <th>lag25</th>\n",
       "      <th>lag26</th>\n",
       "      <th>lag27</th>\n",
       "      <th>lag28</th>\n",
       "      <th>lag29</th>\n",
       "      <th>lag30</th>\n",
       "      <th>lag31</th>\n",
       "      <th>lag32</th>\n",
       "      <th>lag33</th>\n",
       "      <th>...</th>\n",
       "      <th>rolling_mean_lag44_window_size24</th>\n",
       "      <th>expanding_mean_lag45</th>\n",
       "      <th>rolling_mean_lag45_window_size24</th>\n",
       "      <th>expanding_mean_lag46</th>\n",
       "      <th>rolling_mean_lag46_window_size24</th>\n",
       "      <th>expanding_mean_lag47</th>\n",
       "      <th>rolling_mean_lag47_window_size24</th>\n",
       "      <th>month</th>\n",
       "      <th>dayofweek</th>\n",
       "      <th>hour</th>\n",
       "    </tr>\n",
       "  </thead>\n",
       "  <tbody>\n",
       "    <tr>\n",
       "      <th>4331</th>\n",
       "      <td>120.540</td>\n",
       "      <td>134.986</td>\n",
       "      <td>150.412</td>\n",
       "      <td>152.763</td>\n",
       "      <td>136.130</td>\n",
       "      <td>121.033</td>\n",
       "      <td>80.621</td>\n",
       "      <td>43.428</td>\n",
       "      <td>46.840</td>\n",
       "      <td>43.671</td>\n",
       "      <td>...</td>\n",
       "      <td>82.505417</td>\n",
       "      <td>82.612111</td>\n",
       "      <td>81.860500</td>\n",
       "      <td>81.756654</td>\n",
       "      <td>81.308000</td>\n",
       "      <td>81.145600</td>\n",
       "      <td>80.502083</td>\n",
       "      <td>9</td>\n",
       "      <td>4</td>\n",
       "      <td>23</td>\n",
       "    </tr>\n",
       "    <tr>\n",
       "      <th>4392</th>\n",
       "      <td>107.129</td>\n",
       "      <td>120.540</td>\n",
       "      <td>134.986</td>\n",
       "      <td>150.412</td>\n",
       "      <td>152.763</td>\n",
       "      <td>136.130</td>\n",
       "      <td>121.033</td>\n",
       "      <td>80.621</td>\n",
       "      <td>43.428</td>\n",
       "      <td>46.840</td>\n",
       "      <td>...</td>\n",
       "      <td>83.241833</td>\n",
       "      <td>83.355714</td>\n",
       "      <td>82.505417</td>\n",
       "      <td>82.612111</td>\n",
       "      <td>81.860500</td>\n",
       "      <td>81.756654</td>\n",
       "      <td>81.308000</td>\n",
       "      <td>9</td>\n",
       "      <td>5</td>\n",
       "      <td>0</td>\n",
       "    </tr>\n",
       "    <tr>\n",
       "      <th>4453</th>\n",
       "      <td>81.920</td>\n",
       "      <td>107.129</td>\n",
       "      <td>120.540</td>\n",
       "      <td>134.986</td>\n",
       "      <td>150.412</td>\n",
       "      <td>152.763</td>\n",
       "      <td>136.130</td>\n",
       "      <td>121.033</td>\n",
       "      <td>80.621</td>\n",
       "      <td>43.428</td>\n",
       "      <td>...</td>\n",
       "      <td>83.893958</td>\n",
       "      <td>84.131655</td>\n",
       "      <td>83.241833</td>\n",
       "      <td>83.355714</td>\n",
       "      <td>82.505417</td>\n",
       "      <td>82.612111</td>\n",
       "      <td>81.860500</td>\n",
       "      <td>9</td>\n",
       "      <td>5</td>\n",
       "      <td>1</td>\n",
       "    </tr>\n",
       "    <tr>\n",
       "      <th>4514</th>\n",
       "      <td>96.193</td>\n",
       "      <td>81.920</td>\n",
       "      <td>107.129</td>\n",
       "      <td>120.540</td>\n",
       "      <td>134.986</td>\n",
       "      <td>150.412</td>\n",
       "      <td>152.763</td>\n",
       "      <td>136.130</td>\n",
       "      <td>121.033</td>\n",
       "      <td>80.621</td>\n",
       "      <td>...</td>\n",
       "      <td>84.539375</td>\n",
       "      <td>84.841667</td>\n",
       "      <td>83.893958</td>\n",
       "      <td>84.131655</td>\n",
       "      <td>83.241833</td>\n",
       "      <td>83.355714</td>\n",
       "      <td>82.505417</td>\n",
       "      <td>9</td>\n",
       "      <td>5</td>\n",
       "      <td>2</td>\n",
       "    </tr>\n",
       "    <tr>\n",
       "      <th>4575</th>\n",
       "      <td>94.536</td>\n",
       "      <td>96.193</td>\n",
       "      <td>81.920</td>\n",
       "      <td>107.129</td>\n",
       "      <td>120.540</td>\n",
       "      <td>134.986</td>\n",
       "      <td>150.412</td>\n",
       "      <td>152.763</td>\n",
       "      <td>136.130</td>\n",
       "      <td>121.033</td>\n",
       "      <td>...</td>\n",
       "      <td>84.552333</td>\n",
       "      <td>85.716806</td>\n",
       "      <td>84.539375</td>\n",
       "      <td>84.841667</td>\n",
       "      <td>83.893958</td>\n",
       "      <td>84.131655</td>\n",
       "      <td>83.241833</td>\n",
       "      <td>9</td>\n",
       "      <td>5</td>\n",
       "      <td>3</td>\n",
       "    </tr>\n",
       "  </tbody>\n",
       "</table>\n",
       "<p>5 rows × 99 columns</p>\n",
       "</div>"
      ],
      "text/plain": [
       "        lag24    lag25    lag26    lag27    lag28    lag29    lag30    lag31  \\\n",
       "4331  120.540  134.986  150.412  152.763  136.130  121.033   80.621   43.428   \n",
       "4392  107.129  120.540  134.986  150.412  152.763  136.130  121.033   80.621   \n",
       "4453   81.920  107.129  120.540  134.986  150.412  152.763  136.130  121.033   \n",
       "4514   96.193   81.920  107.129  120.540  134.986  150.412  152.763  136.130   \n",
       "4575   94.536   96.193   81.920  107.129  120.540  134.986  150.412  152.763   \n",
       "\n",
       "        lag32    lag33  ...  rolling_mean_lag44_window_size24  \\\n",
       "4331   46.840   43.671  ...                         82.505417   \n",
       "4392   43.428   46.840  ...                         83.241833   \n",
       "4453   80.621   43.428  ...                         83.893958   \n",
       "4514  121.033   80.621  ...                         84.539375   \n",
       "4575  136.130  121.033  ...                         84.552333   \n",
       "\n",
       "      expanding_mean_lag45  rolling_mean_lag45_window_size24  \\\n",
       "4331             82.612111                         81.860500   \n",
       "4392             83.355714                         82.505417   \n",
       "4453             84.131655                         83.241833   \n",
       "4514             84.841667                         83.893958   \n",
       "4575             85.716806                         84.539375   \n",
       "\n",
       "      expanding_mean_lag46  rolling_mean_lag46_window_size24  \\\n",
       "4331             81.756654                         81.308000   \n",
       "4392             82.612111                         81.860500   \n",
       "4453             83.355714                         82.505417   \n",
       "4514             84.131655                         83.241833   \n",
       "4575             84.841667                         83.893958   \n",
       "\n",
       "      expanding_mean_lag47  rolling_mean_lag47_window_size24  month  \\\n",
       "4331             81.145600                         80.502083      9   \n",
       "4392             81.756654                         81.308000      9   \n",
       "4453             82.612111                         81.860500      9   \n",
       "4514             83.355714                         82.505417      9   \n",
       "4575             84.131655                         83.241833      9   \n",
       "\n",
       "      dayofweek  hour  \n",
       "4331          4    23  \n",
       "4392          5     0  \n",
       "4453          5     1  \n",
       "4514          5     2  \n",
       "4575          5     3  \n",
       "\n",
       "[5 rows x 99 columns]"
      ]
     },
     "execution_count": 14,
     "metadata": {},
     "output_type": "execute_result"
    }
   ],
   "source": [
    "X_train, y_train = preprocessing(df_train)\n",
    "print(X_train.shape, y_train.shape)\n",
    "X_train.head()"
   ]
  },
  {
   "cell_type": "code",
   "execution_count": 15,
   "metadata": {
    "colab": {
     "base_uri": "https://localhost:8080/",
     "height": 342
    },
    "id": "EOBDHKTaih-2",
    "outputId": "e54c6ac1-6759-4e8f-8048-d6a052fa38b8"
   },
   "outputs": [
    {
     "name": "stdout",
     "output_type": "stream",
     "text": [
      "(86247, 99) (86247,)\n"
     ]
    },
    {
     "name": "stderr",
     "output_type": "stream",
     "text": [
      "/home/ec2-user/anaconda3/envs/python3/lib/python3.10/site-packages/mlforecast/core.py:454: PerformanceWarning: DataFrame is highly fragmented.  This is usually the result of calling `frame.insert` many times, which has poor performance.  Consider joining all columns at once using pd.concat(axis=1) instead. To get a de-fragmented frame, use `newframe = frame.copy()`\n",
      "  df[feat_name] = feat_vals[restore_idxs]\n",
      "/home/ec2-user/anaconda3/envs/python3/lib/python3.10/site-packages/mlforecast/core.py:454: PerformanceWarning: DataFrame is highly fragmented.  This is usually the result of calling `frame.insert` many times, which has poor performance.  Consider joining all columns at once using pd.concat(axis=1) instead. To get a de-fragmented frame, use `newframe = frame.copy()`\n",
      "  df[feat_name] = feat_vals[restore_idxs]\n"
     ]
    },
    {
     "data": {
      "text/html": [
       "<div>\n",
       "<style scoped>\n",
       "    .dataframe tbody tr th:only-of-type {\n",
       "        vertical-align: middle;\n",
       "    }\n",
       "\n",
       "    .dataframe tbody tr th {\n",
       "        vertical-align: top;\n",
       "    }\n",
       "\n",
       "    .dataframe thead th {\n",
       "        text-align: right;\n",
       "    }\n",
       "</style>\n",
       "<table border=\"1\" class=\"dataframe\">\n",
       "  <thead>\n",
       "    <tr style=\"text-align: right;\">\n",
       "      <th></th>\n",
       "      <th>lag24</th>\n",
       "      <th>lag25</th>\n",
       "      <th>lag26</th>\n",
       "      <th>lag27</th>\n",
       "      <th>lag28</th>\n",
       "      <th>lag29</th>\n",
       "      <th>lag30</th>\n",
       "      <th>lag31</th>\n",
       "      <th>lag32</th>\n",
       "      <th>lag33</th>\n",
       "      <th>...</th>\n",
       "      <th>rolling_mean_lag44_window_size24</th>\n",
       "      <th>expanding_mean_lag45</th>\n",
       "      <th>rolling_mean_lag45_window_size24</th>\n",
       "      <th>expanding_mean_lag46</th>\n",
       "      <th>rolling_mean_lag46_window_size24</th>\n",
       "      <th>expanding_mean_lag47</th>\n",
       "      <th>rolling_mean_lag47_window_size24</th>\n",
       "      <th>month</th>\n",
       "      <th>dayofweek</th>\n",
       "      <th>hour</th>\n",
       "    </tr>\n",
       "  </thead>\n",
       "  <tbody>\n",
       "    <tr>\n",
       "      <th>918702</th>\n",
       "      <td>1057.285</td>\n",
       "      <td>1107.518</td>\n",
       "      <td>1177.874</td>\n",
       "      <td>1114.973</td>\n",
       "      <td>860.687</td>\n",
       "      <td>624.847</td>\n",
       "      <td>382.365</td>\n",
       "      <td>246.753</td>\n",
       "      <td>193.661</td>\n",
       "      <td>160.944</td>\n",
       "      <td>...</td>\n",
       "      <td>722.741458</td>\n",
       "      <td>747.325111</td>\n",
       "      <td>723.395542</td>\n",
       "      <td>740.683269</td>\n",
       "      <td>723.535208</td>\n",
       "      <td>734.978880</td>\n",
       "      <td>725.296292</td>\n",
       "      <td>4</td>\n",
       "      <td>1</td>\n",
       "      <td>23</td>\n",
       "    </tr>\n",
       "    <tr>\n",
       "      <th>918768</th>\n",
       "      <td>1055.621</td>\n",
       "      <td>1057.285</td>\n",
       "      <td>1107.518</td>\n",
       "      <td>1177.874</td>\n",
       "      <td>1114.973</td>\n",
       "      <td>860.687</td>\n",
       "      <td>624.847</td>\n",
       "      <td>382.365</td>\n",
       "      <td>246.753</td>\n",
       "      <td>193.661</td>\n",
       "      <td>...</td>\n",
       "      <td>723.696750</td>\n",
       "      <td>753.981429</td>\n",
       "      <td>722.741458</td>\n",
       "      <td>747.325111</td>\n",
       "      <td>723.395542</td>\n",
       "      <td>740.683269</td>\n",
       "      <td>723.535208</td>\n",
       "      <td>4</td>\n",
       "      <td>2</td>\n",
       "      <td>0</td>\n",
       "    </tr>\n",
       "    <tr>\n",
       "      <th>918833</th>\n",
       "      <td>999.628</td>\n",
       "      <td>1055.621</td>\n",
       "      <td>1057.285</td>\n",
       "      <td>1107.518</td>\n",
       "      <td>1177.874</td>\n",
       "      <td>1114.973</td>\n",
       "      <td>860.687</td>\n",
       "      <td>624.847</td>\n",
       "      <td>382.365</td>\n",
       "      <td>246.753</td>\n",
       "      <td>...</td>\n",
       "      <td>724.803458</td>\n",
       "      <td>761.656966</td>\n",
       "      <td>723.696750</td>\n",
       "      <td>753.981429</td>\n",
       "      <td>722.741458</td>\n",
       "      <td>747.325111</td>\n",
       "      <td>723.395542</td>\n",
       "      <td>4</td>\n",
       "      <td>2</td>\n",
       "      <td>1</td>\n",
       "    </tr>\n",
       "    <tr>\n",
       "      <th>918898</th>\n",
       "      <td>1001.917</td>\n",
       "      <td>999.628</td>\n",
       "      <td>1055.621</td>\n",
       "      <td>1057.285</td>\n",
       "      <td>1107.518</td>\n",
       "      <td>1177.874</td>\n",
       "      <td>1114.973</td>\n",
       "      <td>860.687</td>\n",
       "      <td>624.847</td>\n",
       "      <td>382.365</td>\n",
       "      <td>...</td>\n",
       "      <td>726.249667</td>\n",
       "      <td>769.130867</td>\n",
       "      <td>724.803458</td>\n",
       "      <td>761.656966</td>\n",
       "      <td>723.696750</td>\n",
       "      <td>753.981429</td>\n",
       "      <td>722.741458</td>\n",
       "      <td>4</td>\n",
       "      <td>2</td>\n",
       "      <td>2</td>\n",
       "    </tr>\n",
       "    <tr>\n",
       "      <th>918963</th>\n",
       "      <td>1014.902</td>\n",
       "      <td>1001.917</td>\n",
       "      <td>999.628</td>\n",
       "      <td>1055.621</td>\n",
       "      <td>1057.285</td>\n",
       "      <td>1107.518</td>\n",
       "      <td>1177.874</td>\n",
       "      <td>1114.973</td>\n",
       "      <td>860.687</td>\n",
       "      <td>624.847</td>\n",
       "      <td>...</td>\n",
       "      <td>731.313625</td>\n",
       "      <td>778.516258</td>\n",
       "      <td>726.249667</td>\n",
       "      <td>769.130867</td>\n",
       "      <td>724.803458</td>\n",
       "      <td>761.656966</td>\n",
       "      <td>723.696750</td>\n",
       "      <td>4</td>\n",
       "      <td>2</td>\n",
       "      <td>3</td>\n",
       "    </tr>\n",
       "  </tbody>\n",
       "</table>\n",
       "<p>5 rows × 99 columns</p>\n",
       "</div>"
      ],
      "text/plain": [
       "           lag24     lag25     lag26     lag27     lag28     lag29     lag30  \\\n",
       "918702  1057.285  1107.518  1177.874  1114.973   860.687   624.847   382.365   \n",
       "918768  1055.621  1057.285  1107.518  1177.874  1114.973   860.687   624.847   \n",
       "918833   999.628  1055.621  1057.285  1107.518  1177.874  1114.973   860.687   \n",
       "918898  1001.917   999.628  1055.621  1057.285  1107.518  1177.874  1114.973   \n",
       "918963  1014.902  1001.917   999.628  1055.621  1057.285  1107.518  1177.874   \n",
       "\n",
       "           lag31    lag32    lag33  ...  rolling_mean_lag44_window_size24  \\\n",
       "918702   246.753  193.661  160.944  ...                        722.741458   \n",
       "918768   382.365  246.753  193.661  ...                        723.696750   \n",
       "918833   624.847  382.365  246.753  ...                        724.803458   \n",
       "918898   860.687  624.847  382.365  ...                        726.249667   \n",
       "918963  1114.973  860.687  624.847  ...                        731.313625   \n",
       "\n",
       "        expanding_mean_lag45  rolling_mean_lag45_window_size24  \\\n",
       "918702            747.325111                        723.395542   \n",
       "918768            753.981429                        722.741458   \n",
       "918833            761.656966                        723.696750   \n",
       "918898            769.130867                        724.803458   \n",
       "918963            778.516258                        726.249667   \n",
       "\n",
       "        expanding_mean_lag46  rolling_mean_lag46_window_size24  \\\n",
       "918702            740.683269                        723.535208   \n",
       "918768            747.325111                        723.395542   \n",
       "918833            753.981429                        722.741458   \n",
       "918898            761.656966                        723.696750   \n",
       "918963            769.130867                        724.803458   \n",
       "\n",
       "        expanding_mean_lag47  rolling_mean_lag47_window_size24  month  \\\n",
       "918702            734.978880                        725.296292      4   \n",
       "918768            740.683269                        723.535208      4   \n",
       "918833            747.325111                        723.395542      4   \n",
       "918898            753.981429                        722.741458      4   \n",
       "918963            761.656966                        723.696750      4   \n",
       "\n",
       "        dayofweek  hour  \n",
       "918702          1    23  \n",
       "918768          2     0  \n",
       "918833          2     1  \n",
       "918898          2     2  \n",
       "918963          2     3  \n",
       "\n",
       "[5 rows x 99 columns]"
      ]
     },
     "execution_count": 15,
     "metadata": {},
     "output_type": "execute_result"
    }
   ],
   "source": [
    "X_test, y_test = preprocessing(df_test)\n",
    "print(X_test.shape, y_test.shape)\n",
    "X_test.head()"
   ]
  },
  {
   "cell_type": "markdown",
   "metadata": {
    "id": "n8XGLu6Eih-3"
   },
   "source": [
    "# HPO with Optuna"
   ]
  },
  {
   "cell_type": "markdown",
   "metadata": {
    "id": "5azIg1jxih-3"
   },
   "source": [
    "## Define objective function"
   ]
  },
  {
   "cell_type": "code",
   "execution_count": 16,
   "metadata": {
    "id": "2QNdlbdYih-4"
   },
   "outputs": [],
   "source": [
    "# # Define an objective function to be minimized\n",
    "# def objective(trial):\n",
    "#   # Define hyperparameters\n",
    "#   study_params = {\n",
    "#       \"verbosity\": -1,\n",
    "#       \"random_state\": 0,\n",
    "#       \"num_trees\": trial.suggest_int(\"num_trees\", 10, 500, log=False),\n",
    "#       \"learning_rate\": trial.suggest_float(\"learning_rate\", 0.0001, 0.1, log=True),\n",
    "#       \"max_depth\": trial.suggest_int(\"max_depth\", 10, 100),\n",
    "#       \"num_leaves\": trial.suggest_int(\"num_leaves\", 10, 100),\n",
    "#       # \"min_data_in_leaf\": trial.suggest_int(\"min_data_in_leaf\", 10, 500, log=True\n",
    "#       \"feature_fraction\": trial.suggest_float(\"feature_fraction\", 0.1, 1.0),\n",
    "#       \"min_data_in_leaf\": trial.suggest_int(\"min_data_in_leaf\", 10, 500, log=True),\n",
    "#   }\n",
    "\n",
    "#   # Train model with cross-validation\n",
    "#   tscv = TimeSeriesSplit(n_splits=5)\n",
    "#   model = LGBMRegressor(**study_params)\n",
    "#   errors = cross_val_score(model, X_train, y_train, scoring=\"neg_mean_absolute_error\", cv=tscv)\n",
    "#   errors = -errors\n",
    "\n",
    "#   return errors.mean()"
   ]
  },
  {
   "cell_type": "code",
   "execution_count": 17,
   "metadata": {
    "id": "fyAwsa33y1vi"
   },
   "outputs": [],
   "source": [
    "# import inspect\n",
    "\n",
    "# # Get the code of the study and save it\n",
    "# source_code = inspect.getsource(objective)\n",
    "# function_name = f\"{model_name}-objective{objective_function_version}.py\"\n",
    "# with open(f\"{study_path}/objective_functions/{function_name}\", \"w\") as file:\n",
    "#   file.write(source_code)\n",
    "\n",
    "# with open(f\"{study_path}/objective_functions/{function_name}\", \"rb\") as file:\n",
    "#   s3.upload_fileobj(file, bucket_name, f\"optuna-studies/objective_functions/{function_name}\")"
   ]
  },
  {
   "cell_type": "code",
   "execution_count": 18,
   "metadata": {
    "id": "aaN7QKF8_H3f"
   },
   "outputs": [],
   "source": [
    "experiment_config = {\n",
    "    \"objective_params\": {\n",
    "        \"num_trees\": {\n",
    "            \"min\": 100,\n",
    "            \"max\": 1000,\n",
    "            \"log\": True,\n",
    "        },\n",
    "        \"learning_rate\": {\n",
    "            \"min\": 0.0001,\n",
    "            \"max\": 0.1,\n",
    "            \"log\": True,\n",
    "        },\n",
    "        \"max_depth\": {\n",
    "            \"min\": 3,\n",
    "            \"max\": 8,\n",
    "        },\n",
    "        \"num_leaves\": {\n",
    "            \"min\": 5,\n",
    "            \"max\": 25,\n",
    "        },\n",
    "        \"feature_fraction\": {\n",
    "            \"min\": 0.1,\n",
    "            \"max\": 0.75,\n",
    "        },\n",
    "    },\n",
    "    \"objective_values\": \"mean\",\n",
    "}"
   ]
  },
  {
   "cell_type": "code",
   "execution_count": 19,
   "metadata": {
    "id": "ePdR-9l_QD5A"
   },
   "outputs": [],
   "source": [
    "# os.mkdir(f\"../configuration_files/\")\n",
    "# os.mkdir(f\"../configuration_files/lightgbm_experiments\")"
   ]
  },
  {
   "cell_type": "code",
   "execution_count": 20,
   "metadata": {
    "id": "VSFb9evCrXhZ"
   },
   "outputs": [],
   "source": [
    "config_version = 1\n",
    "config_files_path = f\"../configuration_files/{model_name}_experiments\"\n",
    "list_config_files = os.listdir(config_files_path)\n",
    "list_config_files = [file for file in list_config_files if file.split(\".\")[1] == \"yaml\"]\n",
    "n_config_files = len(list_config_files)\n",
    "if n_config_files == 0:\n",
    "    with open(f\"{config_files_path}/config1.yaml\", \"w\") as file:\n",
    "        yaml.dump(experiment_config, file)\n",
    "else:\n",
    "    for config_file in list_config_files:\n",
    "        with open(f\"{config_files_path}/{config_file}\", \"rb\") as file:\n",
    "            config = yaml.safe_load(file)\n",
    "        if experiment_config == config:\n",
    "            break\n",
    "        config_version += 1\n",
    "        if config_version > n_config_files:\n",
    "            with open(f\"{config_files_path}/config{config_version}.yaml\", \"w\") as file:\n",
    "                yaml.dump(experiment_config, file)"
   ]
  },
  {
   "cell_type": "code",
   "execution_count": 29,
   "metadata": {},
   "outputs": [],
   "source": [
    "with open(f\"{config_files_path}/config{config_version}.yaml\", \"rb\") as file:\n",
    "    config = yaml.safe_load(file)"
   ]
  },
  {
   "cell_type": "code",
   "execution_count": 39,
   "metadata": {},
   "outputs": [],
   "source": [
    "# upload configuration files to S3\n",
    "for file in os.listdir(config_files_path):\n",
    "    s3.upload_file(\n",
    "        f\"{config_files_path}/{file}\",\n",
    "        bucket_name,\n",
    "        \"/\".join(config_files_path.split(\"/\")[1:]) + \"/\" + file,\n",
    "    )"
   ]
  },
  {
   "cell_type": "code",
   "execution_count": 40,
   "metadata": {
    "id": "PZvIH5STQpZ6"
   },
   "outputs": [],
   "source": [
    "# list_a = [1, 2, 3]\n",
    "# list_b = [1, 2, 3, 4, 5]\n",
    "\n",
    "# # Check if all elements of list_a are in list_b\n",
    "# result = all(elem in list_b for elem in list_a)\n",
    "# print(result)"
   ]
  },
  {
   "cell_type": "code",
   "execution_count": 41,
   "metadata": {
    "id": "MnLOPuYX_YQ7"
   },
   "outputs": [],
   "source": [
    "def objective(trial):\n",
    "    # Define hyperparameters\n",
    "    study_params = {\n",
    "        \"verbosity\": -1,\n",
    "        \"random_state\": 0,\n",
    "    }\n",
    "    objective_params = config[\"objective_params\"]\n",
    "    if \"num_trees\" in config[\"objective_params\"].keys():\n",
    "        study_params[\"num_trees\"] = trial.suggest_int(\n",
    "            name=\"num_trees\",\n",
    "            low=objective_params[\"num_trees\"][\"min\"],\n",
    "            high=objective_params[\"num_trees\"][\"max\"],\n",
    "            log=objective_params[\"num_trees\"][\"log\"],\n",
    "        )\n",
    "    if \"learning_rate\" in config[\"objective_params\"].keys():\n",
    "        study_params[\"learning_rate\"] = trial.suggest_float(\n",
    "            name=\"learning_rate\",\n",
    "            low=objective_params[\"learning_rate\"][\"min\"],\n",
    "            high=objective_params[\"learning_rate\"][\"max\"],\n",
    "            log=objective_params[\"learning_rate\"][\"log\"],\n",
    "        )\n",
    "    if \"max_depth\" in config[\"objective_params\"].keys():\n",
    "        study_params[\"max_depth\"] = trial.suggest_int(\n",
    "            name=\"max_depth\",\n",
    "            low=objective_params[\"max_depth\"][\"min\"],\n",
    "            high=objective_params[\"max_depth\"][\"max\"],\n",
    "        )\n",
    "    if \"num_leaves\" in config[\"objective_params\"].keys():\n",
    "        study_params[\"num_leaves\"] = trial.suggest_int(\n",
    "            name=\"num_leaves\",\n",
    "            low=objective_params[\"num_leaves\"][\"min\"],\n",
    "            high=objective_params[\"num_leaves\"][\"max\"],\n",
    "        )\n",
    "    if \"feauture_fraction\" in config[\"objective_params\"].keys():\n",
    "        study_params[\"feature_fraction\"] = trial.suggest_float(\n",
    "            name=\"feature_fraction\",\n",
    "            low=objective_params[\"feature_fraction\"][\"min\"],\n",
    "            high=objective_params[\"feature_fraction\"][\"max\"],\n",
    "        )\n",
    "    if \"min_data_in_leaf\" in config[\"objective_params\"].keys():\n",
    "        study_params[\"min_data_in_leaf\"] = trial.suggest_float(\n",
    "            name=\"min_data_in_leaf\",\n",
    "            low=objective_params[\"min_data_in_leaf\"][\"min\"],\n",
    "            high=objective_params[\"min_data_in_leaf\"][\"max\"],\n",
    "            log=objective_params[\"min_data_in_leaf\"][\"log\"],\n",
    "        )\n",
    "\n",
    "    # Train model with cross-validation\n",
    "    tscv = TimeSeriesSplit(n_splits=5)\n",
    "    model = LGBMRegressor(**study_params)\n",
    "    cv_errors = cross_val_score(\n",
    "        model, X_train, y_train, scoring=\"neg_mean_absolute_error\", cv=tscv\n",
    "    )\n",
    "\n",
    "    # Log CV results\n",
    "    cv_errors = -cv_errors\n",
    "    for i in range(len(cv_errors)):\n",
    "        trial.set_user_attr(f\"error_split_{i+1}\", cv_errors[i])\n",
    "    # trial.set_user_attr(\"cv_errors\", list(cv_errors))\n",
    "    trial.set_user_attr(\"cv_errors_std\", cv_errors.std())\n",
    "\n",
    "    # Log train MAE\n",
    "    model.fit(X_train, y_train)\n",
    "    y_fit = model.predict(X_train)\n",
    "    train_mae = mean_absolute_error(y_train, y_fit)\n",
    "    trial.set_user_attr(\"train_mae\", train_mae)\n",
    "\n",
    "    # Log test MAE\n",
    "    y_pred = model.predict(X_test)\n",
    "    test_mae = mean_absolute_error(y_test, y_pred)\n",
    "    trial.set_user_attr(\"test_mae\", test_mae)\n",
    "\n",
    "    return cv_errors.mean()"
   ]
  },
  {
   "cell_type": "markdown",
   "metadata": {
    "id": "ImLKJohDih-4"
   },
   "source": [
    "## Create and run study"
   ]
  },
  {
   "cell_type": "code",
   "execution_count": 42,
   "metadata": {
    "colab": {
     "base_uri": "https://localhost:8080/"
    },
    "id": "sHjPB6JX3ZmL",
    "outputId": "58fb3cff-767a-4ecb-9676-b4dc949ef9cb"
   },
   "outputs": [
    {
     "name": "stdout",
     "output_type": "stream",
     "text": [
      "experiment name : lightgbm-preprocessing2-config2\n"
     ]
    }
   ],
   "source": [
    "experiment_name = (\n",
    "    f\"{model_name}-preprocessing{feature_set_version}-config{config_version}\"\n",
    ")\n",
    "storage_name = \"sqlite:///{}/{}.db\".format(study_path, experiment_name)\n",
    "print(f\"experiment name : {experiment_name}\")"
   ]
  },
  {
   "cell_type": "code",
   "execution_count": 43,
   "metadata": {
    "id": "J4u0bLP9ih-4"
   },
   "outputs": [],
   "source": [
    "# Add stream handler of stdout to show the messages\n",
    "logger = optuna.logging.get_logger(\"optuna\")\n",
    "if logger.hasHandlers():\n",
    "    logger.handlers.clear()\n",
    "logger.addHandler(logging.StreamHandler(sys.stdout))\n",
    "\n",
    "# restored_sampler = pickle.load(open(\"{}-study-sampler.pkl\".format(study_name), \"rb\"))\n",
    "sampler = optuna.samplers.TPESampler(\n",
    "    seed=0\n",
    ")  # RandomSampler, GridSampler, TPESampler, CmaEsSampler, NSGAIISampler, QMCSampler, GPSampler, BoTorchSampler, BruteForceSampler"
   ]
  },
  {
   "cell_type": "code",
   "execution_count": 44,
   "metadata": {
    "colab": {
     "base_uri": "https://localhost:8080/"
    },
    "id": "H4GEjII_ih-4",
    "outputId": "e73ad79e-7ba2-4eaf-c3b3-d520f5268561"
   },
   "outputs": [
    {
     "name": "stdout",
     "output_type": "stream",
     "text": [
      "Using an existing study with name 'lightgbm-preprocessing2-config2' instead of creating a new one.\n"
     ]
    }
   ],
   "source": [
    "# Initialize the Optuna study\n",
    "study = optuna.create_study(\n",
    "    study_name=experiment_name,\n",
    "    storage=storage_name,\n",
    "    load_if_exists=True,\n",
    "    directions=[\"minimize\"],\n",
    "    # sampler=sampler,\n",
    "    # pruner=pruner,\n",
    ")"
   ]
  },
  {
   "cell_type": "code",
   "execution_count": 45,
   "metadata": {
    "colab": {
     "base_uri": "https://localhost:8080/"
    },
    "id": "Mxxt7uNTyUv1",
    "outputId": "dd3bbe99-d5a3-4582-edbf-0a4f12b2cc01"
   },
   "outputs": [
    {
     "data": {
      "text/plain": [
       "232"
      ]
     },
     "execution_count": 45,
     "metadata": {},
     "output_type": "execute_result"
    }
   ],
   "source": [
    "len(study.trials)"
   ]
  },
  {
   "cell_type": "code",
   "execution_count": null,
   "metadata": {
    "colab": {
     "base_uri": "https://localhost:8080/"
    },
    "id": "5EqTjcla49pg",
    "outputId": "a2e2dc29-6589-4a1d-b678-47d5cb7dda26",
    "scrolled": true
   },
   "outputs": [
    {
     "name": "stdout",
     "output_type": "stream",
     "text": [
      "Trial 232 finished with value: 62.10438272246294 and parameters: {'num_trees': 755, 'learning_rate': 0.08735690927417673, 'max_depth': 7, 'num_leaves': 11}. Best is trial 207 with value: 61.69501638989667.\n",
      "Trial 233 finished with value: 62.54260283418894 and parameters: {'num_trees': 773, 'learning_rate': 0.07350959807959037, 'max_depth': 7, 'num_leaves': 12}. Best is trial 207 with value: 61.69501638989667.\n",
      "Trial 234 finished with value: 62.12367501697656 and parameters: {'num_trees': 824, 'learning_rate': 0.08461857200043713, 'max_depth': 7, 'num_leaves': 11}. Best is trial 207 with value: 61.69501638989667.\n",
      "Trial 235 finished with value: 61.86109566371069 and parameters: {'num_trees': 800, 'learning_rate': 0.08434767497954963, 'max_depth': 7, 'num_leaves': 11}. Best is trial 207 with value: 61.69501638989667.\n",
      "Trial 236 finished with value: 62.42070212283306 and parameters: {'num_trees': 737, 'learning_rate': 0.0871994178987373, 'max_depth': 7, 'num_leaves': 11}. Best is trial 207 with value: 61.69501638989667.\n",
      "Trial 237 finished with value: 62.4730166313297 and parameters: {'num_trees': 874, 'learning_rate': 0.08600016864778053, 'max_depth': 7, 'num_leaves': 11}. Best is trial 207 with value: 61.69501638989667.\n",
      "Trial 238 finished with value: 63.237192207654594 and parameters: {'num_trees': 704, 'learning_rate': 0.07792908983036961, 'max_depth': 7, 'num_leaves': 13}. Best is trial 207 with value: 61.69501638989667.\n",
      "Trial 239 finished with value: 62.90188066691779 and parameters: {'num_trees': 764, 'learning_rate': 0.0866762852118637, 'max_depth': 7, 'num_leaves': 12}. Best is trial 207 with value: 61.69501638989667.\n",
      "Trial 240 finished with value: 66.24050318357465 and parameters: {'num_trees': 113, 'learning_rate': 0.0694431843920074, 'max_depth': 7, 'num_leaves': 11}. Best is trial 207 with value: 61.69501638989667.\n",
      "Trial 241 finished with value: 62.36718923135429 and parameters: {'num_trees': 804, 'learning_rate': 0.09079955657564993, 'max_depth': 7, 'num_leaves': 10}. Best is trial 207 with value: 61.69501638989667.\n",
      "Trial 242 finished with value: 62.37430913304117 and parameters: {'num_trees': 806, 'learning_rate': 0.0698609748904738, 'max_depth': 7, 'num_leaves': 9}. Best is trial 207 with value: 61.69501638989667.\n",
      "Trial 243 finished with value: 62.43858326701418 and parameters: {'num_trees': 853, 'learning_rate': 0.07611649207357037, 'max_depth': 7, 'num_leaves': 10}. Best is trial 207 with value: 61.69501638989667.\n",
      "Trial 244 finished with value: 64.45477302782515 and parameters: {'num_trees': 156, 'learning_rate': 0.09988775369504442, 'max_depth': 7, 'num_leaves': 11}. Best is trial 207 with value: 61.69501638989667.\n",
      "Trial 245 finished with value: 62.44803371003273 and parameters: {'num_trees': 898, 'learning_rate': 0.078096436453236, 'max_depth': 7, 'num_leaves': 9}. Best is trial 207 with value: 61.69501638989667.\n",
      "Trial 246 finished with value: 62.11767774921376 and parameters: {'num_trees': 765, 'learning_rate': 0.06554182979938812, 'max_depth': 7, 'num_leaves': 10}. Best is trial 207 with value: 61.69501638989667.\n",
      "Trial 247 finished with value: 70.29611566865312 and parameters: {'num_trees': 760, 'learning_rate': 0.006921661645102097, 'max_depth': 7, 'num_leaves': 10}. Best is trial 207 with value: 61.69501638989667.\n",
      "Trial 248 finished with value: 62.71902598608983 and parameters: {'num_trees': 721, 'learning_rate': 0.06873371211983358, 'max_depth': 7, 'num_leaves': 10}. Best is trial 207 with value: 61.69501638989667.\n",
      "Trial 249 finished with value: 62.88122645612958 and parameters: {'num_trees': 779, 'learning_rate': 0.08197209786599806, 'max_depth': 7, 'num_leaves': 11}. Best is trial 207 with value: 61.69501638989667.\n",
      "Trial 250 finished with value: 61.799560348485 and parameters: {'num_trees': 929, 'learning_rate': 0.05436156851785301, 'max_depth': 7, 'num_leaves': 10}. Best is trial 207 with value: 61.69501638989667.\n",
      "Trial 251 finished with value: 62.16453897241881 and parameters: {'num_trees': 922, 'learning_rate': 0.05407387670863431, 'max_depth': 7, 'num_leaves': 10}. Best is trial 207 with value: 61.69501638989667.\n",
      "Trial 252 finished with value: 62.305999821068994 and parameters: {'num_trees': 965, 'learning_rate': 0.060026971762796894, 'max_depth': 7, 'num_leaves': 10}. Best is trial 207 with value: 61.69501638989667.\n",
      "Trial 253 finished with value: 79.5600139911834 and parameters: {'num_trees': 863, 'learning_rate': 0.004262353629758391, 'max_depth': 7, 'num_leaves': 10}. Best is trial 207 with value: 61.69501638989667.\n",
      "Trial 254 finished with value: 62.857357218582536 and parameters: {'num_trees': 930, 'learning_rate': 0.0497507113219379, 'max_depth': 7, 'num_leaves': 9}. Best is trial 207 with value: 61.69501638989667.\n",
      "Trial 255 finished with value: 63.47537447934066 and parameters: {'num_trees': 832, 'learning_rate': 0.06656421424602049, 'max_depth': 5, 'num_leaves': 10}. Best is trial 207 with value: 61.69501638989667.\n",
      "Trial 256 finished with value: 61.95635733368746 and parameters: {'num_trees': 890, 'learning_rate': 0.056572428443170786, 'max_depth': 7, 'num_leaves': 12}. Best is trial 207 with value: 61.69501638989667.\n",
      "Trial 257 finished with value: 62.38059346273478 and parameters: {'num_trees': 901, 'learning_rate': 0.04858510985774853, 'max_depth': 7, 'num_leaves': 12}. Best is trial 207 with value: 61.69501638989667.\n",
      "Trial 258 finished with value: 62.596524231997094 and parameters: {'num_trees': 956, 'learning_rate': 0.05617376474325496, 'max_depth': 7, 'num_leaves': 12}. Best is trial 207 with value: 61.69501638989667.\n",
      "Trial 259 finished with value: 63.17066289946879 and parameters: {'num_trees': 886, 'learning_rate': 0.04361737196466542, 'max_depth': 7, 'num_leaves': 13}. Best is trial 207 with value: 61.69501638989667.\n"
     ]
    }
   ],
   "source": [
    "# Execute the hyperparameter optimization trials.\n",
    "for i in range(1000):\n",
    "    study.optimize(objective, n_trials=1)\n",
    "    s3.upload_file(\n",
    "        f\"{study_path}/{experiment_name}.db\",\n",
    "        bucket_name,\n",
    "        f\"optuna-studies/{experiment_name}.db\",\n",
    "    )"
   ]
  },
  {
   "cell_type": "code",
   "execution_count": 30,
   "metadata": {
    "colab": {
     "base_uri": "https://localhost:8080/"
    },
    "id": "f3JohZB6ih-8",
    "outputId": "1b30b71b-669f-43e5-81c9-229ec839e9e8"
   },
   "outputs": [
    {
     "name": "stdout",
     "output_type": "stream",
     "text": [
      "best trial number : 400\n",
      "best params : {'num_trees': 93, 'learning_rate': 0.09965941125937848, 'max_depth': 9, 'num_leaves': 35}\n",
      "best error : 63.19364006608713\n"
     ]
    }
   ],
   "source": [
    "print(\"best trial number :\", study.best_trial.number)\n",
    "print(\"best params :\", study.best_params)\n",
    "print(\"best error :\", study.best_value)"
   ]
  },
  {
   "cell_type": "markdown",
   "metadata": {
    "id": "Po-bHy6vih-9"
   },
   "source": [
    "## Experimental history"
   ]
  },
  {
   "cell_type": "code",
   "execution_count": 31,
   "metadata": {
    "colab": {
     "base_uri": "https://localhost:8080/",
     "height": 347
    },
    "id": "vtWPlS77ih-9",
    "outputId": "85dbc77f-e641-438f-a006-b4c6d1dc8bec"
   },
   "outputs": [
    {
     "name": "stdout",
     "output_type": "stream",
     "text": [
      "Using an existing study with name 'lightgbm-preprocessing2-config1' instead of creating a new one.\n",
      "number of trials in the study : 691\n"
     ]
    },
    {
     "data": {
      "text/html": [
       "<div>\n",
       "<style scoped>\n",
       "    .dataframe tbody tr th:only-of-type {\n",
       "        vertical-align: middle;\n",
       "    }\n",
       "\n",
       "    .dataframe tbody tr th {\n",
       "        vertical-align: top;\n",
       "    }\n",
       "\n",
       "    .dataframe thead th {\n",
       "        text-align: right;\n",
       "    }\n",
       "</style>\n",
       "<table border=\"1\" class=\"dataframe\">\n",
       "  <thead>\n",
       "    <tr style=\"text-align: right;\">\n",
       "      <th></th>\n",
       "      <th>number</th>\n",
       "      <th>value</th>\n",
       "      <th>duration</th>\n",
       "      <th>params_learning_rate</th>\n",
       "      <th>params_max_depth</th>\n",
       "      <th>params_num_leaves</th>\n",
       "      <th>params_num_trees</th>\n",
       "      <th>user_attrs_cv_errors_std</th>\n",
       "      <th>user_attrs_error_split_1</th>\n",
       "      <th>user_attrs_error_split_2</th>\n",
       "      <th>user_attrs_error_split_3</th>\n",
       "      <th>user_attrs_error_split_4</th>\n",
       "      <th>user_attrs_error_split_5</th>\n",
       "      <th>user_attrs_test_mae</th>\n",
       "      <th>user_attrs_train_mae</th>\n",
       "      <th>state</th>\n",
       "    </tr>\n",
       "  </thead>\n",
       "  <tbody>\n",
       "    <tr>\n",
       "      <th>400</th>\n",
       "      <td>400</td>\n",
       "      <td>63.193640</td>\n",
       "      <td>0 days 00:00:15.705318</td>\n",
       "      <td>0.099659</td>\n",
       "      <td>9</td>\n",
       "      <td>35</td>\n",
       "      <td>93</td>\n",
       "      <td>38.742354</td>\n",
       "      <td>53.388416</td>\n",
       "      <td>57.152069</td>\n",
       "      <td>35.108136</td>\n",
       "      <td>138.161619</td>\n",
       "      <td>32.157961</td>\n",
       "      <td>73.871434</td>\n",
       "      <td>55.813876</td>\n",
       "      <td>COMPLETE</td>\n",
       "    </tr>\n",
       "    <tr>\n",
       "      <th>301</th>\n",
       "      <td>301</td>\n",
       "      <td>63.213407</td>\n",
       "      <td>0 days 00:00:15.849273</td>\n",
       "      <td>0.072456</td>\n",
       "      <td>9</td>\n",
       "      <td>32</td>\n",
       "      <td>100</td>\n",
       "      <td>37.942814</td>\n",
       "      <td>53.909184</td>\n",
       "      <td>57.993000</td>\n",
       "      <td>35.362319</td>\n",
       "      <td>136.415355</td>\n",
       "      <td>32.387178</td>\n",
       "      <td>74.998595</td>\n",
       "      <td>57.314667</td>\n",
       "      <td>COMPLETE</td>\n",
       "    </tr>\n",
       "    <tr>\n",
       "      <th>296</th>\n",
       "      <td>296</td>\n",
       "      <td>63.215329</td>\n",
       "      <td>0 days 00:00:16.442244</td>\n",
       "      <td>0.087321</td>\n",
       "      <td>9</td>\n",
       "      <td>49</td>\n",
       "      <td>96</td>\n",
       "      <td>39.351986</td>\n",
       "      <td>53.197649</td>\n",
       "      <td>56.591022</td>\n",
       "      <td>35.165786</td>\n",
       "      <td>139.474059</td>\n",
       "      <td>31.648130</td>\n",
       "      <td>73.422721</td>\n",
       "      <td>54.379721</td>\n",
       "      <td>COMPLETE</td>\n",
       "    </tr>\n",
       "    <tr>\n",
       "      <th>132</th>\n",
       "      <td>132</td>\n",
       "      <td>63.219725</td>\n",
       "      <td>0 days 00:00:15.500934</td>\n",
       "      <td>0.099710</td>\n",
       "      <td>9</td>\n",
       "      <td>35</td>\n",
       "      <td>95</td>\n",
       "      <td>38.808659</td>\n",
       "      <td>53.380351</td>\n",
       "      <td>57.049509</td>\n",
       "      <td>35.512525</td>\n",
       "      <td>138.334141</td>\n",
       "      <td>31.822100</td>\n",
       "      <td>73.837190</td>\n",
       "      <td>55.568589</td>\n",
       "      <td>COMPLETE</td>\n",
       "    </tr>\n",
       "    <tr>\n",
       "      <th>628</th>\n",
       "      <td>628</td>\n",
       "      <td>63.239345</td>\n",
       "      <td>0 days 00:00:16.001369</td>\n",
       "      <td>0.086211</td>\n",
       "      <td>9</td>\n",
       "      <td>36</td>\n",
       "      <td>100</td>\n",
       "      <td>38.632593</td>\n",
       "      <td>53.273483</td>\n",
       "      <td>57.820008</td>\n",
       "      <td>34.992164</td>\n",
       "      <td>137.894456</td>\n",
       "      <td>32.216613</td>\n",
       "      <td>73.664400</td>\n",
       "      <td>55.962821</td>\n",
       "      <td>COMPLETE</td>\n",
       "    </tr>\n",
       "  </tbody>\n",
       "</table>\n",
       "</div>"
      ],
      "text/plain": [
       "     number      value               duration  params_learning_rate  \\\n",
       "400     400  63.193640 0 days 00:00:15.705318              0.099659   \n",
       "301     301  63.213407 0 days 00:00:15.849273              0.072456   \n",
       "296     296  63.215329 0 days 00:00:16.442244              0.087321   \n",
       "132     132  63.219725 0 days 00:00:15.500934              0.099710   \n",
       "628     628  63.239345 0 days 00:00:16.001369              0.086211   \n",
       "\n",
       "     params_max_depth  params_num_leaves  params_num_trees  \\\n",
       "400                 9                 35                93   \n",
       "301                 9                 32               100   \n",
       "296                 9                 49                96   \n",
       "132                 9                 35                95   \n",
       "628                 9                 36               100   \n",
       "\n",
       "     user_attrs_cv_errors_std  user_attrs_error_split_1  \\\n",
       "400                 38.742354                 53.388416   \n",
       "301                 37.942814                 53.909184   \n",
       "296                 39.351986                 53.197649   \n",
       "132                 38.808659                 53.380351   \n",
       "628                 38.632593                 53.273483   \n",
       "\n",
       "     user_attrs_error_split_2  user_attrs_error_split_3  \\\n",
       "400                 57.152069                 35.108136   \n",
       "301                 57.993000                 35.362319   \n",
       "296                 56.591022                 35.165786   \n",
       "132                 57.049509                 35.512525   \n",
       "628                 57.820008                 34.992164   \n",
       "\n",
       "     user_attrs_error_split_4  user_attrs_error_split_5  user_attrs_test_mae  \\\n",
       "400                138.161619                 32.157961            73.871434   \n",
       "301                136.415355                 32.387178            74.998595   \n",
       "296                139.474059                 31.648130            73.422721   \n",
       "132                138.334141                 31.822100            73.837190   \n",
       "628                137.894456                 32.216613            73.664400   \n",
       "\n",
       "     user_attrs_train_mae     state  \n",
       "400             55.813876  COMPLETE  \n",
       "301             57.314667  COMPLETE  \n",
       "296             54.379721  COMPLETE  \n",
       "132             55.568589  COMPLETE  \n",
       "628             55.962821  COMPLETE  "
      ]
     },
     "execution_count": 31,
     "metadata": {},
     "output_type": "execute_result"
    }
   ],
   "source": [
    "study = optuna.create_study(\n",
    "    study_name=experiment_name, storage=storage_name, load_if_exists=True\n",
    ")\n",
    "print(\"number of trials in the study :\", len(study.trials))\n",
    "trials_df = study.trials_dataframe().drop(\n",
    "    columns=[\"datetime_start\", \"datetime_complete\"]\n",
    ")\n",
    "trials_df.sort_values(by=\"value\").head()"
   ]
  },
  {
   "cell_type": "code",
   "execution_count": null,
   "metadata": {
    "id": "uoRcqYqt0IMa"
   },
   "outputs": [],
   "source": []
  }
 ],
 "metadata": {
  "colab": {
   "provenance": []
  },
  "kernelspec": {
   "display_name": "conda_python3",
   "language": "python",
   "name": "conda_python3"
  },
  "language_info": {
   "codemirror_mode": {
    "name": "ipython",
    "version": 3
   },
   "file_extension": ".py",
   "mimetype": "text/x-python",
   "name": "python",
   "nbconvert_exporter": "python",
   "pygments_lexer": "ipython3",
   "version": "3.10.14"
  }
 },
 "nbformat": 4,
 "nbformat_minor": 1
}
