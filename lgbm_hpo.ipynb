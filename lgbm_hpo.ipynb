{
  "cells": [
    {
      "cell_type": "code",
      "execution_count": null,
      "metadata": {
        "colab": {
          "base_uri": "https://localhost:8080/"
        },
        "id": "F9crwzPzJrIO",
        "outputId": "d14f9d7e-7763-43c6-dbc1-0bf9f12600e1"
      },
      "outputs": [
        {
          "name": "stdout",
          "output_type": "stream",
          "text": [
            "\u001b[?25l   \u001b[90m━━━━━━━━━━━━━━━━━━━━━━━━━━━━━━━━━━━━━━━━\u001b[0m \u001b[32m0.0/139.2 kB\u001b[0m \u001b[31m?\u001b[0m eta \u001b[36m-:--:--\u001b[0m\r\u001b[2K   \u001b[90m━━━━━━━━━━━━━━━━━━━━━━━━━━━━━━━━━━━━━━━━\u001b[0m \u001b[32m139.2/139.2 kB\u001b[0m \u001b[31m11.0 MB/s\u001b[0m eta \u001b[36m0:00:00\u001b[0m\n",
            "\u001b[?25h\u001b[?25l   \u001b[90m━━━━━━━━━━━━━━━━━━━━━━━━━━━━━━━━━━━━━━━━\u001b[0m \u001b[32m0.0/72.5 kB\u001b[0m \u001b[31m?\u001b[0m eta \u001b[36m-:--:--\u001b[0m\r\u001b[2K   \u001b[90m━━━━━━━━━━━━━━━━━━━━━━━━━━━━━━━━━━━━━━━━\u001b[0m \u001b[32m72.5/72.5 kB\u001b[0m \u001b[31m6.5 MB/s\u001b[0m eta \u001b[36m0:00:00\u001b[0m\n",
            "\u001b[?25h\u001b[?25l   \u001b[90m━━━━━━━━━━━━━━━━━━━━━━━━━━━━━━━━━━━━━━━━\u001b[0m \u001b[32m0.0/364.4 kB\u001b[0m \u001b[31m?\u001b[0m eta \u001b[36m-:--:--\u001b[0m\r\u001b[2K   \u001b[90m━━━━━━━━━━━━━━━━━━━━━━━━━━━━━━━━━━━━━━━━\u001b[0m \u001b[32m364.4/364.4 kB\u001b[0m \u001b[31m26.1 MB/s\u001b[0m eta \u001b[36m0:00:00\u001b[0m\n",
            "\u001b[2K   \u001b[90m━━━━━━━━━━━━━━━━━━━━━━━━━━━━━━━━━━━━━━━━\u001b[0m \u001b[32m233.5/233.5 kB\u001b[0m \u001b[31m18.9 MB/s\u001b[0m eta \u001b[36m0:00:00\u001b[0m\n",
            "\u001b[2K   \u001b[90m━━━━━━━━━━━━━━━━━━━━━━━━━━━━━━━━━━━━━━━━\u001b[0m \u001b[32m13.2/13.2 MB\u001b[0m \u001b[31m86.1 MB/s\u001b[0m eta \u001b[36m0:00:00\u001b[0m\n",
            "\u001b[2K   \u001b[90m━━━━━━━━━━━━━━━━━━━━━━━━━━━━━━━━━━━━━━━━\u001b[0m \u001b[32m275.6/275.6 kB\u001b[0m \u001b[31m20.5 MB/s\u001b[0m eta \u001b[36m0:00:00\u001b[0m\n",
            "\u001b[2K   \u001b[90m━━━━━━━━━━━━━━━━━━━━━━━━━━━━━━━━━━━━━━━━\u001b[0m \u001b[32m83.2/83.2 kB\u001b[0m \u001b[31m7.4 MB/s\u001b[0m eta \u001b[36m0:00:00\u001b[0m\n",
            "\u001b[2K   \u001b[90m━━━━━━━━━━━━━━━━━━━━━━━━━━━━━━━━━━━━━━━━\u001b[0m \u001b[32m41.7/41.7 kB\u001b[0m \u001b[31m3.3 MB/s\u001b[0m eta \u001b[36m0:00:00\u001b[0m\n",
            "\u001b[2K   \u001b[90m━━━━━━━━━━━━━━━━━━━━━━━━━━━━━━━━━━━━━━━━\u001b[0m \u001b[32m78.9/78.9 kB\u001b[0m \u001b[31m7.2 MB/s\u001b[0m eta \u001b[36m0:00:00\u001b[0m\n",
            "\u001b[?25h"
          ]
        }
      ],
      "source": [
        "COLAB = True # if notebook is run in Google Colab\n",
        "if COLAB:\n",
        "    !pip install boto3 mlforecast optuna lightgbm GPUtil -q\n",
        "\n",
        "    import requests\n",
        "\n",
        "    utils = requests.get(\"https://raw.githubusercontent.com/gabriel1628/End-to-end-MLOps-for-Time-Series/main/utils.py\")\n",
        "    open('utils.py', 'wb').write(utils.content)\n",
        "\n",
        "    !mkdir -p preprocessing\n",
        "    preprocessing = requests.get(\"https://raw.githubusercontent.com/gabriel1628/End-to-end-MLOps-for-Time-Series/main/preprocessing/preprocessing.py\")\n",
        "    open('preprocessing/preprocessing.py', 'wb').write(preprocessing.content)"
      ]
    },
    {
      "cell_type": "code",
      "execution_count": null,
      "metadata": {
        "colab": {
          "base_uri": "https://localhost:8080/"
        },
        "id": "iRB66y34ih-x",
        "outputId": "f391a06f-9554-470b-f4b7-f24d1cdf1d4a"
      },
      "outputs": [
        {
          "name": "stderr",
          "output_type": "stream",
          "text": [
            "/usr/local/lib/python3.10/dist-packages/dask/dataframe/__init__.py:42: FutureWarning: \n",
            "Dask dataframe query planning is disabled because dask-expr is not installed.\n",
            "\n",
            "You can install it with `pip install dask[dataframe]` or `conda install dask`.\n",
            "This will raise in a future version.\n",
            "\n",
            "  warnings.warn(msg, FutureWarning)\n"
          ]
        }
      ],
      "source": [
        "import numpy as np\n",
        "import pandas as pd\n",
        "\n",
        "from lightgbm import LGBMRegressor\n",
        "\n",
        "from sklearn.model_selection import TimeSeriesSplit, cross_val_score\n",
        "from sklearn.metrics import mean_absolute_error\n",
        "\n",
        "import logging\n",
        "import optuna\n",
        "\n",
        "import boto3\n",
        "\n",
        "import GPUtil\n",
        "import os\n",
        "import sys\n",
        "from pathlib import Path\n",
        "import yaml\n",
        "import time\n",
        "\n",
        "from utils import train_test_split\n",
        "from preprocessing.preprocessing import *\n",
        "\n",
        "import warnings\n",
        "warnings.filterwarnings(\"ignore\", category=UserWarning)"
      ]
    },
    {
      "cell_type": "code",
      "execution_count": null,
      "metadata": {
        "colab": {
          "base_uri": "https://localhost:8080/"
        },
        "id": "EdU6pJEgjU_-",
        "outputId": "66378adb-7e0b-4f94-b27d-c3f8ec37daf1"
      },
      "outputs": [
        {
          "data": {
            "text/plain": [
              "[]"
            ]
          },
          "execution_count": 6,
          "metadata": {},
          "output_type": "execute_result"
        }
      ],
      "source": [
        "GPUtil.getAvailable()"
      ]
    },
    {
      "cell_type": "markdown",
      "metadata": {
        "id": "lq5fM7Yrih-y"
      },
      "source": [
        "# Global variables"
      ]
    },
    {
      "cell_type": "code",
      "execution_count": null,
      "metadata": {
        "id": "M6I6N6fKih-z"
      },
      "outputs": [],
      "source": [
        "forecast_horizon = 48\n",
        "n_lags = 48\n",
        "model_name = \"lightgbm\"\n",
        "preprocessing_version = 2  # preprocessing version\n",
        "config_files_loc = \"./configuration_files\"\n",
        "study_path = \"./optuna_studies\""
      ]
    },
    {
      "cell_type": "markdown",
      "metadata": {
        "id": "90hqPZuDrnAR"
      },
      "source": [
        "# Downloading data and Optuna studies from S3"
      ]
    },
    {
      "cell_type": "code",
      "execution_count": null,
      "metadata": {
        "colab": {
          "base_uri": "https://localhost:8080/"
        },
        "id": "FnJ3PXtmTi7A",
        "outputId": "2620033b-adb2-4878-d0ec-18c7ae4d4b8d"
      },
      "outputs": [
        {
          "name": "stdout",
          "output_type": "stream",
          "text": [
            "configuration_files/lightgbm/config_1.yaml\n",
            "configuration_files/lightgbm/config_2.yaml\n",
            "data/consumption.csv\n",
            "optuna-studies/lightgbm-preprocessing2-config2.db\n"
          ]
        }
      ],
      "source": [
        "if COLAB: # If you are on Colab, you can use secret environment variables (click on the key in the left panel)\n",
        "    from google.colab import userdata\n",
        "    s3 = boto3.client(\n",
        "        's3',\n",
        "        aws_access_key_id=userdata.get(\"ACCESS_KEY\"),\n",
        "        aws_secret_access_key=userdata.get(\"SECRET_KEY\"),\n",
        "    )\n",
        "else:\n",
        "    s3 = boto3.client(\"s3\") # use credentials in the ~/.aws folder\n",
        "\n",
        "# list objects in the enefit-competition bucket to check connection\n",
        "response = s3.list_objects(\n",
        "    Bucket='enefit-competition',\n",
        "    MaxKeys=5,\n",
        ")\n",
        "for content in response[\"Contents\"]:\n",
        "    print(content[\"Key\"])"
      ]
    },
    {
      "cell_type": "code",
      "execution_count": null,
      "metadata": {
        "id": "q-okiBWfYa2c"
      },
      "outputs": [],
      "source": [
        "def download_s3_folder(bucket_name, s3_folder, local_dir):\n",
        "    \"\"\"function to download objects from an S3 bucket located in the s3_folder directory\"\"\"\n",
        "    # Ensure the local directory exists\n",
        "    if not os.path.exists(local_dir):\n",
        "        os.makedirs(local_dir)\n",
        "\n",
        "    # List objects within the specified S3 folder\n",
        "    paginator = s3.get_paginator(\"list_objects_v2\")\n",
        "    pages = paginator.paginate(Bucket=bucket_name, Prefix=s3_folder)\n",
        "\n",
        "    for page in pages:\n",
        "        if \"Contents\" in page:\n",
        "            for obj in page[\"Contents\"]:\n",
        "                # Get the path of the object key\n",
        "                s3_key = obj[\"Key\"]\n",
        "                if s3_key == s3_folder:\n",
        "                    continue\n",
        "                # Remove the prefix from the key to get the relative file path\n",
        "                relative_path = os.path.relpath(s3_key, s3_folder)\n",
        "\n",
        "                # Create the full local path\n",
        "                local_file_path = os.path.join(local_dir, relative_path)\n",
        "\n",
        "                # Create local directory if not exists\n",
        "                local_file_dir = os.path.dirname(local_file_path)\n",
        "                if not os.path.exists(local_file_dir):\n",
        "                    os.makedirs(local_file_dir)\n",
        "\n",
        "                # Download the file\n",
        "                print(f\"Downloading s3://{bucket_name}/{s3_key} to {local_file_path}...\")\n",
        "                s3.download_file(bucket_name, s3_key, local_file_path)"
      ]
    },
    {
      "cell_type": "code",
      "execution_count": null,
      "metadata": {
        "colab": {
          "base_uri": "https://localhost:8080/"
        },
        "id": "JsF_aHdzcFLo",
        "outputId": "e620cc3c-d622-46a4-c925-042c71d440f9"
      },
      "outputs": [
        {
          "name": "stdout",
          "output_type": "stream",
          "text": [
            "Downloading s3://enefit-competition/data/consumption.csv to ./data/consumption.csv...\n",
            "Downloading s3://enefit-competition/configuration_files/lightgbm/config_1.yaml to ./configuration_files/lightgbm/config_1.yaml...\n",
            "Downloading s3://enefit-competition/configuration_files/lightgbm/config_2.yaml to ./configuration_files/lightgbm/config_2.yaml...\n"
          ]
        }
      ],
      "source": [
        "bucket_name = \"enefit-competition\"\n",
        "s3_folders = [\"data/\", \"optuna_studies/\", \"configuration_files/\"]  # These are the \"folders\" in the S3 bucket\n",
        "local_dirs = [\"./data/\", \"./optuna_studies/\", \"./configuration_files/\"]  # Local directory to save files\n",
        "\n",
        "for s3_folder, local_dir in zip(s3_folders, local_dirs):\n",
        "    download_s3_folder(bucket_name, s3_folder, local_dir)"
      ]
    },
    {
      "cell_type": "markdown",
      "metadata": {
        "id": "-LkFxhqbih-z"
      },
      "source": [
        "# Read the data"
      ]
    },
    {
      "cell_type": "code",
      "execution_count": null,
      "metadata": {
        "colab": {
          "base_uri": "https://localhost:8080/",
          "height": 206
        },
        "id": "XpK8I4IGih-z",
        "outputId": "6eaa4fcb-e371-46b7-87a6-50d8e4af1e40"
      },
      "outputs": [
        {
          "data": {
            "application/vnd.google.colaboratory.intrinsic+json": {
              "type": "dataframe",
              "variable_name": "df"
            },
            "text/html": [
              "\n",
              "  <div id=\"df-b251f433-90e4-4d70-972b-446266f97167\" class=\"colab-df-container\">\n",
              "    <div>\n",
              "<style scoped>\n",
              "    .dataframe tbody tr th:only-of-type {\n",
              "        vertical-align: middle;\n",
              "    }\n",
              "\n",
              "    .dataframe tbody tr th {\n",
              "        vertical-align: top;\n",
              "    }\n",
              "\n",
              "    .dataframe thead th {\n",
              "        text-align: right;\n",
              "    }\n",
              "</style>\n",
              "<table border=\"1\" class=\"dataframe\">\n",
              "  <thead>\n",
              "    <tr style=\"text-align: right;\">\n",
              "      <th></th>\n",
              "      <th>datetime</th>\n",
              "      <th>prediction_unit_id</th>\n",
              "      <th>consumption</th>\n",
              "    </tr>\n",
              "  </thead>\n",
              "  <tbody>\n",
              "    <tr>\n",
              "      <th>0</th>\n",
              "      <td>2021-09-01</td>\n",
              "      <td>0</td>\n",
              "      <td>96.590</td>\n",
              "    </tr>\n",
              "    <tr>\n",
              "      <th>1</th>\n",
              "      <td>2021-09-01</td>\n",
              "      <td>1</td>\n",
              "      <td>17.314</td>\n",
              "    </tr>\n",
              "    <tr>\n",
              "      <th>2</th>\n",
              "      <td>2021-09-01</td>\n",
              "      <td>2</td>\n",
              "      <td>656.859</td>\n",
              "    </tr>\n",
              "    <tr>\n",
              "      <th>3</th>\n",
              "      <td>2021-09-01</td>\n",
              "      <td>3</td>\n",
              "      <td>59.000</td>\n",
              "    </tr>\n",
              "    <tr>\n",
              "      <th>4</th>\n",
              "      <td>2021-09-01</td>\n",
              "      <td>4</td>\n",
              "      <td>501.760</td>\n",
              "    </tr>\n",
              "  </tbody>\n",
              "</table>\n",
              "</div>\n",
              "    <div class=\"colab-df-buttons\">\n",
              "\n",
              "  <div class=\"colab-df-container\">\n",
              "    <button class=\"colab-df-convert\" onclick=\"convertToInteractive('df-b251f433-90e4-4d70-972b-446266f97167')\"\n",
              "            title=\"Convert this dataframe to an interactive table.\"\n",
              "            style=\"display:none;\">\n",
              "\n",
              "  <svg xmlns=\"http://www.w3.org/2000/svg\" height=\"24px\" viewBox=\"0 -960 960 960\">\n",
              "    <path d=\"M120-120v-720h720v720H120Zm60-500h600v-160H180v160Zm220 220h160v-160H400v160Zm0 220h160v-160H400v160ZM180-400h160v-160H180v160Zm440 0h160v-160H620v160ZM180-180h160v-160H180v160Zm440 0h160v-160H620v160Z\"/>\n",
              "  </svg>\n",
              "    </button>\n",
              "\n",
              "  <style>\n",
              "    .colab-df-container {\n",
              "      display:flex;\n",
              "      gap: 12px;\n",
              "    }\n",
              "\n",
              "    .colab-df-convert {\n",
              "      background-color: #E8F0FE;\n",
              "      border: none;\n",
              "      border-radius: 50%;\n",
              "      cursor: pointer;\n",
              "      display: none;\n",
              "      fill: #1967D2;\n",
              "      height: 32px;\n",
              "      padding: 0 0 0 0;\n",
              "      width: 32px;\n",
              "    }\n",
              "\n",
              "    .colab-df-convert:hover {\n",
              "      background-color: #E2EBFA;\n",
              "      box-shadow: 0px 1px 2px rgba(60, 64, 67, 0.3), 0px 1px 3px 1px rgba(60, 64, 67, 0.15);\n",
              "      fill: #174EA6;\n",
              "    }\n",
              "\n",
              "    .colab-df-buttons div {\n",
              "      margin-bottom: 4px;\n",
              "    }\n",
              "\n",
              "    [theme=dark] .colab-df-convert {\n",
              "      background-color: #3B4455;\n",
              "      fill: #D2E3FC;\n",
              "    }\n",
              "\n",
              "    [theme=dark] .colab-df-convert:hover {\n",
              "      background-color: #434B5C;\n",
              "      box-shadow: 0px 1px 3px 1px rgba(0, 0, 0, 0.15);\n",
              "      filter: drop-shadow(0px 1px 2px rgba(0, 0, 0, 0.3));\n",
              "      fill: #FFFFFF;\n",
              "    }\n",
              "  </style>\n",
              "\n",
              "    <script>\n",
              "      const buttonEl =\n",
              "        document.querySelector('#df-b251f433-90e4-4d70-972b-446266f97167 button.colab-df-convert');\n",
              "      buttonEl.style.display =\n",
              "        google.colab.kernel.accessAllowed ? 'block' : 'none';\n",
              "\n",
              "      async function convertToInteractive(key) {\n",
              "        const element = document.querySelector('#df-b251f433-90e4-4d70-972b-446266f97167');\n",
              "        const dataTable =\n",
              "          await google.colab.kernel.invokeFunction('convertToInteractive',\n",
              "                                                    [key], {});\n",
              "        if (!dataTable) return;\n",
              "\n",
              "        const docLinkHtml = 'Like what you see? Visit the ' +\n",
              "          '<a target=\"_blank\" href=https://colab.research.google.com/notebooks/data_table.ipynb>data table notebook</a>'\n",
              "          + ' to learn more about interactive tables.';\n",
              "        element.innerHTML = '';\n",
              "        dataTable['output_type'] = 'display_data';\n",
              "        await google.colab.output.renderOutput(dataTable, element);\n",
              "        const docLink = document.createElement('div');\n",
              "        docLink.innerHTML = docLinkHtml;\n",
              "        element.appendChild(docLink);\n",
              "      }\n",
              "    </script>\n",
              "  </div>\n",
              "\n",
              "\n",
              "<div id=\"df-505a2b7b-8a18-4a99-b8a7-d26450b1c329\">\n",
              "  <button class=\"colab-df-quickchart\" onclick=\"quickchart('df-505a2b7b-8a18-4a99-b8a7-d26450b1c329')\"\n",
              "            title=\"Suggest charts\"\n",
              "            style=\"display:none;\">\n",
              "\n",
              "<svg xmlns=\"http://www.w3.org/2000/svg\" height=\"24px\"viewBox=\"0 0 24 24\"\n",
              "     width=\"24px\">\n",
              "    <g>\n",
              "        <path d=\"M19 3H5c-1.1 0-2 .9-2 2v14c0 1.1.9 2 2 2h14c1.1 0 2-.9 2-2V5c0-1.1-.9-2-2-2zM9 17H7v-7h2v7zm4 0h-2V7h2v10zm4 0h-2v-4h2v4z\"/>\n",
              "    </g>\n",
              "</svg>\n",
              "  </button>\n",
              "\n",
              "<style>\n",
              "  .colab-df-quickchart {\n",
              "      --bg-color: #E8F0FE;\n",
              "      --fill-color: #1967D2;\n",
              "      --hover-bg-color: #E2EBFA;\n",
              "      --hover-fill-color: #174EA6;\n",
              "      --disabled-fill-color: #AAA;\n",
              "      --disabled-bg-color: #DDD;\n",
              "  }\n",
              "\n",
              "  [theme=dark] .colab-df-quickchart {\n",
              "      --bg-color: #3B4455;\n",
              "      --fill-color: #D2E3FC;\n",
              "      --hover-bg-color: #434B5C;\n",
              "      --hover-fill-color: #FFFFFF;\n",
              "      --disabled-bg-color: #3B4455;\n",
              "      --disabled-fill-color: #666;\n",
              "  }\n",
              "\n",
              "  .colab-df-quickchart {\n",
              "    background-color: var(--bg-color);\n",
              "    border: none;\n",
              "    border-radius: 50%;\n",
              "    cursor: pointer;\n",
              "    display: none;\n",
              "    fill: var(--fill-color);\n",
              "    height: 32px;\n",
              "    padding: 0;\n",
              "    width: 32px;\n",
              "  }\n",
              "\n",
              "  .colab-df-quickchart:hover {\n",
              "    background-color: var(--hover-bg-color);\n",
              "    box-shadow: 0 1px 2px rgba(60, 64, 67, 0.3), 0 1px 3px 1px rgba(60, 64, 67, 0.15);\n",
              "    fill: var(--button-hover-fill-color);\n",
              "  }\n",
              "\n",
              "  .colab-df-quickchart-complete:disabled,\n",
              "  .colab-df-quickchart-complete:disabled:hover {\n",
              "    background-color: var(--disabled-bg-color);\n",
              "    fill: var(--disabled-fill-color);\n",
              "    box-shadow: none;\n",
              "  }\n",
              "\n",
              "  .colab-df-spinner {\n",
              "    border: 2px solid var(--fill-color);\n",
              "    border-color: transparent;\n",
              "    border-bottom-color: var(--fill-color);\n",
              "    animation:\n",
              "      spin 1s steps(1) infinite;\n",
              "  }\n",
              "\n",
              "  @keyframes spin {\n",
              "    0% {\n",
              "      border-color: transparent;\n",
              "      border-bottom-color: var(--fill-color);\n",
              "      border-left-color: var(--fill-color);\n",
              "    }\n",
              "    20% {\n",
              "      border-color: transparent;\n",
              "      border-left-color: var(--fill-color);\n",
              "      border-top-color: var(--fill-color);\n",
              "    }\n",
              "    30% {\n",
              "      border-color: transparent;\n",
              "      border-left-color: var(--fill-color);\n",
              "      border-top-color: var(--fill-color);\n",
              "      border-right-color: var(--fill-color);\n",
              "    }\n",
              "    40% {\n",
              "      border-color: transparent;\n",
              "      border-right-color: var(--fill-color);\n",
              "      border-top-color: var(--fill-color);\n",
              "    }\n",
              "    60% {\n",
              "      border-color: transparent;\n",
              "      border-right-color: var(--fill-color);\n",
              "    }\n",
              "    80% {\n",
              "      border-color: transparent;\n",
              "      border-right-color: var(--fill-color);\n",
              "      border-bottom-color: var(--fill-color);\n",
              "    }\n",
              "    90% {\n",
              "      border-color: transparent;\n",
              "      border-bottom-color: var(--fill-color);\n",
              "    }\n",
              "  }\n",
              "</style>\n",
              "\n",
              "  <script>\n",
              "    async function quickchart(key) {\n",
              "      const quickchartButtonEl =\n",
              "        document.querySelector('#' + key + ' button');\n",
              "      quickchartButtonEl.disabled = true;  // To prevent multiple clicks.\n",
              "      quickchartButtonEl.classList.add('colab-df-spinner');\n",
              "      try {\n",
              "        const charts = await google.colab.kernel.invokeFunction(\n",
              "            'suggestCharts', [key], {});\n",
              "      } catch (error) {\n",
              "        console.error('Error during call to suggestCharts:', error);\n",
              "      }\n",
              "      quickchartButtonEl.classList.remove('colab-df-spinner');\n",
              "      quickchartButtonEl.classList.add('colab-df-quickchart-complete');\n",
              "    }\n",
              "    (() => {\n",
              "      let quickchartButtonEl =\n",
              "        document.querySelector('#df-505a2b7b-8a18-4a99-b8a7-d26450b1c329 button');\n",
              "      quickchartButtonEl.style.display =\n",
              "        google.colab.kernel.accessAllowed ? 'block' : 'none';\n",
              "    })();\n",
              "  </script>\n",
              "</div>\n",
              "\n",
              "    </div>\n",
              "  </div>\n"
            ],
            "text/plain": [
              "    datetime  prediction_unit_id  consumption\n",
              "0 2021-09-01                   0       96.590\n",
              "1 2021-09-01                   1       17.314\n",
              "2 2021-09-01                   2      656.859\n",
              "3 2021-09-01                   3       59.000\n",
              "4 2021-09-01                   4      501.760"
            ]
          },
          "execution_count": 11,
          "metadata": {},
          "output_type": "execute_result"
        }
      ],
      "source": [
        "df = pd.read_csv(\"./data/consumption.csv\")\n",
        "df[\"datetime\"] = pd.to_datetime(df[\"datetime\"])\n",
        "df.head()"
      ]
    },
    {
      "cell_type": "code",
      "execution_count": null,
      "metadata": {
        "colab": {
          "base_uri": "https://localhost:8080/"
        },
        "id": "uLCPNu7Kih-0",
        "outputId": "a384fdf2-5806-4c72-8ff8-891065899807"
      },
      "outputs": [
        {
          "data": {
            "text/plain": [
              "(1009176, 3)"
            ]
          },
          "execution_count": 12,
          "metadata": {},
          "output_type": "execute_result"
        }
      ],
      "source": [
        "df.shape"
      ]
    },
    {
      "cell_type": "markdown",
      "metadata": {
        "id": "jVbL2lCcih-1"
      },
      "source": [
        "# Train/Test split"
      ]
    },
    {
      "cell_type": "code",
      "execution_count": null,
      "metadata": {
        "id": "-nmY1sibih-1"
      },
      "outputs": [],
      "source": [
        "# taking the last 60 days of each unit for test\n",
        "df_train, df_test = train_test_split(df, test_window=24 * 60)"
      ]
    },
    {
      "cell_type": "code",
      "execution_count": null,
      "metadata": {
        "id": "fH1OFTmOih-1"
      },
      "outputs": [],
      "source": [
        "assert df.shape[0] == df_train.shape[0] + df_test.shape[0]\n",
        "assert df.shape[1] == df_train.shape[1] == df_test.shape[1]"
      ]
    },
    {
      "cell_type": "code",
      "execution_count": null,
      "metadata": {
        "colab": {
          "base_uri": "https://localhost:8080/"
        },
        "id": "yCd56qwtih-1",
        "outputId": "216e48db-fe9e-41b1-f309-ec2d0bed52f7"
      },
      "outputs": [
        {
          "name": "stdout",
          "output_type": "stream",
          "text": [
            "test set : 9.85% of the data set\n"
          ]
        }
      ],
      "source": [
        "test_size = df_test.shape[0] / (df.shape[0])\n",
        "print(f\"test set : {round(test_size*100, 2)}% of the data set\")"
      ]
    },
    {
      "cell_type": "markdown",
      "metadata": {
        "id": "jRfk9JN5ih-2"
      },
      "source": [
        "# Preprocessing"
      ]
    },
    {
      "cell_type": "code",
      "execution_count": null,
      "metadata": {
        "id": "eTz6qqDNih-2"
      },
      "outputs": [],
      "source": [
        "# get preprocessing function from preprocessing/preprocessing.py\n",
        "preprocessing = vars()[f\"preprocessing_{preprocessing_version}\"]"
      ]
    },
    {
      "cell_type": "code",
      "execution_count": null,
      "metadata": {
        "colab": {
          "base_uri": "https://localhost:8080/",
          "height": 362
        },
        "id": "CfOWjjSzih-2",
        "outputId": "c34d7d3f-1bbf-4726-aea1-969663622fcd"
      },
      "outputs": [
        {
          "name": "stderr",
          "output_type": "stream",
          "text": [
            "/usr/local/lib/python3.10/dist-packages/mlforecast/core.py:489: PerformanceWarning: DataFrame is highly fragmented.  This is usually the result of calling `frame.insert` many times, which has poor performance.  Consider joining all columns at once using pd.concat(axis=1) instead. To get a de-fragmented frame, use `newframe = frame.copy()`\n",
            "  df[feat_name] = feat_vals[restore_idxs]\n",
            "/usr/local/lib/python3.10/dist-packages/mlforecast/core.py:489: PerformanceWarning: DataFrame is highly fragmented.  This is usually the result of calling `frame.insert` many times, which has poor performance.  Consider joining all columns at once using pd.concat(axis=1) instead. To get a de-fragmented frame, use `newframe = frame.copy()`\n",
            "  df[feat_name] = feat_vals[restore_idxs]\n"
          ]
        },
        {
          "name": "stdout",
          "output_type": "stream",
          "text": [
            "X_train shape : (854079, 99)\n",
            "y_train shape : (854079,)\n"
          ]
        },
        {
          "data": {
            "application/vnd.google.colaboratory.intrinsic+json": {
              "type": "dataframe",
              "variable_name": "X_train"
            },
            "text/html": [
              "\n",
              "  <div id=\"df-99732a9d-17f2-45c0-b2a7-764dbb2bbed8\" class=\"colab-df-container\">\n",
              "    <div>\n",
              "<style scoped>\n",
              "    .dataframe tbody tr th:only-of-type {\n",
              "        vertical-align: middle;\n",
              "    }\n",
              "\n",
              "    .dataframe tbody tr th {\n",
              "        vertical-align: top;\n",
              "    }\n",
              "\n",
              "    .dataframe thead th {\n",
              "        text-align: right;\n",
              "    }\n",
              "</style>\n",
              "<table border=\"1\" class=\"dataframe\">\n",
              "  <thead>\n",
              "    <tr style=\"text-align: right;\">\n",
              "      <th></th>\n",
              "      <th>lag48</th>\n",
              "      <th>lag49</th>\n",
              "      <th>lag50</th>\n",
              "      <th>lag51</th>\n",
              "      <th>lag52</th>\n",
              "      <th>lag53</th>\n",
              "      <th>lag54</th>\n",
              "      <th>lag55</th>\n",
              "      <th>lag56</th>\n",
              "      <th>lag57</th>\n",
              "      <th>...</th>\n",
              "      <th>rolling_mean_lag68_window_size24</th>\n",
              "      <th>expanding_mean_lag69</th>\n",
              "      <th>rolling_mean_lag69_window_size24</th>\n",
              "      <th>expanding_mean_lag70</th>\n",
              "      <th>rolling_mean_lag70_window_size24</th>\n",
              "      <th>expanding_mean_lag71</th>\n",
              "      <th>rolling_mean_lag71_window_size24</th>\n",
              "      <th>month</th>\n",
              "      <th>dayofweek</th>\n",
              "      <th>hour</th>\n",
              "    </tr>\n",
              "  </thead>\n",
              "  <tbody>\n",
              "    <tr>\n",
              "      <th>5795</th>\n",
              "      <td>120.540</td>\n",
              "      <td>134.986</td>\n",
              "      <td>150.412</td>\n",
              "      <td>152.763</td>\n",
              "      <td>136.130</td>\n",
              "      <td>121.033</td>\n",
              "      <td>80.621</td>\n",
              "      <td>43.428</td>\n",
              "      <td>46.840</td>\n",
              "      <td>43.671</td>\n",
              "      <td>...</td>\n",
              "      <td>82.505417</td>\n",
              "      <td>82.612111</td>\n",
              "      <td>81.860500</td>\n",
              "      <td>81.756654</td>\n",
              "      <td>81.308000</td>\n",
              "      <td>81.145600</td>\n",
              "      <td>80.502083</td>\n",
              "      <td>9</td>\n",
              "      <td>5</td>\n",
              "      <td>23</td>\n",
              "    </tr>\n",
              "    <tr>\n",
              "      <th>5856</th>\n",
              "      <td>107.129</td>\n",
              "      <td>120.540</td>\n",
              "      <td>134.986</td>\n",
              "      <td>150.412</td>\n",
              "      <td>152.763</td>\n",
              "      <td>136.130</td>\n",
              "      <td>121.033</td>\n",
              "      <td>80.621</td>\n",
              "      <td>43.428</td>\n",
              "      <td>46.840</td>\n",
              "      <td>...</td>\n",
              "      <td>83.241833</td>\n",
              "      <td>83.355714</td>\n",
              "      <td>82.505417</td>\n",
              "      <td>82.612111</td>\n",
              "      <td>81.860500</td>\n",
              "      <td>81.756654</td>\n",
              "      <td>81.308000</td>\n",
              "      <td>9</td>\n",
              "      <td>6</td>\n",
              "      <td>0</td>\n",
              "    </tr>\n",
              "    <tr>\n",
              "      <th>5917</th>\n",
              "      <td>81.920</td>\n",
              "      <td>107.129</td>\n",
              "      <td>120.540</td>\n",
              "      <td>134.986</td>\n",
              "      <td>150.412</td>\n",
              "      <td>152.763</td>\n",
              "      <td>136.130</td>\n",
              "      <td>121.033</td>\n",
              "      <td>80.621</td>\n",
              "      <td>43.428</td>\n",
              "      <td>...</td>\n",
              "      <td>83.893958</td>\n",
              "      <td>84.131655</td>\n",
              "      <td>83.241833</td>\n",
              "      <td>83.355714</td>\n",
              "      <td>82.505417</td>\n",
              "      <td>82.612111</td>\n",
              "      <td>81.860500</td>\n",
              "      <td>9</td>\n",
              "      <td>6</td>\n",
              "      <td>1</td>\n",
              "    </tr>\n",
              "    <tr>\n",
              "      <th>5978</th>\n",
              "      <td>96.193</td>\n",
              "      <td>81.920</td>\n",
              "      <td>107.129</td>\n",
              "      <td>120.540</td>\n",
              "      <td>134.986</td>\n",
              "      <td>150.412</td>\n",
              "      <td>152.763</td>\n",
              "      <td>136.130</td>\n",
              "      <td>121.033</td>\n",
              "      <td>80.621</td>\n",
              "      <td>...</td>\n",
              "      <td>84.539375</td>\n",
              "      <td>84.841667</td>\n",
              "      <td>83.893958</td>\n",
              "      <td>84.131655</td>\n",
              "      <td>83.241833</td>\n",
              "      <td>83.355714</td>\n",
              "      <td>82.505417</td>\n",
              "      <td>9</td>\n",
              "      <td>6</td>\n",
              "      <td>2</td>\n",
              "    </tr>\n",
              "    <tr>\n",
              "      <th>6039</th>\n",
              "      <td>94.536</td>\n",
              "      <td>96.193</td>\n",
              "      <td>81.920</td>\n",
              "      <td>107.129</td>\n",
              "      <td>120.540</td>\n",
              "      <td>134.986</td>\n",
              "      <td>150.412</td>\n",
              "      <td>152.763</td>\n",
              "      <td>136.130</td>\n",
              "      <td>121.033</td>\n",
              "      <td>...</td>\n",
              "      <td>84.552333</td>\n",
              "      <td>85.716806</td>\n",
              "      <td>84.539375</td>\n",
              "      <td>84.841667</td>\n",
              "      <td>83.893958</td>\n",
              "      <td>84.131655</td>\n",
              "      <td>83.241833</td>\n",
              "      <td>9</td>\n",
              "      <td>6</td>\n",
              "      <td>3</td>\n",
              "    </tr>\n",
              "  </tbody>\n",
              "</table>\n",
              "<p>5 rows × 99 columns</p>\n",
              "</div>\n",
              "    <div class=\"colab-df-buttons\">\n",
              "\n",
              "  <div class=\"colab-df-container\">\n",
              "    <button class=\"colab-df-convert\" onclick=\"convertToInteractive('df-99732a9d-17f2-45c0-b2a7-764dbb2bbed8')\"\n",
              "            title=\"Convert this dataframe to an interactive table.\"\n",
              "            style=\"display:none;\">\n",
              "\n",
              "  <svg xmlns=\"http://www.w3.org/2000/svg\" height=\"24px\" viewBox=\"0 -960 960 960\">\n",
              "    <path d=\"M120-120v-720h720v720H120Zm60-500h600v-160H180v160Zm220 220h160v-160H400v160Zm0 220h160v-160H400v160ZM180-400h160v-160H180v160Zm440 0h160v-160H620v160ZM180-180h160v-160H180v160Zm440 0h160v-160H620v160Z\"/>\n",
              "  </svg>\n",
              "    </button>\n",
              "\n",
              "  <style>\n",
              "    .colab-df-container {\n",
              "      display:flex;\n",
              "      gap: 12px;\n",
              "    }\n",
              "\n",
              "    .colab-df-convert {\n",
              "      background-color: #E8F0FE;\n",
              "      border: none;\n",
              "      border-radius: 50%;\n",
              "      cursor: pointer;\n",
              "      display: none;\n",
              "      fill: #1967D2;\n",
              "      height: 32px;\n",
              "      padding: 0 0 0 0;\n",
              "      width: 32px;\n",
              "    }\n",
              "\n",
              "    .colab-df-convert:hover {\n",
              "      background-color: #E2EBFA;\n",
              "      box-shadow: 0px 1px 2px rgba(60, 64, 67, 0.3), 0px 1px 3px 1px rgba(60, 64, 67, 0.15);\n",
              "      fill: #174EA6;\n",
              "    }\n",
              "\n",
              "    .colab-df-buttons div {\n",
              "      margin-bottom: 4px;\n",
              "    }\n",
              "\n",
              "    [theme=dark] .colab-df-convert {\n",
              "      background-color: #3B4455;\n",
              "      fill: #D2E3FC;\n",
              "    }\n",
              "\n",
              "    [theme=dark] .colab-df-convert:hover {\n",
              "      background-color: #434B5C;\n",
              "      box-shadow: 0px 1px 3px 1px rgba(0, 0, 0, 0.15);\n",
              "      filter: drop-shadow(0px 1px 2px rgba(0, 0, 0, 0.3));\n",
              "      fill: #FFFFFF;\n",
              "    }\n",
              "  </style>\n",
              "\n",
              "    <script>\n",
              "      const buttonEl =\n",
              "        document.querySelector('#df-99732a9d-17f2-45c0-b2a7-764dbb2bbed8 button.colab-df-convert');\n",
              "      buttonEl.style.display =\n",
              "        google.colab.kernel.accessAllowed ? 'block' : 'none';\n",
              "\n",
              "      async function convertToInteractive(key) {\n",
              "        const element = document.querySelector('#df-99732a9d-17f2-45c0-b2a7-764dbb2bbed8');\n",
              "        const dataTable =\n",
              "          await google.colab.kernel.invokeFunction('convertToInteractive',\n",
              "                                                    [key], {});\n",
              "        if (!dataTable) return;\n",
              "\n",
              "        const docLinkHtml = 'Like what you see? Visit the ' +\n",
              "          '<a target=\"_blank\" href=https://colab.research.google.com/notebooks/data_table.ipynb>data table notebook</a>'\n",
              "          + ' to learn more about interactive tables.';\n",
              "        element.innerHTML = '';\n",
              "        dataTable['output_type'] = 'display_data';\n",
              "        await google.colab.output.renderOutput(dataTable, element);\n",
              "        const docLink = document.createElement('div');\n",
              "        docLink.innerHTML = docLinkHtml;\n",
              "        element.appendChild(docLink);\n",
              "      }\n",
              "    </script>\n",
              "  </div>\n",
              "\n",
              "\n",
              "<div id=\"df-9ad7842a-d9cf-4135-883e-e661f9972c27\">\n",
              "  <button class=\"colab-df-quickchart\" onclick=\"quickchart('df-9ad7842a-d9cf-4135-883e-e661f9972c27')\"\n",
              "            title=\"Suggest charts\"\n",
              "            style=\"display:none;\">\n",
              "\n",
              "<svg xmlns=\"http://www.w3.org/2000/svg\" height=\"24px\"viewBox=\"0 0 24 24\"\n",
              "     width=\"24px\">\n",
              "    <g>\n",
              "        <path d=\"M19 3H5c-1.1 0-2 .9-2 2v14c0 1.1.9 2 2 2h14c1.1 0 2-.9 2-2V5c0-1.1-.9-2-2-2zM9 17H7v-7h2v7zm4 0h-2V7h2v10zm4 0h-2v-4h2v4z\"/>\n",
              "    </g>\n",
              "</svg>\n",
              "  </button>\n",
              "\n",
              "<style>\n",
              "  .colab-df-quickchart {\n",
              "      --bg-color: #E8F0FE;\n",
              "      --fill-color: #1967D2;\n",
              "      --hover-bg-color: #E2EBFA;\n",
              "      --hover-fill-color: #174EA6;\n",
              "      --disabled-fill-color: #AAA;\n",
              "      --disabled-bg-color: #DDD;\n",
              "  }\n",
              "\n",
              "  [theme=dark] .colab-df-quickchart {\n",
              "      --bg-color: #3B4455;\n",
              "      --fill-color: #D2E3FC;\n",
              "      --hover-bg-color: #434B5C;\n",
              "      --hover-fill-color: #FFFFFF;\n",
              "      --disabled-bg-color: #3B4455;\n",
              "      --disabled-fill-color: #666;\n",
              "  }\n",
              "\n",
              "  .colab-df-quickchart {\n",
              "    background-color: var(--bg-color);\n",
              "    border: none;\n",
              "    border-radius: 50%;\n",
              "    cursor: pointer;\n",
              "    display: none;\n",
              "    fill: var(--fill-color);\n",
              "    height: 32px;\n",
              "    padding: 0;\n",
              "    width: 32px;\n",
              "  }\n",
              "\n",
              "  .colab-df-quickchart:hover {\n",
              "    background-color: var(--hover-bg-color);\n",
              "    box-shadow: 0 1px 2px rgba(60, 64, 67, 0.3), 0 1px 3px 1px rgba(60, 64, 67, 0.15);\n",
              "    fill: var(--button-hover-fill-color);\n",
              "  }\n",
              "\n",
              "  .colab-df-quickchart-complete:disabled,\n",
              "  .colab-df-quickchart-complete:disabled:hover {\n",
              "    background-color: var(--disabled-bg-color);\n",
              "    fill: var(--disabled-fill-color);\n",
              "    box-shadow: none;\n",
              "  }\n",
              "\n",
              "  .colab-df-spinner {\n",
              "    border: 2px solid var(--fill-color);\n",
              "    border-color: transparent;\n",
              "    border-bottom-color: var(--fill-color);\n",
              "    animation:\n",
              "      spin 1s steps(1) infinite;\n",
              "  }\n",
              "\n",
              "  @keyframes spin {\n",
              "    0% {\n",
              "      border-color: transparent;\n",
              "      border-bottom-color: var(--fill-color);\n",
              "      border-left-color: var(--fill-color);\n",
              "    }\n",
              "    20% {\n",
              "      border-color: transparent;\n",
              "      border-left-color: var(--fill-color);\n",
              "      border-top-color: var(--fill-color);\n",
              "    }\n",
              "    30% {\n",
              "      border-color: transparent;\n",
              "      border-left-color: var(--fill-color);\n",
              "      border-top-color: var(--fill-color);\n",
              "      border-right-color: var(--fill-color);\n",
              "    }\n",
              "    40% {\n",
              "      border-color: transparent;\n",
              "      border-right-color: var(--fill-color);\n",
              "      border-top-color: var(--fill-color);\n",
              "    }\n",
              "    60% {\n",
              "      border-color: transparent;\n",
              "      border-right-color: var(--fill-color);\n",
              "    }\n",
              "    80% {\n",
              "      border-color: transparent;\n",
              "      border-right-color: var(--fill-color);\n",
              "      border-bottom-color: var(--fill-color);\n",
              "    }\n",
              "    90% {\n",
              "      border-color: transparent;\n",
              "      border-bottom-color: var(--fill-color);\n",
              "    }\n",
              "  }\n",
              "</style>\n",
              "\n",
              "  <script>\n",
              "    async function quickchart(key) {\n",
              "      const quickchartButtonEl =\n",
              "        document.querySelector('#' + key + ' button');\n",
              "      quickchartButtonEl.disabled = true;  // To prevent multiple clicks.\n",
              "      quickchartButtonEl.classList.add('colab-df-spinner');\n",
              "      try {\n",
              "        const charts = await google.colab.kernel.invokeFunction(\n",
              "            'suggestCharts', [key], {});\n",
              "      } catch (error) {\n",
              "        console.error('Error during call to suggestCharts:', error);\n",
              "      }\n",
              "      quickchartButtonEl.classList.remove('colab-df-spinner');\n",
              "      quickchartButtonEl.classList.add('colab-df-quickchart-complete');\n",
              "    }\n",
              "    (() => {\n",
              "      let quickchartButtonEl =\n",
              "        document.querySelector('#df-9ad7842a-d9cf-4135-883e-e661f9972c27 button');\n",
              "      quickchartButtonEl.style.display =\n",
              "        google.colab.kernel.accessAllowed ? 'block' : 'none';\n",
              "    })();\n",
              "  </script>\n",
              "</div>\n",
              "\n",
              "    </div>\n",
              "  </div>\n"
            ],
            "text/plain": [
              "        lag48    lag49    lag50    lag51    lag52    lag53    lag54    lag55  \\\n",
              "5795  120.540  134.986  150.412  152.763  136.130  121.033   80.621   43.428   \n",
              "5856  107.129  120.540  134.986  150.412  152.763  136.130  121.033   80.621   \n",
              "5917   81.920  107.129  120.540  134.986  150.412  152.763  136.130  121.033   \n",
              "5978   96.193   81.920  107.129  120.540  134.986  150.412  152.763  136.130   \n",
              "6039   94.536   96.193   81.920  107.129  120.540  134.986  150.412  152.763   \n",
              "\n",
              "        lag56    lag57  ...  rolling_mean_lag68_window_size24  \\\n",
              "5795   46.840   43.671  ...                         82.505417   \n",
              "5856   43.428   46.840  ...                         83.241833   \n",
              "5917   80.621   43.428  ...                         83.893958   \n",
              "5978  121.033   80.621  ...                         84.539375   \n",
              "6039  136.130  121.033  ...                         84.552333   \n",
              "\n",
              "      expanding_mean_lag69  rolling_mean_lag69_window_size24  \\\n",
              "5795             82.612111                         81.860500   \n",
              "5856             83.355714                         82.505417   \n",
              "5917             84.131655                         83.241833   \n",
              "5978             84.841667                         83.893958   \n",
              "6039             85.716806                         84.539375   \n",
              "\n",
              "      expanding_mean_lag70  rolling_mean_lag70_window_size24  \\\n",
              "5795             81.756654                         81.308000   \n",
              "5856             82.612111                         81.860500   \n",
              "5917             83.355714                         82.505417   \n",
              "5978             84.131655                         83.241833   \n",
              "6039             84.841667                         83.893958   \n",
              "\n",
              "      expanding_mean_lag71  rolling_mean_lag71_window_size24  month  \\\n",
              "5795             81.145600                         80.502083      9   \n",
              "5856             81.756654                         81.308000      9   \n",
              "5917             82.612111                         81.860500      9   \n",
              "5978             83.355714                         82.505417      9   \n",
              "6039             84.131655                         83.241833      9   \n",
              "\n",
              "      dayofweek  hour  \n",
              "5795          5    23  \n",
              "5856          6     0  \n",
              "5917          6     1  \n",
              "5978          6     2  \n",
              "6039          6     3  \n",
              "\n",
              "[5 rows x 99 columns]"
            ]
          },
          "execution_count": 17,
          "metadata": {},
          "output_type": "execute_result"
        }
      ],
      "source": [
        "X_train, y_train = preprocessing(df_train)\n",
        "print(f\"X_train shape : {X_train.shape}\")\n",
        "print(f\"y_train shape : {y_train.shape}\")\n",
        "X_train.head()"
      ]
    },
    {
      "cell_type": "code",
      "execution_count": null,
      "metadata": {
        "colab": {
          "base_uri": "https://localhost:8080/",
          "height": 362
        },
        "id": "r_rtye4da4wH",
        "outputId": "94fc0191-c1c8-4b75-ed90-820ec3718055"
      },
      "outputs": [
        {
          "name": "stdout",
          "output_type": "stream",
          "text": [
            "X_test shape : (84735, 99)\n",
            "y_test shape : (84735,)\n"
          ]
        },
        {
          "name": "stderr",
          "output_type": "stream",
          "text": [
            "/usr/local/lib/python3.10/dist-packages/mlforecast/core.py:489: PerformanceWarning: DataFrame is highly fragmented.  This is usually the result of calling `frame.insert` many times, which has poor performance.  Consider joining all columns at once using pd.concat(axis=1) instead. To get a de-fragmented frame, use `newframe = frame.copy()`\n",
            "  df[feat_name] = feat_vals[restore_idxs]\n",
            "/usr/local/lib/python3.10/dist-packages/mlforecast/core.py:489: PerformanceWarning: DataFrame is highly fragmented.  This is usually the result of calling `frame.insert` many times, which has poor performance.  Consider joining all columns at once using pd.concat(axis=1) instead. To get a de-fragmented frame, use `newframe = frame.copy()`\n",
            "  df[feat_name] = feat_vals[restore_idxs]\n"
          ]
        },
        {
          "data": {
            "application/vnd.google.colaboratory.intrinsic+json": {
              "type": "dataframe",
              "variable_name": "X_test"
            },
            "text/html": [
              "\n",
              "  <div id=\"df-f5f47cc8-94e2-4648-8714-709a18f350e6\" class=\"colab-df-container\">\n",
              "    <div>\n",
              "<style scoped>\n",
              "    .dataframe tbody tr th:only-of-type {\n",
              "        vertical-align: middle;\n",
              "    }\n",
              "\n",
              "    .dataframe tbody tr th {\n",
              "        vertical-align: top;\n",
              "    }\n",
              "\n",
              "    .dataframe thead th {\n",
              "        text-align: right;\n",
              "    }\n",
              "</style>\n",
              "<table border=\"1\" class=\"dataframe\">\n",
              "  <thead>\n",
              "    <tr style=\"text-align: right;\">\n",
              "      <th></th>\n",
              "      <th>lag48</th>\n",
              "      <th>lag49</th>\n",
              "      <th>lag50</th>\n",
              "      <th>lag51</th>\n",
              "      <th>lag52</th>\n",
              "      <th>lag53</th>\n",
              "      <th>lag54</th>\n",
              "      <th>lag55</th>\n",
              "      <th>lag56</th>\n",
              "      <th>lag57</th>\n",
              "      <th>...</th>\n",
              "      <th>rolling_mean_lag68_window_size24</th>\n",
              "      <th>expanding_mean_lag69</th>\n",
              "      <th>rolling_mean_lag69_window_size24</th>\n",
              "      <th>expanding_mean_lag70</th>\n",
              "      <th>rolling_mean_lag70_window_size24</th>\n",
              "      <th>expanding_mean_lag71</th>\n",
              "      <th>rolling_mean_lag71_window_size24</th>\n",
              "      <th>month</th>\n",
              "      <th>dayofweek</th>\n",
              "      <th>hour</th>\n",
              "    </tr>\n",
              "  </thead>\n",
              "  <tbody>\n",
              "    <tr>\n",
              "      <th>920263</th>\n",
              "      <td>1057.285</td>\n",
              "      <td>1107.518</td>\n",
              "      <td>1177.874</td>\n",
              "      <td>1114.973</td>\n",
              "      <td>860.687</td>\n",
              "      <td>624.847</td>\n",
              "      <td>382.365</td>\n",
              "      <td>246.753</td>\n",
              "      <td>193.661</td>\n",
              "      <td>160.944</td>\n",
              "      <td>...</td>\n",
              "      <td>722.741458</td>\n",
              "      <td>747.325111</td>\n",
              "      <td>723.395542</td>\n",
              "      <td>740.683269</td>\n",
              "      <td>723.535208</td>\n",
              "      <td>734.978880</td>\n",
              "      <td>725.296292</td>\n",
              "      <td>4</td>\n",
              "      <td>2</td>\n",
              "      <td>23</td>\n",
              "    </tr>\n",
              "    <tr>\n",
              "      <th>920328</th>\n",
              "      <td>1055.621</td>\n",
              "      <td>1057.285</td>\n",
              "      <td>1107.518</td>\n",
              "      <td>1177.874</td>\n",
              "      <td>1114.973</td>\n",
              "      <td>860.687</td>\n",
              "      <td>624.847</td>\n",
              "      <td>382.365</td>\n",
              "      <td>246.753</td>\n",
              "      <td>193.661</td>\n",
              "      <td>...</td>\n",
              "      <td>723.696750</td>\n",
              "      <td>753.981429</td>\n",
              "      <td>722.741458</td>\n",
              "      <td>747.325111</td>\n",
              "      <td>723.395542</td>\n",
              "      <td>740.683269</td>\n",
              "      <td>723.535208</td>\n",
              "      <td>4</td>\n",
              "      <td>3</td>\n",
              "      <td>0</td>\n",
              "    </tr>\n",
              "    <tr>\n",
              "      <th>920393</th>\n",
              "      <td>999.628</td>\n",
              "      <td>1055.621</td>\n",
              "      <td>1057.285</td>\n",
              "      <td>1107.518</td>\n",
              "      <td>1177.874</td>\n",
              "      <td>1114.973</td>\n",
              "      <td>860.687</td>\n",
              "      <td>624.847</td>\n",
              "      <td>382.365</td>\n",
              "      <td>246.753</td>\n",
              "      <td>...</td>\n",
              "      <td>724.803458</td>\n",
              "      <td>761.656966</td>\n",
              "      <td>723.696750</td>\n",
              "      <td>753.981429</td>\n",
              "      <td>722.741458</td>\n",
              "      <td>747.325111</td>\n",
              "      <td>723.395542</td>\n",
              "      <td>4</td>\n",
              "      <td>3</td>\n",
              "      <td>1</td>\n",
              "    </tr>\n",
              "    <tr>\n",
              "      <th>920458</th>\n",
              "      <td>1001.917</td>\n",
              "      <td>999.628</td>\n",
              "      <td>1055.621</td>\n",
              "      <td>1057.285</td>\n",
              "      <td>1107.518</td>\n",
              "      <td>1177.874</td>\n",
              "      <td>1114.973</td>\n",
              "      <td>860.687</td>\n",
              "      <td>624.847</td>\n",
              "      <td>382.365</td>\n",
              "      <td>...</td>\n",
              "      <td>726.249667</td>\n",
              "      <td>769.130867</td>\n",
              "      <td>724.803458</td>\n",
              "      <td>761.656966</td>\n",
              "      <td>723.696750</td>\n",
              "      <td>753.981429</td>\n",
              "      <td>722.741458</td>\n",
              "      <td>4</td>\n",
              "      <td>3</td>\n",
              "      <td>2</td>\n",
              "    </tr>\n",
              "    <tr>\n",
              "      <th>920523</th>\n",
              "      <td>1014.902</td>\n",
              "      <td>1001.917</td>\n",
              "      <td>999.628</td>\n",
              "      <td>1055.621</td>\n",
              "      <td>1057.285</td>\n",
              "      <td>1107.518</td>\n",
              "      <td>1177.874</td>\n",
              "      <td>1114.973</td>\n",
              "      <td>860.687</td>\n",
              "      <td>624.847</td>\n",
              "      <td>...</td>\n",
              "      <td>731.313625</td>\n",
              "      <td>778.516258</td>\n",
              "      <td>726.249667</td>\n",
              "      <td>769.130867</td>\n",
              "      <td>724.803458</td>\n",
              "      <td>761.656966</td>\n",
              "      <td>723.696750</td>\n",
              "      <td>4</td>\n",
              "      <td>3</td>\n",
              "      <td>3</td>\n",
              "    </tr>\n",
              "  </tbody>\n",
              "</table>\n",
              "<p>5 rows × 99 columns</p>\n",
              "</div>\n",
              "    <div class=\"colab-df-buttons\">\n",
              "\n",
              "  <div class=\"colab-df-container\">\n",
              "    <button class=\"colab-df-convert\" onclick=\"convertToInteractive('df-f5f47cc8-94e2-4648-8714-709a18f350e6')\"\n",
              "            title=\"Convert this dataframe to an interactive table.\"\n",
              "            style=\"display:none;\">\n",
              "\n",
              "  <svg xmlns=\"http://www.w3.org/2000/svg\" height=\"24px\" viewBox=\"0 -960 960 960\">\n",
              "    <path d=\"M120-120v-720h720v720H120Zm60-500h600v-160H180v160Zm220 220h160v-160H400v160Zm0 220h160v-160H400v160ZM180-400h160v-160H180v160Zm440 0h160v-160H620v160ZM180-180h160v-160H180v160Zm440 0h160v-160H620v160Z\"/>\n",
              "  </svg>\n",
              "    </button>\n",
              "\n",
              "  <style>\n",
              "    .colab-df-container {\n",
              "      display:flex;\n",
              "      gap: 12px;\n",
              "    }\n",
              "\n",
              "    .colab-df-convert {\n",
              "      background-color: #E8F0FE;\n",
              "      border: none;\n",
              "      border-radius: 50%;\n",
              "      cursor: pointer;\n",
              "      display: none;\n",
              "      fill: #1967D2;\n",
              "      height: 32px;\n",
              "      padding: 0 0 0 0;\n",
              "      width: 32px;\n",
              "    }\n",
              "\n",
              "    .colab-df-convert:hover {\n",
              "      background-color: #E2EBFA;\n",
              "      box-shadow: 0px 1px 2px rgba(60, 64, 67, 0.3), 0px 1px 3px 1px rgba(60, 64, 67, 0.15);\n",
              "      fill: #174EA6;\n",
              "    }\n",
              "\n",
              "    .colab-df-buttons div {\n",
              "      margin-bottom: 4px;\n",
              "    }\n",
              "\n",
              "    [theme=dark] .colab-df-convert {\n",
              "      background-color: #3B4455;\n",
              "      fill: #D2E3FC;\n",
              "    }\n",
              "\n",
              "    [theme=dark] .colab-df-convert:hover {\n",
              "      background-color: #434B5C;\n",
              "      box-shadow: 0px 1px 3px 1px rgba(0, 0, 0, 0.15);\n",
              "      filter: drop-shadow(0px 1px 2px rgba(0, 0, 0, 0.3));\n",
              "      fill: #FFFFFF;\n",
              "    }\n",
              "  </style>\n",
              "\n",
              "    <script>\n",
              "      const buttonEl =\n",
              "        document.querySelector('#df-f5f47cc8-94e2-4648-8714-709a18f350e6 button.colab-df-convert');\n",
              "      buttonEl.style.display =\n",
              "        google.colab.kernel.accessAllowed ? 'block' : 'none';\n",
              "\n",
              "      async function convertToInteractive(key) {\n",
              "        const element = document.querySelector('#df-f5f47cc8-94e2-4648-8714-709a18f350e6');\n",
              "        const dataTable =\n",
              "          await google.colab.kernel.invokeFunction('convertToInteractive',\n",
              "                                                    [key], {});\n",
              "        if (!dataTable) return;\n",
              "\n",
              "        const docLinkHtml = 'Like what you see? Visit the ' +\n",
              "          '<a target=\"_blank\" href=https://colab.research.google.com/notebooks/data_table.ipynb>data table notebook</a>'\n",
              "          + ' to learn more about interactive tables.';\n",
              "        element.innerHTML = '';\n",
              "        dataTable['output_type'] = 'display_data';\n",
              "        await google.colab.output.renderOutput(dataTable, element);\n",
              "        const docLink = document.createElement('div');\n",
              "        docLink.innerHTML = docLinkHtml;\n",
              "        element.appendChild(docLink);\n",
              "      }\n",
              "    </script>\n",
              "  </div>\n",
              "\n",
              "\n",
              "<div id=\"df-a270fc3a-3400-453a-b411-790b09500e29\">\n",
              "  <button class=\"colab-df-quickchart\" onclick=\"quickchart('df-a270fc3a-3400-453a-b411-790b09500e29')\"\n",
              "            title=\"Suggest charts\"\n",
              "            style=\"display:none;\">\n",
              "\n",
              "<svg xmlns=\"http://www.w3.org/2000/svg\" height=\"24px\"viewBox=\"0 0 24 24\"\n",
              "     width=\"24px\">\n",
              "    <g>\n",
              "        <path d=\"M19 3H5c-1.1 0-2 .9-2 2v14c0 1.1.9 2 2 2h14c1.1 0 2-.9 2-2V5c0-1.1-.9-2-2-2zM9 17H7v-7h2v7zm4 0h-2V7h2v10zm4 0h-2v-4h2v4z\"/>\n",
              "    </g>\n",
              "</svg>\n",
              "  </button>\n",
              "\n",
              "<style>\n",
              "  .colab-df-quickchart {\n",
              "      --bg-color: #E8F0FE;\n",
              "      --fill-color: #1967D2;\n",
              "      --hover-bg-color: #E2EBFA;\n",
              "      --hover-fill-color: #174EA6;\n",
              "      --disabled-fill-color: #AAA;\n",
              "      --disabled-bg-color: #DDD;\n",
              "  }\n",
              "\n",
              "  [theme=dark] .colab-df-quickchart {\n",
              "      --bg-color: #3B4455;\n",
              "      --fill-color: #D2E3FC;\n",
              "      --hover-bg-color: #434B5C;\n",
              "      --hover-fill-color: #FFFFFF;\n",
              "      --disabled-bg-color: #3B4455;\n",
              "      --disabled-fill-color: #666;\n",
              "  }\n",
              "\n",
              "  .colab-df-quickchart {\n",
              "    background-color: var(--bg-color);\n",
              "    border: none;\n",
              "    border-radius: 50%;\n",
              "    cursor: pointer;\n",
              "    display: none;\n",
              "    fill: var(--fill-color);\n",
              "    height: 32px;\n",
              "    padding: 0;\n",
              "    width: 32px;\n",
              "  }\n",
              "\n",
              "  .colab-df-quickchart:hover {\n",
              "    background-color: var(--hover-bg-color);\n",
              "    box-shadow: 0 1px 2px rgba(60, 64, 67, 0.3), 0 1px 3px 1px rgba(60, 64, 67, 0.15);\n",
              "    fill: var(--button-hover-fill-color);\n",
              "  }\n",
              "\n",
              "  .colab-df-quickchart-complete:disabled,\n",
              "  .colab-df-quickchart-complete:disabled:hover {\n",
              "    background-color: var(--disabled-bg-color);\n",
              "    fill: var(--disabled-fill-color);\n",
              "    box-shadow: none;\n",
              "  }\n",
              "\n",
              "  .colab-df-spinner {\n",
              "    border: 2px solid var(--fill-color);\n",
              "    border-color: transparent;\n",
              "    border-bottom-color: var(--fill-color);\n",
              "    animation:\n",
              "      spin 1s steps(1) infinite;\n",
              "  }\n",
              "\n",
              "  @keyframes spin {\n",
              "    0% {\n",
              "      border-color: transparent;\n",
              "      border-bottom-color: var(--fill-color);\n",
              "      border-left-color: var(--fill-color);\n",
              "    }\n",
              "    20% {\n",
              "      border-color: transparent;\n",
              "      border-left-color: var(--fill-color);\n",
              "      border-top-color: var(--fill-color);\n",
              "    }\n",
              "    30% {\n",
              "      border-color: transparent;\n",
              "      border-left-color: var(--fill-color);\n",
              "      border-top-color: var(--fill-color);\n",
              "      border-right-color: var(--fill-color);\n",
              "    }\n",
              "    40% {\n",
              "      border-color: transparent;\n",
              "      border-right-color: var(--fill-color);\n",
              "      border-top-color: var(--fill-color);\n",
              "    }\n",
              "    60% {\n",
              "      border-color: transparent;\n",
              "      border-right-color: var(--fill-color);\n",
              "    }\n",
              "    80% {\n",
              "      border-color: transparent;\n",
              "      border-right-color: var(--fill-color);\n",
              "      border-bottom-color: var(--fill-color);\n",
              "    }\n",
              "    90% {\n",
              "      border-color: transparent;\n",
              "      border-bottom-color: var(--fill-color);\n",
              "    }\n",
              "  }\n",
              "</style>\n",
              "\n",
              "  <script>\n",
              "    async function quickchart(key) {\n",
              "      const quickchartButtonEl =\n",
              "        document.querySelector('#' + key + ' button');\n",
              "      quickchartButtonEl.disabled = true;  // To prevent multiple clicks.\n",
              "      quickchartButtonEl.classList.add('colab-df-spinner');\n",
              "      try {\n",
              "        const charts = await google.colab.kernel.invokeFunction(\n",
              "            'suggestCharts', [key], {});\n",
              "      } catch (error) {\n",
              "        console.error('Error during call to suggestCharts:', error);\n",
              "      }\n",
              "      quickchartButtonEl.classList.remove('colab-df-spinner');\n",
              "      quickchartButtonEl.classList.add('colab-df-quickchart-complete');\n",
              "    }\n",
              "    (() => {\n",
              "      let quickchartButtonEl =\n",
              "        document.querySelector('#df-a270fc3a-3400-453a-b411-790b09500e29 button');\n",
              "      quickchartButtonEl.style.display =\n",
              "        google.colab.kernel.accessAllowed ? 'block' : 'none';\n",
              "    })();\n",
              "  </script>\n",
              "</div>\n",
              "\n",
              "    </div>\n",
              "  </div>\n"
            ],
            "text/plain": [
              "           lag48     lag49     lag50     lag51     lag52     lag53     lag54  \\\n",
              "920263  1057.285  1107.518  1177.874  1114.973   860.687   624.847   382.365   \n",
              "920328  1055.621  1057.285  1107.518  1177.874  1114.973   860.687   624.847   \n",
              "920393   999.628  1055.621  1057.285  1107.518  1177.874  1114.973   860.687   \n",
              "920458  1001.917   999.628  1055.621  1057.285  1107.518  1177.874  1114.973   \n",
              "920523  1014.902  1001.917   999.628  1055.621  1057.285  1107.518  1177.874   \n",
              "\n",
              "           lag55    lag56    lag57  ...  rolling_mean_lag68_window_size24  \\\n",
              "920263   246.753  193.661  160.944  ...                        722.741458   \n",
              "920328   382.365  246.753  193.661  ...                        723.696750   \n",
              "920393   624.847  382.365  246.753  ...                        724.803458   \n",
              "920458   860.687  624.847  382.365  ...                        726.249667   \n",
              "920523  1114.973  860.687  624.847  ...                        731.313625   \n",
              "\n",
              "        expanding_mean_lag69  rolling_mean_lag69_window_size24  \\\n",
              "920263            747.325111                        723.395542   \n",
              "920328            753.981429                        722.741458   \n",
              "920393            761.656966                        723.696750   \n",
              "920458            769.130867                        724.803458   \n",
              "920523            778.516258                        726.249667   \n",
              "\n",
              "        expanding_mean_lag70  rolling_mean_lag70_window_size24  \\\n",
              "920263            740.683269                        723.535208   \n",
              "920328            747.325111                        723.395542   \n",
              "920393            753.981429                        722.741458   \n",
              "920458            761.656966                        723.696750   \n",
              "920523            769.130867                        724.803458   \n",
              "\n",
              "        expanding_mean_lag71  rolling_mean_lag71_window_size24  month  \\\n",
              "920263            734.978880                        725.296292      4   \n",
              "920328            740.683269                        723.535208      4   \n",
              "920393            747.325111                        723.395542      4   \n",
              "920458            753.981429                        722.741458      4   \n",
              "920523            761.656966                        723.696750      4   \n",
              "\n",
              "        dayofweek  hour  \n",
              "920263          2    23  \n",
              "920328          3     0  \n",
              "920393          3     1  \n",
              "920458          3     2  \n",
              "920523          3     3  \n",
              "\n",
              "[5 rows x 99 columns]"
            ]
          },
          "execution_count": 18,
          "metadata": {},
          "output_type": "execute_result"
        }
      ],
      "source": [
        "X_test, y_test = preprocessing(df_test)\n",
        "print(f\"X_test shape : {X_test.shape}\")\n",
        "print(f\"y_test shape : {y_test.shape}\")\n",
        "X_test.head()"
      ]
    },
    {
      "cell_type": "markdown",
      "metadata": {
        "id": "n8XGLu6Eih-3"
      },
      "source": [
        "# HPO with Optuna"
      ]
    },
    {
      "cell_type": "markdown",
      "metadata": {
        "id": "YEsx44Sfp1bz"
      },
      "source": [
        "## Experiment configurations"
      ]
    },
    {
      "cell_type": "code",
      "execution_count": null,
      "metadata": {
        "id": "KBij8s0kNjSq"
      },
      "outputs": [],
      "source": [
        "experiment_config = {\n",
        "    \"int_params\": [\n",
        "        {\n",
        "            \"name\": \"num_trees\",\n",
        "            \"low\": 3,\n",
        "            \"high\": 10,\n",
        "            \"log\": False,\n",
        "        },\n",
        "        {\n",
        "            \"name\": \"max_depth\",\n",
        "            \"low\": 3,\n",
        "            \"high\": 10,\n",
        "        },\n",
        "        {\n",
        "            \"name\": \"num_leaves\",\n",
        "            \"low\": 5,\n",
        "            \"high\": 25,\n",
        "        },\n",
        "    ],\n",
        "    \"float_params\": [\n",
        "        {\n",
        "            \"name\": \"learning_rate\",\n",
        "            \"low\": 0.001,\n",
        "            \"high\": 0.1,\n",
        "            \"log\": True,\n",
        "        },\n",
        "        {\n",
        "            \"name\": \"feature_fraction\",\n",
        "            \"low\": 0.1,\n",
        "            \"high\": 0.75,\n",
        "        }\n",
        "    ],\n",
        "    \"objective_values\": \"mean\",\n",
        "}"
      ]
    },
    {
      "cell_type": "code",
      "execution_count": null,
      "metadata": {
        "id": "Oj3HPccFnc0f"
      },
      "outputs": [],
      "source": [
        "# Create config files directory if does not exist\n",
        "path = Path(config_files_loc, model_name)\n",
        "try:\n",
        "    path.mkdir(parents=True)\n",
        "except:\n",
        "    pass"
      ]
    },
    {
      "cell_type": "code",
      "execution_count": null,
      "metadata": {
        "colab": {
          "base_uri": "https://localhost:8080/"
        },
        "id": "VSFb9evCrXhZ",
        "outputId": "82e10ec1-4a55-4b26-c944-3d6d054b5c75"
      },
      "outputs": [
        {
          "name": "stdout",
          "output_type": "stream",
          "text": [
            "using configuration_files/lightgbm/config_3.yaml\n"
          ]
        }
      ],
      "source": [
        "# Check if the config has already been tested. If not, create a new config file\n",
        "config_version = 1\n",
        "config_files_path = Path(config_files_loc, model_name)\n",
        "list_config_files = list(config_files_path.glob(\"*.yaml\"))\n",
        "n_config_files = len(list_config_files)\n",
        "if n_config_files == 0:\n",
        "    with open(Path(config_files_path, \"config_1.yaml\"), \"w\") as file:\n",
        "        yaml.dump(experiment_config, file)\n",
        "else:\n",
        "    for config_file in list_config_files:\n",
        "        with open(config_file, \"rb\") as file:\n",
        "            config = yaml.safe_load(file)\n",
        "        if experiment_config == config:\n",
        "            break\n",
        "        config_version += 1\n",
        "        if config_version > n_config_files:\n",
        "            config_file = Path(config_files_path, f\"config_{config_version}.yaml\")\n",
        "            with open(config_file, \"w\") as file:\n",
        "                yaml.dump(experiment_config, file)\n",
        "\n",
        "print(f\"using {config_file}\")\n",
        "\n",
        "with open(config_file, \"rb\") as file:\n",
        "    config = yaml.safe_load(file)"
      ]
    },
    {
      "cell_type": "code",
      "execution_count": null,
      "metadata": {
        "id": "lQZ7APtNJVzK"
      },
      "outputs": [],
      "source": [
        "# upload configuration files to S3\n",
        "list_config_files = list(config_files_path.glob(\"*.yaml\"))\n",
        "for file_path in list_config_files:\n",
        "    s3.upload_file(\n",
        "        file_path,\n",
        "        bucket_name,\n",
        "        str(file_path),\n",
        "    )"
      ]
    },
    {
      "cell_type": "markdown",
      "metadata": {
        "id": "6vS34SzVqDY7"
      },
      "source": [
        "## Objective function"
      ]
    },
    {
      "cell_type": "code",
      "execution_count": null,
      "metadata": {
        "id": "MnLOPuYX_YQ7"
      },
      "outputs": [],
      "source": [
        "def objective(trial):\n",
        "    # Define hyperparameters\n",
        "    study_params = {\n",
        "        \"verbosity\": -1,\n",
        "        \"random_state\": 0,\n",
        "    }\n",
        "    for int_param in config[\"int_params\"]:\n",
        "        study_params[int_param[\"name\"]] = trial.suggest_int(**int_param)\n",
        "    for float_param in config[\"float_params\"]:\n",
        "        study_params[float_param[\"name\"]] = trial.suggest_float(**float_param)\n",
        "\n",
        "    # Evaluate model using cross-validation\n",
        "    tscv = TimeSeriesSplit(n_splits=5)\n",
        "    model = LGBMRegressor(**study_params)\n",
        "    cv_errors = cross_val_score(\n",
        "        model, X_train, y_train, scoring=\"neg_mean_absolute_error\", cv=tscv\n",
        "    )\n",
        "\n",
        "    # Log CV results\n",
        "    cv_errors = -cv_errors\n",
        "    for i in range(len(cv_errors)):\n",
        "        trial.set_user_attr(f\"error_split_{i+1}\", cv_errors[i])\n",
        "    # trial.set_user_attr(\"cv_errors\", list(cv_errors))\n",
        "    trial.set_user_attr(\"cv_errors_std\", cv_errors.std())\n",
        "\n",
        "    # Log train MAE\n",
        "    model.fit(X_train, y_train)\n",
        "    y_fit = model.predict(X_train)\n",
        "    train_mae = mean_absolute_error(y_train, y_fit)\n",
        "    trial.set_user_attr(\"train_mae\", train_mae)\n",
        "\n",
        "    # Log test MAE\n",
        "    y_pred = model.predict(X_test)\n",
        "    test_mae = mean_absolute_error(y_test, y_pred)\n",
        "    trial.set_user_attr(\"test_mae\", test_mae)\n",
        "\n",
        "    return cv_errors.mean()"
      ]
    },
    {
      "cell_type": "markdown",
      "metadata": {
        "id": "ImLKJohDih-4"
      },
      "source": [
        "## Create and run study"
      ]
    },
    {
      "cell_type": "code",
      "execution_count": null,
      "metadata": {
        "colab": {
          "base_uri": "https://localhost:8080/"
        },
        "id": "sHjPB6JX3ZmL",
        "outputId": "056ea174-8ac5-4edf-8e2d-757641b8af16"
      },
      "outputs": [
        {
          "name": "stdout",
          "output_type": "stream",
          "text": [
            "experiment name : lightgbm_preprocessing2_config3\n"
          ]
        }
      ],
      "source": [
        "experiment_name = (\n",
        "    f\"{model_name}_preprocessing{preprocessing_version}_config{config_version}\"\n",
        ")\n",
        "storage_name = \"sqlite:///{}/{}.db\".format(study_path, experiment_name)\n",
        "print(f\"experiment name : {experiment_name}\")"
      ]
    },
    {
      "cell_type": "code",
      "execution_count": null,
      "metadata": {
        "id": "J4u0bLP9ih-4"
      },
      "outputs": [],
      "source": [
        "# Add stream handler of stdout to show the messages\n",
        "logger = optuna.logging.get_logger(\"optuna\")\n",
        "if logger.hasHandlers():\n",
        "    logger.handlers.clear()\n",
        "logger.addHandler(logging.StreamHandler(sys.stdout))\n",
        "\n",
        "# restored_sampler = pickle.load(open(\"{}-study-sampler.pkl\".format(study_name), \"rb\"))\n",
        "sampler = optuna.samplers.TPESampler(\n",
        "    seed=0\n",
        ")  # RandomSampler, GridSampler, TPESampler, CmaEsSampler, NSGAIISampler, QMCSampler, GPSampler, BoTorchSampler, BruteForceSampler"
      ]
    },
    {
      "cell_type": "code",
      "execution_count": null,
      "metadata": {
        "colab": {
          "base_uri": "https://localhost:8080/"
        },
        "id": "H4GEjII_ih-4",
        "outputId": "773c5735-0c42-4b01-ad93-fb4a21646bb3"
      },
      "outputs": [
        {
          "name": "stdout",
          "output_type": "stream",
          "text": [
            "A new study created in RDB with name: lightgbm_preprocessing2_config3\n"
          ]
        }
      ],
      "source": [
        "# Initialize the Optuna study\n",
        "study = optuna.create_study(\n",
        "    study_name=experiment_name,\n",
        "    storage=storage_name,\n",
        "    load_if_exists=True,\n",
        "    directions=[\"minimize\"],\n",
        "    sampler=sampler,\n",
        "    # pruner=pruner,\n",
        ")"
      ]
    },
    {
      "cell_type": "code",
      "execution_count": null,
      "metadata": {
        "colab": {
          "base_uri": "https://localhost:8080/"
        },
        "id": "Mxxt7uNTyUv1",
        "outputId": "1b63c07a-710c-4e8a-83ef-8c49de60aa00"
      },
      "outputs": [
        {
          "data": {
            "text/plain": [
              "0"
            ]
          },
          "execution_count": 69,
          "metadata": {},
          "output_type": "execute_result"
        }
      ],
      "source": [
        "len(study.trials)"
      ]
    },
    {
      "cell_type": "code",
      "execution_count": null,
      "metadata": {
        "colab": {
          "base_uri": "https://localhost:8080/"
        },
        "id": "dXgE4sz-rFHO",
        "outputId": "aa1f7bbe-dfa7-4114-e1a1-12c61be60bdf"
      },
      "outputs": [
        {
          "data": {
            "text/plain": [
              "PosixPath('optuna_studies/lightgbm_preprocessing2_config3.db')"
            ]
          },
          "execution_count": 70,
          "metadata": {},
          "output_type": "execute_result"
        }
      ],
      "source": [
        "experiment_path = Path(f\"{study_path}/{experiment_name}.db\")\n",
        "experiment_path"
      ]
    },
    {
      "cell_type": "markdown",
      "source": [
        "### Run study and upload it on S3 sequentially"
      ],
      "metadata": {
        "id": "tsk05FR_C3Yv"
      }
    },
    {
      "cell_type": "code",
      "execution_count": null,
      "metadata": {
        "colab": {
          "background_save": true,
          "base_uri": "https://localhost:8080/"
        },
        "id": "5EqTjcla49pg",
        "scrolled": true,
        "outputId": "07be1953-2de1-474f-cf58-9e5ca9ea8c77"
      },
      "outputs": [
        {
          "name": "stdout",
          "output_type": "stream",
          "text": [
            "Trial 0 finished with value: 562.0289973165827 and parameters: {'num_trees': 7, 'max_depth': 8, 'num_leaves': 17, 'learning_rate': 0.012296071107325713, 'feature_fraction': 0.3753756195702881}. Best is trial 0 with value: 562.0289973165827.\n",
            "Trial 1 finished with value: 326.0017935863218 and parameters: {'num_trees': 8, 'max_depth': 6, 'num_leaves': 23, 'learning_rate': 0.08459126528049378, 'feature_fraction': 0.34923698723675556}. Best is trial 1 with value: 326.0017935863218.\n",
            "Trial 2 finished with value: 341.7653447494029 and parameters: {'num_trees': 9, 'max_depth': 7, 'num_leaves': 16, 'learning_rate': 0.07098936257405905, 'feature_fraction': 0.14617343782862652}. Best is trial 1 with value: 326.0017935863218.\n",
            "CPU times: user 2min 11s, sys: 3.47 s, total: 2min 15s\n",
            "Wall time: 2min 17s\n"
          ]
        }
      ],
      "source": [
        "# Execute the hyperparameter optimization trials\n",
        "%%time\n",
        "for i in range(3):\n",
        "    study.optimize(objective, n_trials=1)\n",
        "    s3.upload_file(\n",
        "        experiment_path,\n",
        "        bucket_name,\n",
        "        str(experiment_path),\n",
        "    )"
      ]
    },
    {
      "cell_type": "code",
      "execution_count": null,
      "metadata": {
        "colab": {
          "base_uri": "https://localhost:8080/"
        },
        "id": "f_iiAFRemn80",
        "outputId": "a98b9ed5-b2e0-40e3-cae3-b6772181c549"
      },
      "outputs": [
        {
          "name": "stdout",
          "output_type": "stream",
          "text": [
            "rm: cannot remove 'optuna_studies/lightgbm_preprocessing2_config3.db': No such file or directory\n"
          ]
        }
      ],
      "source": [
        "!rm \"{experiment_path}\""
      ]
    },
    {
      "cell_type": "code",
      "execution_count": null,
      "metadata": {
        "colab": {
          "base_uri": "https://localhost:8080/"
        },
        "id": "ouuPRTx0mzW0",
        "outputId": "227aa8d7-7a03-46f9-c5d5-6f711a73516f"
      },
      "outputs": [
        {
          "name": "stdout",
          "output_type": "stream",
          "text": [
            "A new study created in RDB with name: lightgbm-preprocessing2-config2\n"
          ]
        }
      ],
      "source": [
        "# Initialize the Optuna study\n",
        "study = optuna.create_study(\n",
        "    study_name=experiment_name,\n",
        "    storage=storage_name,\n",
        "    load_if_exists=True,\n",
        "    directions=[\"minimize\"],\n",
        "    # sampler=sampler,\n",
        "    # pruner=pruner,\n",
        ")"
      ]
    },
    {
      "cell_type": "code",
      "execution_count": null,
      "metadata": {
        "colab": {
          "base_uri": "https://localhost:8080/"
        },
        "id": "7RhMsyG9mzUE",
        "outputId": "696fcd4d-b9af-47cb-dcdf-af2d97d0944e"
      },
      "outputs": [
        {
          "data": {
            "text/plain": [
              "0"
            ]
          },
          "execution_count": 74,
          "metadata": {},
          "output_type": "execute_result"
        }
      ],
      "source": [
        "len(study.trials)"
      ]
    },
    {
      "cell_type": "markdown",
      "source": [
        "## With asyncio"
      ],
      "metadata": {
        "id": "i52yKKdKfRAF"
      }
    },
    {
      "cell_type": "markdown",
      "source": [
        "Version 1 (ChatGPT)"
      ],
      "metadata": {
        "id": "7n4bNuc4EzzM"
      }
    },
    {
      "cell_type": "code",
      "execution_count": null,
      "metadata": {
        "id": "ipaCzUkznIZK"
      },
      "outputs": [],
      "source": [
        "# import asyncio\n",
        "\n",
        "# async def optimize_task(n_iter=10):\n",
        "#     \"\"\"Task to continuously run the optimization.\"\"\"\n",
        "#     for i in range(n_iter):\n",
        "#         study.optimize(objective, n_trials=1)\n",
        "#         await asyncio.sleep(0)  # Yield control to allow other tasks to run\n",
        "\n",
        "\n",
        "# async def upload_task(\n",
        "#     sleep_time=60, file_name=f\"{study_path}/{experiment_name}.db\",\n",
        "#     bucket=bucket_name,\n",
        "#     object_name=f\"optuna-studies/{experiment_name}.db\"):\n",
        "#     \"\"\"Task to upload the file every 60 seconds.\"\"\"\n",
        "#     while True:\n",
        "#         await asyncio.sleep(sleep_time)  # Wait for 60 seconds\n",
        "#         s3.upload_file(\n",
        "#             file_name, bucket, object_name\n",
        "#         )\n",
        "\n",
        "\n",
        "# async def main():\n",
        "#     # Run both tasks concurrently\n",
        "#     await asyncio.gather(\n",
        "#         optimize_task(),\n",
        "#         upload_task()\n",
        "#     )"
      ]
    },
    {
      "cell_type": "code",
      "execution_count": null,
      "metadata": {
        "id": "Iic6DZ3joH-_"
      },
      "outputs": [],
      "source": [
        "# import nest_asyncio\n",
        "# nest_asyncio.apply()"
      ]
    },
    {
      "cell_type": "code",
      "execution_count": null,
      "metadata": {
        "id": "Qk27BBp9jw8E"
      },
      "outputs": [],
      "source": [
        "# %%time\n",
        "# # Run the event loop\n",
        "# asyncio.run(main())\n"
      ]
    },
    {
      "cell_type": "markdown",
      "source": [
        "Version 2 (Qwen2.5 Coder 32B Instruct)"
      ],
      "metadata": {
        "id": "cgqcpC2qE9B6"
      }
    },
    {
      "cell_type": "code",
      "source": [
        "!pip install optuna boto3 aiofiles aiobotocore"
      ],
      "metadata": {
        "id": "W_xcDWE_E8fz"
      },
      "execution_count": null,
      "outputs": []
    },
    {
      "cell_type": "code",
      "source": [
        "import aiofiles\n",
        "import aiobotocore\n",
        "import asyncio\n",
        "\n",
        "# Define your objective function\n",
        "def objective(trial):\n",
        "    x = trial.suggest_float('x', -10, 10)\n",
        "    return (x - 2) ** 2\n",
        "\n",
        "# Asynchronous function to upload the study database to S3\n",
        "async def upload_to_s3(file_name, bucket_name, object_name=None):\n",
        "    if object_name is None:\n",
        "        object_name = os.path.basename(file_name)\n",
        "\n",
        "    session = aiobotocore.get_session()\n",
        "    async with session.create_client('s3', region_name='us-west-2') as client:\n",
        "        try:\n",
        "            async with aiofiles.open(file_name, 'rb') as f:\n",
        "                file_content = await f.read()\n",
        "                response = await client.put_object(\n",
        "                    Bucket=bucket_name,\n",
        "                    Key=object_name,\n",
        "                    Body=file_content\n",
        "                )\n",
        "                print(f\"Successfully uploaded {file_name} to {bucket_name}/{object_name}\")\n",
        "        except Exception as e:\n",
        "            print(f\"Failed to upload {file_name} to {bucket_name}/{object_name}: {e}\")\n",
        "\n",
        "# Asynchronous function to periodically backup the study database\n",
        "async def backup_study(db_path, bucket_name, interval=300):\n",
        "    while True:\n",
        "        try:\n",
        "            await upload_to_s3(db_path, bucket_name)\n",
        "        except Exception as e:\n",
        "            print(f\"Error during backup: {e}\")\n",
        "        await asyncio.sleep(interval)\n",
        "\n",
        "# Main function to run the study and backup\n",
        "async def run_study_and_backup(db_path, bucket_name, n_trials=100):\n",
        "    study = optuna.load_study(study_name=\"example_study\", storage=f\"sqlite:///{db_path}\")\n",
        "\n",
        "    # Create a task for the backup\n",
        "    backup_task = asyncio.create_task(backup_study(db_path, bucket_name))\n",
        "\n",
        "    # Run the optimization\n",
        "    study.optimize(objective, n_trials=n_trials)\n",
        "\n",
        "    # Wait for the backup task to finish\n",
        "    await backup_task\n",
        "\n",
        "# Set up the study database and bucket name\n",
        "db_path = \"optuna_study.db\"\n",
        "bucket_name = \"your-s3-bucket-name\"\n",
        "\n",
        "# Ensure the study database exists\n",
        "if not os.path.exists(db_path):\n",
        "    optuna.create_study(study_name=\"example_study\", storage=f\"sqlite:///{db_path}\")\n",
        "\n",
        "# Run the study and backup using asyncio\n",
        "await run_study_and_backup(db_path, bucket_name)"
      ],
      "metadata": {
        "id": "DUdXLV5OFHDa"
      },
      "execution_count": null,
      "outputs": []
    },
    {
      "cell_type": "markdown",
      "source": [
        "## With threading and concurrent.futures"
      ],
      "metadata": {
        "id": "ayXKCLvMfUhe"
      }
    },
    {
      "cell_type": "code",
      "execution_count": null,
      "metadata": {
        "colab": {
          "base_uri": "https://localhost:8080/",
          "height": 1000
        },
        "id": "i8Y09MPlnEBA",
        "outputId": "b6114022-3062-4008-9be5-f3dc8edad3e8"
      },
      "outputs": [
        {
          "name": "stdout",
          "output_type": "stream",
          "text": [
            "HPO optimization started\n",
            "Uploading files to S3\n",
            "Trial 3 failed with parameters: {'num_trees': 3, 'max_depth': 3, 'num_leaves': 22, 'learning_rate': 0.0360009119291161, 'feature_fraction': 0.6655078963604325} because of the following error: KeyboardInterrupt().\n",
            "Traceback (most recent call last):\n",
            "  File \"/usr/local/lib/python3.10/dist-packages/optuna/study/_optimize.py\", line 197, in _run_trial\n",
            "    value_or_values = func(trial)\n",
            "  File \"<ipython-input-31-67417427e59f>\", line 15, in objective\n",
            "    cv_errors = cross_val_score(\n",
            "  File \"/usr/local/lib/python3.10/dist-packages/sklearn/utils/_param_validation.py\", line 213, in wrapper\n",
            "    return func(*args, **kwargs)\n",
            "  File \"/usr/local/lib/python3.10/dist-packages/sklearn/model_selection/_validation.py\", line 712, in cross_val_score\n",
            "    cv_results = cross_validate(\n",
            "  File \"/usr/local/lib/python3.10/dist-packages/sklearn/utils/_param_validation.py\", line 213, in wrapper\n",
            "    return func(*args, **kwargs)\n",
            "  File \"/usr/local/lib/python3.10/dist-packages/sklearn/model_selection/_validation.py\", line 423, in cross_validate\n",
            "    results = parallel(\n",
            "  File \"/usr/local/lib/python3.10/dist-packages/sklearn/utils/parallel.py\", line 74, in __call__\n",
            "    return super().__call__(iterable_with_config)\n",
            "  File \"/usr/local/lib/python3.10/dist-packages/joblib/parallel.py\", line 1918, in __call__\n",
            "    return output if self.return_generator else list(output)\n",
            "  File \"/usr/local/lib/python3.10/dist-packages/joblib/parallel.py\", line 1847, in _get_sequential_output\n",
            "    res = func(*args, **kwargs)\n",
            "  File \"/usr/local/lib/python3.10/dist-packages/sklearn/utils/parallel.py\", line 136, in __call__\n",
            "    return self.function(*args, **kwargs)\n",
            "  File \"/usr/local/lib/python3.10/dist-packages/sklearn/model_selection/_validation.py\", line 910, in _fit_and_score\n",
            "    test_scores = _score(\n",
            "  File \"/usr/local/lib/python3.10/dist-packages/sklearn/model_selection/_validation.py\", line 971, in _score\n",
            "    scores = scorer(estimator, X_test, y_test, **score_params)\n",
            "  File \"/usr/local/lib/python3.10/dist-packages/sklearn/metrics/_scorer.py\", line 139, in __call__\n",
            "    score = scorer._score(\n",
            "  File \"/usr/local/lib/python3.10/dist-packages/sklearn/metrics/_scorer.py\", line 376, in _score\n",
            "    return self._sign * self._score_func(y_true, y_pred, **scoring_kwargs)\n",
            "  File \"/usr/local/lib/python3.10/dist-packages/sklearn/utils/_param_validation.py\", line 213, in wrapper\n",
            "    return func(*args, **kwargs)\n",
            "  File \"/usr/local/lib/python3.10/dist-packages/sklearn/metrics/_regression.py\", line 216, in mean_absolute_error\n",
            "    y_type, y_true, y_pred, multioutput = _check_reg_targets(\n",
            "  File \"/usr/local/lib/python3.10/dist-packages/sklearn/metrics/_regression.py\", line 113, in _check_reg_targets\n",
            "    y_pred = check_array(y_pred, ensure_2d=False, dtype=dtype)\n",
            "  File \"/usr/local/lib/python3.10/dist-packages/sklearn/utils/validation.py\", line 1012, in check_array\n",
            "    array = _asarray_with_order(array, order=order, dtype=dtype, xp=xp)\n",
            "  File \"/usr/local/lib/python3.10/dist-packages/sklearn/utils/_array_api.py\", line 749, in _asarray_with_order\n",
            "    return xp.asarray(array)\n",
            "  File \"/usr/local/lib/python3.10/dist-packages/sklearn/utils/_array_api.py\", line 393, in asarray\n",
            "    _check_device_cpu(device)\n",
            "  File \"/usr/local/lib/python3.10/dist-packages/sklearn/utils/_array_api.py\", line 306, in _check_device_cpu\n",
            "    def _check_device_cpu(device):  # noqa\n",
            "KeyboardInterrupt\n",
            "Trial 3 failed with value None.\n"
          ]
        },
        {
          "ename": "KeyboardInterrupt",
          "evalue": "",
          "output_type": "error",
          "traceback": [
            "\u001b[0;31m---------------------------------------------------------------------------\u001b[0m",
            "\u001b[0;31mKeyboardInterrupt\u001b[0m                         Traceback (most recent call last)",
            "\u001b[0;32m<ipython-input-43-44cce18c8196>\u001b[0m in \u001b[0;36m<cell line: 61>\u001b[0;34m()\u001b[0m\n\u001b[1;32m     59\u001b[0m \u001b[0;34m\u001b[0m\u001b[0m\n\u001b[1;32m     60\u001b[0m \u001b[0;31m# Run the optimization task in the main process\u001b[0m\u001b[0;34m\u001b[0m\u001b[0;34m\u001b[0m\u001b[0m\n\u001b[0;32m---> 61\u001b[0;31m \u001b[0moptimize_task\u001b[0m\u001b[0;34m(\u001b[0m\u001b[0mn_trials\u001b[0m\u001b[0;34m=\u001b[0m\u001b[0;36m3\u001b[0m\u001b[0;34m)\u001b[0m\u001b[0;34m\u001b[0m\u001b[0;34m\u001b[0m\u001b[0m\n\u001b[0m\u001b[1;32m     62\u001b[0m \u001b[0;34m\u001b[0m\u001b[0m\n\u001b[1;32m     63\u001b[0m \u001b[0;31m# Wait for the I/O-bound task to complete\u001b[0m\u001b[0;34m\u001b[0m\u001b[0;34m\u001b[0m\u001b[0m\n",
            "\u001b[0;32m<ipython-input-43-44cce18c8196>\u001b[0m in \u001b[0;36moptimize_task\u001b[0;34m(n_trials)\u001b[0m\n\u001b[1;32m     26\u001b[0m \u001b[0;32mdef\u001b[0m \u001b[0moptimize_task\u001b[0m\u001b[0;34m(\u001b[0m\u001b[0mn_trials\u001b[0m\u001b[0;34m)\u001b[0m\u001b[0;34m:\u001b[0m\u001b[0;34m\u001b[0m\u001b[0;34m\u001b[0m\u001b[0m\n\u001b[1;32m     27\u001b[0m     \u001b[0mprint\u001b[0m\u001b[0;34m(\u001b[0m\u001b[0;34m\"HPO optimization started\"\u001b[0m\u001b[0;34m)\u001b[0m\u001b[0;34m\u001b[0m\u001b[0;34m\u001b[0m\u001b[0m\n\u001b[0;32m---> 28\u001b[0;31m     \u001b[0mstudy\u001b[0m\u001b[0;34m.\u001b[0m\u001b[0moptimize\u001b[0m\u001b[0;34m(\u001b[0m\u001b[0mobjective\u001b[0m\u001b[0;34m,\u001b[0m \u001b[0mn_trials\u001b[0m\u001b[0;34m=\u001b[0m\u001b[0mn_trials\u001b[0m\u001b[0;34m)\u001b[0m\u001b[0;34m\u001b[0m\u001b[0;34m\u001b[0m\u001b[0m\n\u001b[0m\u001b[1;32m     29\u001b[0m     \u001b[0mprint\u001b[0m\u001b[0;34m(\u001b[0m\u001b[0;34m\"HPO optimization finished\"\u001b[0m\u001b[0;34m)\u001b[0m\u001b[0;34m\u001b[0m\u001b[0;34m\u001b[0m\u001b[0m\n\u001b[1;32m     30\u001b[0m \u001b[0;34m\u001b[0m\u001b[0m\n",
            "\u001b[0;32m/usr/local/lib/python3.10/dist-packages/optuna/study/study.py\u001b[0m in \u001b[0;36moptimize\u001b[0;34m(self, func, n_trials, timeout, n_jobs, catch, callbacks, gc_after_trial, show_progress_bar)\u001b[0m\n\u001b[1;32m    473\u001b[0m                 \u001b[0mIf\u001b[0m \u001b[0mnested\u001b[0m \u001b[0minvocation\u001b[0m \u001b[0mof\u001b[0m \u001b[0mthis\u001b[0m \u001b[0mmethod\u001b[0m \u001b[0moccurs\u001b[0m\u001b[0;34m.\u001b[0m\u001b[0;34m\u001b[0m\u001b[0;34m\u001b[0m\u001b[0m\n\u001b[1;32m    474\u001b[0m         \"\"\"\n\u001b[0;32m--> 475\u001b[0;31m         _optimize(\n\u001b[0m\u001b[1;32m    476\u001b[0m             \u001b[0mstudy\u001b[0m\u001b[0;34m=\u001b[0m\u001b[0mself\u001b[0m\u001b[0;34m,\u001b[0m\u001b[0;34m\u001b[0m\u001b[0;34m\u001b[0m\u001b[0m\n\u001b[1;32m    477\u001b[0m             \u001b[0mfunc\u001b[0m\u001b[0;34m=\u001b[0m\u001b[0mfunc\u001b[0m\u001b[0;34m,\u001b[0m\u001b[0;34m\u001b[0m\u001b[0;34m\u001b[0m\u001b[0m\n",
            "\u001b[0;32m/usr/local/lib/python3.10/dist-packages/optuna/study/_optimize.py\u001b[0m in \u001b[0;36m_optimize\u001b[0;34m(study, func, n_trials, timeout, n_jobs, catch, callbacks, gc_after_trial, show_progress_bar)\u001b[0m\n\u001b[1;32m     61\u001b[0m     \u001b[0;32mtry\u001b[0m\u001b[0;34m:\u001b[0m\u001b[0;34m\u001b[0m\u001b[0;34m\u001b[0m\u001b[0m\n\u001b[1;32m     62\u001b[0m         \u001b[0;32mif\u001b[0m \u001b[0mn_jobs\u001b[0m \u001b[0;34m==\u001b[0m \u001b[0;36m1\u001b[0m\u001b[0;34m:\u001b[0m\u001b[0;34m\u001b[0m\u001b[0;34m\u001b[0m\u001b[0m\n\u001b[0;32m---> 63\u001b[0;31m             _optimize_sequential(\n\u001b[0m\u001b[1;32m     64\u001b[0m                 \u001b[0mstudy\u001b[0m\u001b[0;34m,\u001b[0m\u001b[0;34m\u001b[0m\u001b[0;34m\u001b[0m\u001b[0m\n\u001b[1;32m     65\u001b[0m                 \u001b[0mfunc\u001b[0m\u001b[0;34m,\u001b[0m\u001b[0;34m\u001b[0m\u001b[0;34m\u001b[0m\u001b[0m\n",
            "\u001b[0;32m/usr/local/lib/python3.10/dist-packages/optuna/study/_optimize.py\u001b[0m in \u001b[0;36m_optimize_sequential\u001b[0;34m(study, func, n_trials, timeout, catch, callbacks, gc_after_trial, reseed_sampler_rng, time_start, progress_bar)\u001b[0m\n\u001b[1;32m    158\u001b[0m \u001b[0;34m\u001b[0m\u001b[0m\n\u001b[1;32m    159\u001b[0m         \u001b[0;32mtry\u001b[0m\u001b[0;34m:\u001b[0m\u001b[0;34m\u001b[0m\u001b[0;34m\u001b[0m\u001b[0m\n\u001b[0;32m--> 160\u001b[0;31m             \u001b[0mfrozen_trial\u001b[0m \u001b[0;34m=\u001b[0m \u001b[0m_run_trial\u001b[0m\u001b[0;34m(\u001b[0m\u001b[0mstudy\u001b[0m\u001b[0;34m,\u001b[0m \u001b[0mfunc\u001b[0m\u001b[0;34m,\u001b[0m \u001b[0mcatch\u001b[0m\u001b[0;34m)\u001b[0m\u001b[0;34m\u001b[0m\u001b[0;34m\u001b[0m\u001b[0m\n\u001b[0m\u001b[1;32m    161\u001b[0m         \u001b[0;32mfinally\u001b[0m\u001b[0;34m:\u001b[0m\u001b[0;34m\u001b[0m\u001b[0;34m\u001b[0m\u001b[0m\n\u001b[1;32m    162\u001b[0m             \u001b[0;31m# The following line mitigates memory problems that can be occurred in some\u001b[0m\u001b[0;34m\u001b[0m\u001b[0;34m\u001b[0m\u001b[0m\n",
            "\u001b[0;32m/usr/local/lib/python3.10/dist-packages/optuna/study/_optimize.py\u001b[0m in \u001b[0;36m_run_trial\u001b[0;34m(study, func, catch)\u001b[0m\n\u001b[1;32m    246\u001b[0m         \u001b[0;32mand\u001b[0m \u001b[0;32mnot\u001b[0m \u001b[0misinstance\u001b[0m\u001b[0;34m(\u001b[0m\u001b[0mfunc_err\u001b[0m\u001b[0;34m,\u001b[0m \u001b[0mcatch\u001b[0m\u001b[0;34m)\u001b[0m\u001b[0;34m\u001b[0m\u001b[0;34m\u001b[0m\u001b[0m\n\u001b[1;32m    247\u001b[0m     ):\n\u001b[0;32m--> 248\u001b[0;31m         \u001b[0;32mraise\u001b[0m \u001b[0mfunc_err\u001b[0m\u001b[0;34m\u001b[0m\u001b[0;34m\u001b[0m\u001b[0m\n\u001b[0m\u001b[1;32m    249\u001b[0m     \u001b[0;32mreturn\u001b[0m \u001b[0mfrozen_trial\u001b[0m\u001b[0;34m\u001b[0m\u001b[0;34m\u001b[0m\u001b[0m\n\u001b[1;32m    250\u001b[0m \u001b[0;34m\u001b[0m\u001b[0m\n",
            "\u001b[0;32m/usr/local/lib/python3.10/dist-packages/optuna/study/_optimize.py\u001b[0m in \u001b[0;36m_run_trial\u001b[0;34m(study, func, catch)\u001b[0m\n\u001b[1;32m    195\u001b[0m     \u001b[0;32mwith\u001b[0m \u001b[0mget_heartbeat_thread\u001b[0m\u001b[0;34m(\u001b[0m\u001b[0mtrial\u001b[0m\u001b[0;34m.\u001b[0m\u001b[0m_trial_id\u001b[0m\u001b[0;34m,\u001b[0m \u001b[0mstudy\u001b[0m\u001b[0;34m.\u001b[0m\u001b[0m_storage\u001b[0m\u001b[0;34m)\u001b[0m\u001b[0;34m:\u001b[0m\u001b[0;34m\u001b[0m\u001b[0;34m\u001b[0m\u001b[0m\n\u001b[1;32m    196\u001b[0m         \u001b[0;32mtry\u001b[0m\u001b[0;34m:\u001b[0m\u001b[0;34m\u001b[0m\u001b[0;34m\u001b[0m\u001b[0m\n\u001b[0;32m--> 197\u001b[0;31m             \u001b[0mvalue_or_values\u001b[0m \u001b[0;34m=\u001b[0m \u001b[0mfunc\u001b[0m\u001b[0;34m(\u001b[0m\u001b[0mtrial\u001b[0m\u001b[0;34m)\u001b[0m\u001b[0;34m\u001b[0m\u001b[0;34m\u001b[0m\u001b[0m\n\u001b[0m\u001b[1;32m    198\u001b[0m         \u001b[0;32mexcept\u001b[0m \u001b[0mexceptions\u001b[0m\u001b[0;34m.\u001b[0m\u001b[0mTrialPruned\u001b[0m \u001b[0;32mas\u001b[0m \u001b[0me\u001b[0m\u001b[0;34m:\u001b[0m\u001b[0;34m\u001b[0m\u001b[0;34m\u001b[0m\u001b[0m\n\u001b[1;32m    199\u001b[0m             \u001b[0;31m# TODO(mamu): Handle multi-objective cases.\u001b[0m\u001b[0;34m\u001b[0m\u001b[0;34m\u001b[0m\u001b[0m\n",
            "\u001b[0;32m<ipython-input-31-67417427e59f>\u001b[0m in \u001b[0;36mobjective\u001b[0;34m(trial)\u001b[0m\n\u001b[1;32m     13\u001b[0m     \u001b[0mtscv\u001b[0m \u001b[0;34m=\u001b[0m \u001b[0mTimeSeriesSplit\u001b[0m\u001b[0;34m(\u001b[0m\u001b[0mn_splits\u001b[0m\u001b[0;34m=\u001b[0m\u001b[0;36m5\u001b[0m\u001b[0;34m)\u001b[0m\u001b[0;34m\u001b[0m\u001b[0;34m\u001b[0m\u001b[0m\n\u001b[1;32m     14\u001b[0m     \u001b[0mmodel\u001b[0m \u001b[0;34m=\u001b[0m \u001b[0mLGBMRegressor\u001b[0m\u001b[0;34m(\u001b[0m\u001b[0;34m**\u001b[0m\u001b[0mstudy_params\u001b[0m\u001b[0;34m)\u001b[0m\u001b[0;34m\u001b[0m\u001b[0;34m\u001b[0m\u001b[0m\n\u001b[0;32m---> 15\u001b[0;31m     cv_errors = cross_val_score(\n\u001b[0m\u001b[1;32m     16\u001b[0m         \u001b[0mmodel\u001b[0m\u001b[0;34m,\u001b[0m \u001b[0mX_train\u001b[0m\u001b[0;34m,\u001b[0m \u001b[0my_train\u001b[0m\u001b[0;34m,\u001b[0m \u001b[0mscoring\u001b[0m\u001b[0;34m=\u001b[0m\u001b[0;34m\"neg_mean_absolute_error\"\u001b[0m\u001b[0;34m,\u001b[0m \u001b[0mcv\u001b[0m\u001b[0;34m=\u001b[0m\u001b[0mtscv\u001b[0m\u001b[0;34m\u001b[0m\u001b[0;34m\u001b[0m\u001b[0m\n\u001b[1;32m     17\u001b[0m     )\n",
            "\u001b[0;32m/usr/local/lib/python3.10/dist-packages/sklearn/utils/_param_validation.py\u001b[0m in \u001b[0;36mwrapper\u001b[0;34m(*args, **kwargs)\u001b[0m\n\u001b[1;32m    211\u001b[0m                     )\n\u001b[1;32m    212\u001b[0m                 ):\n\u001b[0;32m--> 213\u001b[0;31m                     \u001b[0;32mreturn\u001b[0m \u001b[0mfunc\u001b[0m\u001b[0;34m(\u001b[0m\u001b[0;34m*\u001b[0m\u001b[0margs\u001b[0m\u001b[0;34m,\u001b[0m \u001b[0;34m**\u001b[0m\u001b[0mkwargs\u001b[0m\u001b[0;34m)\u001b[0m\u001b[0;34m\u001b[0m\u001b[0;34m\u001b[0m\u001b[0m\n\u001b[0m\u001b[1;32m    214\u001b[0m             \u001b[0;32mexcept\u001b[0m \u001b[0mInvalidParameterError\u001b[0m \u001b[0;32mas\u001b[0m \u001b[0me\u001b[0m\u001b[0;34m:\u001b[0m\u001b[0;34m\u001b[0m\u001b[0;34m\u001b[0m\u001b[0m\n\u001b[1;32m    215\u001b[0m                 \u001b[0;31m# When the function is just a wrapper around an estimator, we allow\u001b[0m\u001b[0;34m\u001b[0m\u001b[0;34m\u001b[0m\u001b[0m\n",
            "\u001b[0;32m/usr/local/lib/python3.10/dist-packages/sklearn/model_selection/_validation.py\u001b[0m in \u001b[0;36mcross_val_score\u001b[0;34m(estimator, X, y, groups, scoring, cv, n_jobs, verbose, fit_params, params, pre_dispatch, error_score)\u001b[0m\n\u001b[1;32m    710\u001b[0m     \u001b[0mscorer\u001b[0m \u001b[0;34m=\u001b[0m \u001b[0mcheck_scoring\u001b[0m\u001b[0;34m(\u001b[0m\u001b[0mestimator\u001b[0m\u001b[0;34m,\u001b[0m \u001b[0mscoring\u001b[0m\u001b[0;34m=\u001b[0m\u001b[0mscoring\u001b[0m\u001b[0;34m)\u001b[0m\u001b[0;34m\u001b[0m\u001b[0;34m\u001b[0m\u001b[0m\n\u001b[1;32m    711\u001b[0m \u001b[0;34m\u001b[0m\u001b[0m\n\u001b[0;32m--> 712\u001b[0;31m     cv_results = cross_validate(\n\u001b[0m\u001b[1;32m    713\u001b[0m         \u001b[0mestimator\u001b[0m\u001b[0;34m=\u001b[0m\u001b[0mestimator\u001b[0m\u001b[0;34m,\u001b[0m\u001b[0;34m\u001b[0m\u001b[0;34m\u001b[0m\u001b[0m\n\u001b[1;32m    714\u001b[0m         \u001b[0mX\u001b[0m\u001b[0;34m=\u001b[0m\u001b[0mX\u001b[0m\u001b[0;34m,\u001b[0m\u001b[0;34m\u001b[0m\u001b[0;34m\u001b[0m\u001b[0m\n",
            "\u001b[0;32m/usr/local/lib/python3.10/dist-packages/sklearn/utils/_param_validation.py\u001b[0m in \u001b[0;36mwrapper\u001b[0;34m(*args, **kwargs)\u001b[0m\n\u001b[1;32m    211\u001b[0m                     )\n\u001b[1;32m    212\u001b[0m                 ):\n\u001b[0;32m--> 213\u001b[0;31m                     \u001b[0;32mreturn\u001b[0m \u001b[0mfunc\u001b[0m\u001b[0;34m(\u001b[0m\u001b[0;34m*\u001b[0m\u001b[0margs\u001b[0m\u001b[0;34m,\u001b[0m \u001b[0;34m**\u001b[0m\u001b[0mkwargs\u001b[0m\u001b[0;34m)\u001b[0m\u001b[0;34m\u001b[0m\u001b[0;34m\u001b[0m\u001b[0m\n\u001b[0m\u001b[1;32m    214\u001b[0m             \u001b[0;32mexcept\u001b[0m \u001b[0mInvalidParameterError\u001b[0m \u001b[0;32mas\u001b[0m \u001b[0me\u001b[0m\u001b[0;34m:\u001b[0m\u001b[0;34m\u001b[0m\u001b[0;34m\u001b[0m\u001b[0m\n\u001b[1;32m    215\u001b[0m                 \u001b[0;31m# When the function is just a wrapper around an estimator, we allow\u001b[0m\u001b[0;34m\u001b[0m\u001b[0;34m\u001b[0m\u001b[0m\n",
            "\u001b[0;32m/usr/local/lib/python3.10/dist-packages/sklearn/model_selection/_validation.py\u001b[0m in \u001b[0;36mcross_validate\u001b[0;34m(estimator, X, y, groups, scoring, cv, n_jobs, verbose, fit_params, params, pre_dispatch, return_train_score, return_estimator, return_indices, error_score)\u001b[0m\n\u001b[1;32m    421\u001b[0m     \u001b[0;31m# independent, and that it is pickle-able.\u001b[0m\u001b[0;34m\u001b[0m\u001b[0;34m\u001b[0m\u001b[0m\n\u001b[1;32m    422\u001b[0m     \u001b[0mparallel\u001b[0m \u001b[0;34m=\u001b[0m \u001b[0mParallel\u001b[0m\u001b[0;34m(\u001b[0m\u001b[0mn_jobs\u001b[0m\u001b[0;34m=\u001b[0m\u001b[0mn_jobs\u001b[0m\u001b[0;34m,\u001b[0m \u001b[0mverbose\u001b[0m\u001b[0;34m=\u001b[0m\u001b[0mverbose\u001b[0m\u001b[0;34m,\u001b[0m \u001b[0mpre_dispatch\u001b[0m\u001b[0;34m=\u001b[0m\u001b[0mpre_dispatch\u001b[0m\u001b[0;34m)\u001b[0m\u001b[0;34m\u001b[0m\u001b[0;34m\u001b[0m\u001b[0m\n\u001b[0;32m--> 423\u001b[0;31m     results = parallel(\n\u001b[0m\u001b[1;32m    424\u001b[0m         delayed(_fit_and_score)(\n\u001b[1;32m    425\u001b[0m             \u001b[0mclone\u001b[0m\u001b[0;34m(\u001b[0m\u001b[0mestimator\u001b[0m\u001b[0;34m)\u001b[0m\u001b[0;34m,\u001b[0m\u001b[0;34m\u001b[0m\u001b[0;34m\u001b[0m\u001b[0m\n",
            "\u001b[0;32m/usr/local/lib/python3.10/dist-packages/sklearn/utils/parallel.py\u001b[0m in \u001b[0;36m__call__\u001b[0;34m(self, iterable)\u001b[0m\n\u001b[1;32m     72\u001b[0m             \u001b[0;32mfor\u001b[0m \u001b[0mdelayed_func\u001b[0m\u001b[0;34m,\u001b[0m \u001b[0margs\u001b[0m\u001b[0;34m,\u001b[0m \u001b[0mkwargs\u001b[0m \u001b[0;32min\u001b[0m \u001b[0miterable\u001b[0m\u001b[0;34m\u001b[0m\u001b[0;34m\u001b[0m\u001b[0m\n\u001b[1;32m     73\u001b[0m         )\n\u001b[0;32m---> 74\u001b[0;31m         \u001b[0;32mreturn\u001b[0m \u001b[0msuper\u001b[0m\u001b[0;34m(\u001b[0m\u001b[0;34m)\u001b[0m\u001b[0;34m.\u001b[0m\u001b[0m__call__\u001b[0m\u001b[0;34m(\u001b[0m\u001b[0miterable_with_config\u001b[0m\u001b[0;34m)\u001b[0m\u001b[0;34m\u001b[0m\u001b[0;34m\u001b[0m\u001b[0m\n\u001b[0m\u001b[1;32m     75\u001b[0m \u001b[0;34m\u001b[0m\u001b[0m\n\u001b[1;32m     76\u001b[0m \u001b[0;34m\u001b[0m\u001b[0m\n",
            "\u001b[0;32m/usr/local/lib/python3.10/dist-packages/joblib/parallel.py\u001b[0m in \u001b[0;36m__call__\u001b[0;34m(self, iterable)\u001b[0m\n\u001b[1;32m   1916\u001b[0m             \u001b[0moutput\u001b[0m \u001b[0;34m=\u001b[0m \u001b[0mself\u001b[0m\u001b[0;34m.\u001b[0m\u001b[0m_get_sequential_output\u001b[0m\u001b[0;34m(\u001b[0m\u001b[0miterable\u001b[0m\u001b[0;34m)\u001b[0m\u001b[0;34m\u001b[0m\u001b[0;34m\u001b[0m\u001b[0m\n\u001b[1;32m   1917\u001b[0m             \u001b[0mnext\u001b[0m\u001b[0;34m(\u001b[0m\u001b[0moutput\u001b[0m\u001b[0;34m)\u001b[0m\u001b[0;34m\u001b[0m\u001b[0;34m\u001b[0m\u001b[0m\n\u001b[0;32m-> 1918\u001b[0;31m             \u001b[0;32mreturn\u001b[0m \u001b[0moutput\u001b[0m \u001b[0;32mif\u001b[0m \u001b[0mself\u001b[0m\u001b[0;34m.\u001b[0m\u001b[0mreturn_generator\u001b[0m \u001b[0;32melse\u001b[0m \u001b[0mlist\u001b[0m\u001b[0;34m(\u001b[0m\u001b[0moutput\u001b[0m\u001b[0;34m)\u001b[0m\u001b[0;34m\u001b[0m\u001b[0;34m\u001b[0m\u001b[0m\n\u001b[0m\u001b[1;32m   1919\u001b[0m \u001b[0;34m\u001b[0m\u001b[0m\n\u001b[1;32m   1920\u001b[0m         \u001b[0;31m# Let's create an ID that uniquely identifies the current call. If the\u001b[0m\u001b[0;34m\u001b[0m\u001b[0;34m\u001b[0m\u001b[0m\n",
            "\u001b[0;32m/usr/local/lib/python3.10/dist-packages/joblib/parallel.py\u001b[0m in \u001b[0;36m_get_sequential_output\u001b[0;34m(self, iterable)\u001b[0m\n\u001b[1;32m   1845\u001b[0m                 \u001b[0mself\u001b[0m\u001b[0;34m.\u001b[0m\u001b[0mn_dispatched_batches\u001b[0m \u001b[0;34m+=\u001b[0m \u001b[0;36m1\u001b[0m\u001b[0;34m\u001b[0m\u001b[0;34m\u001b[0m\u001b[0m\n\u001b[1;32m   1846\u001b[0m                 \u001b[0mself\u001b[0m\u001b[0;34m.\u001b[0m\u001b[0mn_dispatched_tasks\u001b[0m \u001b[0;34m+=\u001b[0m \u001b[0;36m1\u001b[0m\u001b[0;34m\u001b[0m\u001b[0;34m\u001b[0m\u001b[0m\n\u001b[0;32m-> 1847\u001b[0;31m                 \u001b[0mres\u001b[0m \u001b[0;34m=\u001b[0m \u001b[0mfunc\u001b[0m\u001b[0;34m(\u001b[0m\u001b[0;34m*\u001b[0m\u001b[0margs\u001b[0m\u001b[0;34m,\u001b[0m \u001b[0;34m**\u001b[0m\u001b[0mkwargs\u001b[0m\u001b[0;34m)\u001b[0m\u001b[0;34m\u001b[0m\u001b[0;34m\u001b[0m\u001b[0m\n\u001b[0m\u001b[1;32m   1848\u001b[0m                 \u001b[0mself\u001b[0m\u001b[0;34m.\u001b[0m\u001b[0mn_completed_tasks\u001b[0m \u001b[0;34m+=\u001b[0m \u001b[0;36m1\u001b[0m\u001b[0;34m\u001b[0m\u001b[0;34m\u001b[0m\u001b[0m\n\u001b[1;32m   1849\u001b[0m                 \u001b[0mself\u001b[0m\u001b[0;34m.\u001b[0m\u001b[0mprint_progress\u001b[0m\u001b[0;34m(\u001b[0m\u001b[0;34m)\u001b[0m\u001b[0;34m\u001b[0m\u001b[0;34m\u001b[0m\u001b[0m\n",
            "\u001b[0;32m/usr/local/lib/python3.10/dist-packages/sklearn/utils/parallel.py\u001b[0m in \u001b[0;36m__call__\u001b[0;34m(self, *args, **kwargs)\u001b[0m\n\u001b[1;32m    134\u001b[0m             \u001b[0mconfig\u001b[0m \u001b[0;34m=\u001b[0m \u001b[0;34m{\u001b[0m\u001b[0;34m}\u001b[0m\u001b[0;34m\u001b[0m\u001b[0;34m\u001b[0m\u001b[0m\n\u001b[1;32m    135\u001b[0m         \u001b[0;32mwith\u001b[0m \u001b[0mconfig_context\u001b[0m\u001b[0;34m(\u001b[0m\u001b[0;34m**\u001b[0m\u001b[0mconfig\u001b[0m\u001b[0;34m)\u001b[0m\u001b[0;34m:\u001b[0m\u001b[0;34m\u001b[0m\u001b[0;34m\u001b[0m\u001b[0m\n\u001b[0;32m--> 136\u001b[0;31m             \u001b[0;32mreturn\u001b[0m \u001b[0mself\u001b[0m\u001b[0;34m.\u001b[0m\u001b[0mfunction\u001b[0m\u001b[0;34m(\u001b[0m\u001b[0;34m*\u001b[0m\u001b[0margs\u001b[0m\u001b[0;34m,\u001b[0m \u001b[0;34m**\u001b[0m\u001b[0mkwargs\u001b[0m\u001b[0;34m)\u001b[0m\u001b[0;34m\u001b[0m\u001b[0;34m\u001b[0m\u001b[0m\n\u001b[0m\u001b[1;32m    137\u001b[0m \u001b[0;34m\u001b[0m\u001b[0m\n\u001b[1;32m    138\u001b[0m \u001b[0;34m\u001b[0m\u001b[0m\n",
            "\u001b[0;32m/usr/local/lib/python3.10/dist-packages/sklearn/model_selection/_validation.py\u001b[0m in \u001b[0;36m_fit_and_score\u001b[0;34m(estimator, X, y, scorer, train, test, verbose, parameters, fit_params, score_params, return_train_score, return_parameters, return_n_test_samples, return_times, return_estimator, split_progress, candidate_progress, error_score)\u001b[0m\n\u001b[1;32m    908\u001b[0m \u001b[0;34m\u001b[0m\u001b[0m\n\u001b[1;32m    909\u001b[0m         \u001b[0mfit_time\u001b[0m \u001b[0;34m=\u001b[0m \u001b[0mtime\u001b[0m\u001b[0;34m.\u001b[0m\u001b[0mtime\u001b[0m\u001b[0;34m(\u001b[0m\u001b[0;34m)\u001b[0m \u001b[0;34m-\u001b[0m \u001b[0mstart_time\u001b[0m\u001b[0;34m\u001b[0m\u001b[0;34m\u001b[0m\u001b[0m\n\u001b[0;32m--> 910\u001b[0;31m         test_scores = _score(\n\u001b[0m\u001b[1;32m    911\u001b[0m             \u001b[0mestimator\u001b[0m\u001b[0;34m,\u001b[0m \u001b[0mX_test\u001b[0m\u001b[0;34m,\u001b[0m \u001b[0my_test\u001b[0m\u001b[0;34m,\u001b[0m \u001b[0mscorer\u001b[0m\u001b[0;34m,\u001b[0m \u001b[0mscore_params_test\u001b[0m\u001b[0;34m,\u001b[0m \u001b[0merror_score\u001b[0m\u001b[0;34m\u001b[0m\u001b[0;34m\u001b[0m\u001b[0m\n\u001b[1;32m    912\u001b[0m         )\n",
            "\u001b[0;32m/usr/local/lib/python3.10/dist-packages/sklearn/model_selection/_validation.py\u001b[0m in \u001b[0;36m_score\u001b[0;34m(estimator, X_test, y_test, scorer, score_params, error_score)\u001b[0m\n\u001b[1;32m    969\u001b[0m             \u001b[0mscores\u001b[0m \u001b[0;34m=\u001b[0m \u001b[0mscorer\u001b[0m\u001b[0;34m(\u001b[0m\u001b[0mestimator\u001b[0m\u001b[0;34m,\u001b[0m \u001b[0mX_test\u001b[0m\u001b[0;34m,\u001b[0m \u001b[0;34m**\u001b[0m\u001b[0mscore_params\u001b[0m\u001b[0;34m)\u001b[0m\u001b[0;34m\u001b[0m\u001b[0;34m\u001b[0m\u001b[0m\n\u001b[1;32m    970\u001b[0m         \u001b[0;32melse\u001b[0m\u001b[0;34m:\u001b[0m\u001b[0;34m\u001b[0m\u001b[0;34m\u001b[0m\u001b[0m\n\u001b[0;32m--> 971\u001b[0;31m             \u001b[0mscores\u001b[0m \u001b[0;34m=\u001b[0m \u001b[0mscorer\u001b[0m\u001b[0;34m(\u001b[0m\u001b[0mestimator\u001b[0m\u001b[0;34m,\u001b[0m \u001b[0mX_test\u001b[0m\u001b[0;34m,\u001b[0m \u001b[0my_test\u001b[0m\u001b[0;34m,\u001b[0m \u001b[0;34m**\u001b[0m\u001b[0mscore_params\u001b[0m\u001b[0;34m)\u001b[0m\u001b[0;34m\u001b[0m\u001b[0;34m\u001b[0m\u001b[0m\n\u001b[0m\u001b[1;32m    972\u001b[0m     \u001b[0;32mexcept\u001b[0m \u001b[0mException\u001b[0m\u001b[0;34m:\u001b[0m\u001b[0;34m\u001b[0m\u001b[0;34m\u001b[0m\u001b[0m\n\u001b[1;32m    973\u001b[0m         \u001b[0;32mif\u001b[0m \u001b[0misinstance\u001b[0m\u001b[0;34m(\u001b[0m\u001b[0mscorer\u001b[0m\u001b[0;34m,\u001b[0m \u001b[0m_MultimetricScorer\u001b[0m\u001b[0;34m)\u001b[0m\u001b[0;34m:\u001b[0m\u001b[0;34m\u001b[0m\u001b[0;34m\u001b[0m\u001b[0m\n",
            "\u001b[0;32m/usr/local/lib/python3.10/dist-packages/sklearn/metrics/_scorer.py\u001b[0m in \u001b[0;36m__call__\u001b[0;34m(self, estimator, *args, **kwargs)\u001b[0m\n\u001b[1;32m    137\u001b[0m             \u001b[0;32mtry\u001b[0m\u001b[0;34m:\u001b[0m\u001b[0;34m\u001b[0m\u001b[0;34m\u001b[0m\u001b[0m\n\u001b[1;32m    138\u001b[0m                 \u001b[0;32mif\u001b[0m \u001b[0misinstance\u001b[0m\u001b[0;34m(\u001b[0m\u001b[0mscorer\u001b[0m\u001b[0;34m,\u001b[0m \u001b[0m_BaseScorer\u001b[0m\u001b[0;34m)\u001b[0m\u001b[0;34m:\u001b[0m\u001b[0;34m\u001b[0m\u001b[0;34m\u001b[0m\u001b[0m\n\u001b[0;32m--> 139\u001b[0;31m                     score = scorer._score(\n\u001b[0m\u001b[1;32m    140\u001b[0m                         \u001b[0mcached_call\u001b[0m\u001b[0;34m,\u001b[0m \u001b[0mestimator\u001b[0m\u001b[0;34m,\u001b[0m \u001b[0;34m*\u001b[0m\u001b[0margs\u001b[0m\u001b[0;34m,\u001b[0m \u001b[0;34m**\u001b[0m\u001b[0mrouted_params\u001b[0m\u001b[0;34m.\u001b[0m\u001b[0mget\u001b[0m\u001b[0;34m(\u001b[0m\u001b[0mname\u001b[0m\u001b[0;34m)\u001b[0m\u001b[0;34m.\u001b[0m\u001b[0mscore\u001b[0m\u001b[0;34m\u001b[0m\u001b[0;34m\u001b[0m\u001b[0m\n\u001b[1;32m    141\u001b[0m                     )\n",
            "\u001b[0;32m/usr/local/lib/python3.10/dist-packages/sklearn/metrics/_scorer.py\u001b[0m in \u001b[0;36m_score\u001b[0;34m(self, method_caller, estimator, X, y_true, **kwargs)\u001b[0m\n\u001b[1;32m    374\u001b[0m \u001b[0;34m\u001b[0m\u001b[0m\n\u001b[1;32m    375\u001b[0m         \u001b[0mscoring_kwargs\u001b[0m \u001b[0;34m=\u001b[0m \u001b[0;34m{\u001b[0m\u001b[0;34m**\u001b[0m\u001b[0mself\u001b[0m\u001b[0;34m.\u001b[0m\u001b[0m_kwargs\u001b[0m\u001b[0;34m,\u001b[0m \u001b[0;34m**\u001b[0m\u001b[0mkwargs\u001b[0m\u001b[0;34m}\u001b[0m\u001b[0;34m\u001b[0m\u001b[0;34m\u001b[0m\u001b[0m\n\u001b[0;32m--> 376\u001b[0;31m         \u001b[0;32mreturn\u001b[0m \u001b[0mself\u001b[0m\u001b[0;34m.\u001b[0m\u001b[0m_sign\u001b[0m \u001b[0;34m*\u001b[0m \u001b[0mself\u001b[0m\u001b[0;34m.\u001b[0m\u001b[0m_score_func\u001b[0m\u001b[0;34m(\u001b[0m\u001b[0my_true\u001b[0m\u001b[0;34m,\u001b[0m \u001b[0my_pred\u001b[0m\u001b[0;34m,\u001b[0m \u001b[0;34m**\u001b[0m\u001b[0mscoring_kwargs\u001b[0m\u001b[0;34m)\u001b[0m\u001b[0;34m\u001b[0m\u001b[0;34m\u001b[0m\u001b[0m\n\u001b[0m\u001b[1;32m    377\u001b[0m \u001b[0;34m\u001b[0m\u001b[0m\n\u001b[1;32m    378\u001b[0m \u001b[0;34m\u001b[0m\u001b[0m\n",
            "\u001b[0;32m/usr/local/lib/python3.10/dist-packages/sklearn/utils/_param_validation.py\u001b[0m in \u001b[0;36mwrapper\u001b[0;34m(*args, **kwargs)\u001b[0m\n\u001b[1;32m    211\u001b[0m                     )\n\u001b[1;32m    212\u001b[0m                 ):\n\u001b[0;32m--> 213\u001b[0;31m                     \u001b[0;32mreturn\u001b[0m \u001b[0mfunc\u001b[0m\u001b[0;34m(\u001b[0m\u001b[0;34m*\u001b[0m\u001b[0margs\u001b[0m\u001b[0;34m,\u001b[0m \u001b[0;34m**\u001b[0m\u001b[0mkwargs\u001b[0m\u001b[0;34m)\u001b[0m\u001b[0;34m\u001b[0m\u001b[0;34m\u001b[0m\u001b[0m\n\u001b[0m\u001b[1;32m    214\u001b[0m             \u001b[0;32mexcept\u001b[0m \u001b[0mInvalidParameterError\u001b[0m \u001b[0;32mas\u001b[0m \u001b[0me\u001b[0m\u001b[0;34m:\u001b[0m\u001b[0;34m\u001b[0m\u001b[0;34m\u001b[0m\u001b[0m\n\u001b[1;32m    215\u001b[0m                 \u001b[0;31m# When the function is just a wrapper around an estimator, we allow\u001b[0m\u001b[0;34m\u001b[0m\u001b[0;34m\u001b[0m\u001b[0m\n",
            "\u001b[0;32m/usr/local/lib/python3.10/dist-packages/sklearn/metrics/_regression.py\u001b[0m in \u001b[0;36mmean_absolute_error\u001b[0;34m(y_true, y_pred, sample_weight, multioutput)\u001b[0m\n\u001b[1;32m    214\u001b[0m     \u001b[0mnp\u001b[0m\u001b[0;34m.\u001b[0m\u001b[0mfloat64\u001b[0m\u001b[0;34m(\u001b[0m\u001b[0;36m0.85\u001b[0m\u001b[0;34m...\u001b[0m\u001b[0;34m)\u001b[0m\u001b[0;34m\u001b[0m\u001b[0;34m\u001b[0m\u001b[0m\n\u001b[1;32m    215\u001b[0m     \"\"\"\n\u001b[0;32m--> 216\u001b[0;31m     y_type, y_true, y_pred, multioutput = _check_reg_targets(\n\u001b[0m\u001b[1;32m    217\u001b[0m         \u001b[0my_true\u001b[0m\u001b[0;34m,\u001b[0m \u001b[0my_pred\u001b[0m\u001b[0;34m,\u001b[0m \u001b[0mmultioutput\u001b[0m\u001b[0;34m\u001b[0m\u001b[0;34m\u001b[0m\u001b[0m\n\u001b[1;32m    218\u001b[0m     )\n",
            "\u001b[0;32m/usr/local/lib/python3.10/dist-packages/sklearn/metrics/_regression.py\u001b[0m in \u001b[0;36m_check_reg_targets\u001b[0;34m(y_true, y_pred, multioutput, dtype, xp)\u001b[0m\n\u001b[1;32m    111\u001b[0m     \u001b[0mcheck_consistent_length\u001b[0m\u001b[0;34m(\u001b[0m\u001b[0my_true\u001b[0m\u001b[0;34m,\u001b[0m \u001b[0my_pred\u001b[0m\u001b[0;34m)\u001b[0m\u001b[0;34m\u001b[0m\u001b[0;34m\u001b[0m\u001b[0m\n\u001b[1;32m    112\u001b[0m     \u001b[0my_true\u001b[0m \u001b[0;34m=\u001b[0m \u001b[0mcheck_array\u001b[0m\u001b[0;34m(\u001b[0m\u001b[0my_true\u001b[0m\u001b[0;34m,\u001b[0m \u001b[0mensure_2d\u001b[0m\u001b[0;34m=\u001b[0m\u001b[0;32mFalse\u001b[0m\u001b[0;34m,\u001b[0m \u001b[0mdtype\u001b[0m\u001b[0;34m=\u001b[0m\u001b[0mdtype\u001b[0m\u001b[0;34m)\u001b[0m\u001b[0;34m\u001b[0m\u001b[0;34m\u001b[0m\u001b[0m\n\u001b[0;32m--> 113\u001b[0;31m     \u001b[0my_pred\u001b[0m \u001b[0;34m=\u001b[0m \u001b[0mcheck_array\u001b[0m\u001b[0;34m(\u001b[0m\u001b[0my_pred\u001b[0m\u001b[0;34m,\u001b[0m \u001b[0mensure_2d\u001b[0m\u001b[0;34m=\u001b[0m\u001b[0;32mFalse\u001b[0m\u001b[0;34m,\u001b[0m \u001b[0mdtype\u001b[0m\u001b[0;34m=\u001b[0m\u001b[0mdtype\u001b[0m\u001b[0;34m)\u001b[0m\u001b[0;34m\u001b[0m\u001b[0;34m\u001b[0m\u001b[0m\n\u001b[0m\u001b[1;32m    114\u001b[0m \u001b[0;34m\u001b[0m\u001b[0m\n\u001b[1;32m    115\u001b[0m     \u001b[0;32mif\u001b[0m \u001b[0my_true\u001b[0m\u001b[0;34m.\u001b[0m\u001b[0mndim\u001b[0m \u001b[0;34m==\u001b[0m \u001b[0;36m1\u001b[0m\u001b[0;34m:\u001b[0m\u001b[0;34m\u001b[0m\u001b[0;34m\u001b[0m\u001b[0m\n",
            "\u001b[0;32m/usr/local/lib/python3.10/dist-packages/sklearn/utils/validation.py\u001b[0m in \u001b[0;36mcheck_array\u001b[0;34m(array, accept_sparse, accept_large_sparse, dtype, order, copy, force_writeable, force_all_finite, ensure_2d, allow_nd, ensure_min_samples, ensure_min_features, estimator, input_name)\u001b[0m\n\u001b[1;32m   1010\u001b[0m                     \u001b[0marray\u001b[0m \u001b[0;34m=\u001b[0m \u001b[0mxp\u001b[0m\u001b[0;34m.\u001b[0m\u001b[0mastype\u001b[0m\u001b[0;34m(\u001b[0m\u001b[0marray\u001b[0m\u001b[0;34m,\u001b[0m \u001b[0mdtype\u001b[0m\u001b[0;34m,\u001b[0m \u001b[0mcopy\u001b[0m\u001b[0;34m=\u001b[0m\u001b[0;32mFalse\u001b[0m\u001b[0;34m)\u001b[0m\u001b[0;34m\u001b[0m\u001b[0;34m\u001b[0m\u001b[0m\n\u001b[1;32m   1011\u001b[0m                 \u001b[0;32melse\u001b[0m\u001b[0;34m:\u001b[0m\u001b[0;34m\u001b[0m\u001b[0;34m\u001b[0m\u001b[0m\n\u001b[0;32m-> 1012\u001b[0;31m                     \u001b[0marray\u001b[0m \u001b[0;34m=\u001b[0m \u001b[0m_asarray_with_order\u001b[0m\u001b[0;34m(\u001b[0m\u001b[0marray\u001b[0m\u001b[0;34m,\u001b[0m \u001b[0morder\u001b[0m\u001b[0;34m=\u001b[0m\u001b[0morder\u001b[0m\u001b[0;34m,\u001b[0m \u001b[0mdtype\u001b[0m\u001b[0;34m=\u001b[0m\u001b[0mdtype\u001b[0m\u001b[0;34m,\u001b[0m \u001b[0mxp\u001b[0m\u001b[0;34m=\u001b[0m\u001b[0mxp\u001b[0m\u001b[0;34m)\u001b[0m\u001b[0;34m\u001b[0m\u001b[0;34m\u001b[0m\u001b[0m\n\u001b[0m\u001b[1;32m   1013\u001b[0m             \u001b[0;32mexcept\u001b[0m \u001b[0mComplexWarning\u001b[0m \u001b[0;32mas\u001b[0m \u001b[0mcomplex_warning\u001b[0m\u001b[0;34m:\u001b[0m\u001b[0;34m\u001b[0m\u001b[0;34m\u001b[0m\u001b[0m\n\u001b[1;32m   1014\u001b[0m                 raise ValueError(\n",
            "\u001b[0;32m/usr/local/lib/python3.10/dist-packages/sklearn/utils/_array_api.py\u001b[0m in \u001b[0;36m_asarray_with_order\u001b[0;34m(array, dtype, order, copy, xp, device)\u001b[0m\n\u001b[1;32m    747\u001b[0m         \u001b[0;31m# At this point array is a NumPy ndarray. We convert it to an array\u001b[0m\u001b[0;34m\u001b[0m\u001b[0;34m\u001b[0m\u001b[0m\n\u001b[1;32m    748\u001b[0m         \u001b[0;31m# container that is consistent with the input's namespace.\u001b[0m\u001b[0;34m\u001b[0m\u001b[0;34m\u001b[0m\u001b[0m\n\u001b[0;32m--> 749\u001b[0;31m         \u001b[0;32mreturn\u001b[0m \u001b[0mxp\u001b[0m\u001b[0;34m.\u001b[0m\u001b[0masarray\u001b[0m\u001b[0;34m(\u001b[0m\u001b[0marray\u001b[0m\u001b[0;34m)\u001b[0m\u001b[0;34m\u001b[0m\u001b[0;34m\u001b[0m\u001b[0m\n\u001b[0m\u001b[1;32m    750\u001b[0m     \u001b[0;32melse\u001b[0m\u001b[0;34m:\u001b[0m\u001b[0;34m\u001b[0m\u001b[0;34m\u001b[0m\u001b[0m\n\u001b[1;32m    751\u001b[0m         \u001b[0;32mreturn\u001b[0m \u001b[0mxp\u001b[0m\u001b[0;34m.\u001b[0m\u001b[0masarray\u001b[0m\u001b[0;34m(\u001b[0m\u001b[0marray\u001b[0m\u001b[0;34m,\u001b[0m \u001b[0mdtype\u001b[0m\u001b[0;34m=\u001b[0m\u001b[0mdtype\u001b[0m\u001b[0;34m,\u001b[0m \u001b[0mcopy\u001b[0m\u001b[0;34m=\u001b[0m\u001b[0mcopy\u001b[0m\u001b[0;34m,\u001b[0m \u001b[0mdevice\u001b[0m\u001b[0;34m=\u001b[0m\u001b[0mdevice\u001b[0m\u001b[0;34m)\u001b[0m\u001b[0;34m\u001b[0m\u001b[0;34m\u001b[0m\u001b[0m\n",
            "\u001b[0;32m/usr/local/lib/python3.10/dist-packages/sklearn/utils/_array_api.py\u001b[0m in \u001b[0;36masarray\u001b[0;34m(self, x, dtype, device, copy)\u001b[0m\n\u001b[1;32m    391\u001b[0m \u001b[0;34m\u001b[0m\u001b[0m\n\u001b[1;32m    392\u001b[0m     \u001b[0;32mdef\u001b[0m \u001b[0masarray\u001b[0m\u001b[0;34m(\u001b[0m\u001b[0mself\u001b[0m\u001b[0;34m,\u001b[0m \u001b[0mx\u001b[0m\u001b[0;34m,\u001b[0m \u001b[0;34m*\u001b[0m\u001b[0;34m,\u001b[0m \u001b[0mdtype\u001b[0m\u001b[0;34m=\u001b[0m\u001b[0;32mNone\u001b[0m\u001b[0;34m,\u001b[0m \u001b[0mdevice\u001b[0m\u001b[0;34m=\u001b[0m\u001b[0;32mNone\u001b[0m\u001b[0;34m,\u001b[0m \u001b[0mcopy\u001b[0m\u001b[0;34m=\u001b[0m\u001b[0;32mNone\u001b[0m\u001b[0;34m)\u001b[0m\u001b[0;34m:\u001b[0m  \u001b[0;31m# noqa\u001b[0m\u001b[0;34m\u001b[0m\u001b[0;34m\u001b[0m\u001b[0m\n\u001b[0;32m--> 393\u001b[0;31m         \u001b[0m_check_device_cpu\u001b[0m\u001b[0;34m(\u001b[0m\u001b[0mdevice\u001b[0m\u001b[0;34m)\u001b[0m\u001b[0;34m\u001b[0m\u001b[0;34m\u001b[0m\u001b[0m\n\u001b[0m\u001b[1;32m    394\u001b[0m         \u001b[0;31m# Support copy in NumPy namespace\u001b[0m\u001b[0;34m\u001b[0m\u001b[0;34m\u001b[0m\u001b[0m\n\u001b[1;32m    395\u001b[0m         \u001b[0;32mif\u001b[0m \u001b[0mcopy\u001b[0m \u001b[0;32mis\u001b[0m \u001b[0;32mTrue\u001b[0m\u001b[0;34m:\u001b[0m\u001b[0;34m\u001b[0m\u001b[0;34m\u001b[0m\u001b[0m\n",
            "\u001b[0;32m/usr/local/lib/python3.10/dist-packages/sklearn/utils/_array_api.py\u001b[0m in \u001b[0;36m_check_device_cpu\u001b[0;34m(device)\u001b[0m\n\u001b[1;32m    304\u001b[0m \u001b[0;34m\u001b[0m\u001b[0m\n\u001b[1;32m    305\u001b[0m \u001b[0;34m\u001b[0m\u001b[0m\n\u001b[0;32m--> 306\u001b[0;31m \u001b[0;32mdef\u001b[0m \u001b[0m_check_device_cpu\u001b[0m\u001b[0;34m(\u001b[0m\u001b[0mdevice\u001b[0m\u001b[0;34m)\u001b[0m\u001b[0;34m:\u001b[0m  \u001b[0;31m# noqa\u001b[0m\u001b[0;34m\u001b[0m\u001b[0;34m\u001b[0m\u001b[0m\n\u001b[0m\u001b[1;32m    307\u001b[0m     \u001b[0;32mif\u001b[0m \u001b[0mdevice\u001b[0m \u001b[0;32mnot\u001b[0m \u001b[0;32min\u001b[0m \u001b[0;34m{\u001b[0m\u001b[0;34m\"cpu\"\u001b[0m\u001b[0;34m,\u001b[0m \u001b[0;32mNone\u001b[0m\u001b[0;34m}\u001b[0m\u001b[0;34m:\u001b[0m\u001b[0;34m\u001b[0m\u001b[0;34m\u001b[0m\u001b[0m\n\u001b[1;32m    308\u001b[0m         \u001b[0;32mraise\u001b[0m \u001b[0mValueError\u001b[0m\u001b[0;34m(\u001b[0m\u001b[0;34mf\"Unsupported device for NumPy: {device!r}\"\u001b[0m\u001b[0;34m)\u001b[0m\u001b[0;34m\u001b[0m\u001b[0;34m\u001b[0m\u001b[0m\n",
            "\u001b[0;31mKeyboardInterrupt\u001b[0m: "
          ]
        }
      ],
      "source": [
        "import lightgbm as lgb\n",
        "import time\n",
        "import concurrent.futures\n",
        "import threading\n",
        "\n",
        "# CPU-bound task\n",
        "def optimize_task(n_trials):\n",
        "    print(\"HPO optimization started\")\n",
        "    study.optimize(objective, n_trials=n_trials)\n",
        "    print(\"HPO optimization finished\")\n",
        "\n",
        "\n",
        "# I/O-bound task\n",
        "def upload_to_s3(\n",
        "        sleep_time=60,\n",
        "        file_name=f\"{study_path}/{experiment_name}.db\",\n",
        "        bucket=bucket_name,\n",
        "        object_name=f\"optuna-studies/{experiment_name}.db\"\n",
        "    ):\n",
        "    # Simulate an I/O operation\n",
        "    time.sleep(sleep_time)\n",
        "    print(\"Uploading files to S3\")\n",
        "    s3.upload_file(\n",
        "        file_name, bucket, object_name\n",
        "    )\n",
        "    print(\"Files uploaded\")\n",
        "\n",
        "# Function to run the I/O-bound task using ThreadPoolExecutor\n",
        "def run_upload_to_s3():\n",
        "    with concurrent.futures.ThreadPoolExecutor(max_workers=1) as executor:\n",
        "        future = executor.submit(upload_to_s3)\n",
        "        result = future.result()\n",
        "    return result\n",
        "\n",
        "# Create a thread for the I/O-bound task\n",
        "io_thread = threading.Thread(target=run_upload_to_s3)\n",
        "\n",
        "# Start the I/O-bound task\n",
        "io_thread.start()\n",
        "\n",
        "# Run the optimization task in the main process\n",
        "optimize_task(n_trials=3)\n",
        "\n",
        "# Wait for the I/O-bound task to complete\n",
        "io_thread.join()\n",
        "\n",
        "print(\"Both tasks are done\")"
      ]
    },
    {
      "cell_type": "code",
      "execution_count": null,
      "metadata": {
        "colab": {
          "base_uri": "https://localhost:8080/"
        },
        "id": "f3JohZB6ih-8",
        "outputId": "1b30b71b-669f-43e5-81c9-229ec839e9e8"
      },
      "outputs": [
        {
          "name": "stdout",
          "output_type": "stream",
          "text": [
            "best trial number : 400\n",
            "best params : {'num_trees': 93, 'learning_rate': 0.09965941125937848, 'max_depth': 9, 'num_leaves': 35}\n",
            "best error : 63.19364006608713\n"
          ]
        }
      ],
      "source": [
        "print(\"best trial number :\", study.best_trial.number)\n",
        "print(\"best params :\", study.best_params)\n",
        "print(\"best error :\", study.best_value)"
      ]
    },
    {
      "cell_type": "markdown",
      "metadata": {
        "id": "Po-bHy6vih-9"
      },
      "source": [
        "## Experimental history"
      ]
    },
    {
      "cell_type": "code",
      "execution_count": null,
      "metadata": {
        "colab": {
          "base_uri": "https://localhost:8080/",
          "height": 347
        },
        "id": "vtWPlS77ih-9",
        "outputId": "85dbc77f-e641-438f-a006-b4c6d1dc8bec"
      },
      "outputs": [
        {
          "name": "stdout",
          "output_type": "stream",
          "text": [
            "Using an existing study with name 'lightgbm-preprocessing2-config1' instead of creating a new one.\n",
            "number of trials in the study : 691\n"
          ]
        },
        {
          "data": {
            "text/html": [
              "<div>\n",
              "<style scoped>\n",
              "    .dataframe tbody tr th:only-of-type {\n",
              "        vertical-align: middle;\n",
              "    }\n",
              "\n",
              "    .dataframe tbody tr th {\n",
              "        vertical-align: top;\n",
              "    }\n",
              "\n",
              "    .dataframe thead th {\n",
              "        text-align: right;\n",
              "    }\n",
              "</style>\n",
              "<table border=\"1\" class=\"dataframe\">\n",
              "  <thead>\n",
              "    <tr style=\"text-align: right;\">\n",
              "      <th></th>\n",
              "      <th>number</th>\n",
              "      <th>value</th>\n",
              "      <th>duration</th>\n",
              "      <th>params_learning_rate</th>\n",
              "      <th>params_max_depth</th>\n",
              "      <th>params_num_leaves</th>\n",
              "      <th>params_num_trees</th>\n",
              "      <th>user_attrs_cv_errors_std</th>\n",
              "      <th>user_attrs_error_split_1</th>\n",
              "      <th>user_attrs_error_split_2</th>\n",
              "      <th>user_attrs_error_split_3</th>\n",
              "      <th>user_attrs_error_split_4</th>\n",
              "      <th>user_attrs_error_split_5</th>\n",
              "      <th>user_attrs_test_mae</th>\n",
              "      <th>user_attrs_train_mae</th>\n",
              "      <th>state</th>\n",
              "    </tr>\n",
              "  </thead>\n",
              "  <tbody>\n",
              "    <tr>\n",
              "      <th>400</th>\n",
              "      <td>400</td>\n",
              "      <td>63.193640</td>\n",
              "      <td>0 days 00:00:15.705318</td>\n",
              "      <td>0.099659</td>\n",
              "      <td>9</td>\n",
              "      <td>35</td>\n",
              "      <td>93</td>\n",
              "      <td>38.742354</td>\n",
              "      <td>53.388416</td>\n",
              "      <td>57.152069</td>\n",
              "      <td>35.108136</td>\n",
              "      <td>138.161619</td>\n",
              "      <td>32.157961</td>\n",
              "      <td>73.871434</td>\n",
              "      <td>55.813876</td>\n",
              "      <td>COMPLETE</td>\n",
              "    </tr>\n",
              "    <tr>\n",
              "      <th>301</th>\n",
              "      <td>301</td>\n",
              "      <td>63.213407</td>\n",
              "      <td>0 days 00:00:15.849273</td>\n",
              "      <td>0.072456</td>\n",
              "      <td>9</td>\n",
              "      <td>32</td>\n",
              "      <td>100</td>\n",
              "      <td>37.942814</td>\n",
              "      <td>53.909184</td>\n",
              "      <td>57.993000</td>\n",
              "      <td>35.362319</td>\n",
              "      <td>136.415355</td>\n",
              "      <td>32.387178</td>\n",
              "      <td>74.998595</td>\n",
              "      <td>57.314667</td>\n",
              "      <td>COMPLETE</td>\n",
              "    </tr>\n",
              "    <tr>\n",
              "      <th>296</th>\n",
              "      <td>296</td>\n",
              "      <td>63.215329</td>\n",
              "      <td>0 days 00:00:16.442244</td>\n",
              "      <td>0.087321</td>\n",
              "      <td>9</td>\n",
              "      <td>49</td>\n",
              "      <td>96</td>\n",
              "      <td>39.351986</td>\n",
              "      <td>53.197649</td>\n",
              "      <td>56.591022</td>\n",
              "      <td>35.165786</td>\n",
              "      <td>139.474059</td>\n",
              "      <td>31.648130</td>\n",
              "      <td>73.422721</td>\n",
              "      <td>54.379721</td>\n",
              "      <td>COMPLETE</td>\n",
              "    </tr>\n",
              "    <tr>\n",
              "      <th>132</th>\n",
              "      <td>132</td>\n",
              "      <td>63.219725</td>\n",
              "      <td>0 days 00:00:15.500934</td>\n",
              "      <td>0.099710</td>\n",
              "      <td>9</td>\n",
              "      <td>35</td>\n",
              "      <td>95</td>\n",
              "      <td>38.808659</td>\n",
              "      <td>53.380351</td>\n",
              "      <td>57.049509</td>\n",
              "      <td>35.512525</td>\n",
              "      <td>138.334141</td>\n",
              "      <td>31.822100</td>\n",
              "      <td>73.837190</td>\n",
              "      <td>55.568589</td>\n",
              "      <td>COMPLETE</td>\n",
              "    </tr>\n",
              "    <tr>\n",
              "      <th>628</th>\n",
              "      <td>628</td>\n",
              "      <td>63.239345</td>\n",
              "      <td>0 days 00:00:16.001369</td>\n",
              "      <td>0.086211</td>\n",
              "      <td>9</td>\n",
              "      <td>36</td>\n",
              "      <td>100</td>\n",
              "      <td>38.632593</td>\n",
              "      <td>53.273483</td>\n",
              "      <td>57.820008</td>\n",
              "      <td>34.992164</td>\n",
              "      <td>137.894456</td>\n",
              "      <td>32.216613</td>\n",
              "      <td>73.664400</td>\n",
              "      <td>55.962821</td>\n",
              "      <td>COMPLETE</td>\n",
              "    </tr>\n",
              "  </tbody>\n",
              "</table>\n",
              "</div>"
            ],
            "text/plain": [
              "     number      value               duration  params_learning_rate  \\\n",
              "400     400  63.193640 0 days 00:00:15.705318              0.099659   \n",
              "301     301  63.213407 0 days 00:00:15.849273              0.072456   \n",
              "296     296  63.215329 0 days 00:00:16.442244              0.087321   \n",
              "132     132  63.219725 0 days 00:00:15.500934              0.099710   \n",
              "628     628  63.239345 0 days 00:00:16.001369              0.086211   \n",
              "\n",
              "     params_max_depth  params_num_leaves  params_num_trees  \\\n",
              "400                 9                 35                93   \n",
              "301                 9                 32               100   \n",
              "296                 9                 49                96   \n",
              "132                 9                 35                95   \n",
              "628                 9                 36               100   \n",
              "\n",
              "     user_attrs_cv_errors_std  user_attrs_error_split_1  \\\n",
              "400                 38.742354                 53.388416   \n",
              "301                 37.942814                 53.909184   \n",
              "296                 39.351986                 53.197649   \n",
              "132                 38.808659                 53.380351   \n",
              "628                 38.632593                 53.273483   \n",
              "\n",
              "     user_attrs_error_split_2  user_attrs_error_split_3  \\\n",
              "400                 57.152069                 35.108136   \n",
              "301                 57.993000                 35.362319   \n",
              "296                 56.591022                 35.165786   \n",
              "132                 57.049509                 35.512525   \n",
              "628                 57.820008                 34.992164   \n",
              "\n",
              "     user_attrs_error_split_4  user_attrs_error_split_5  user_attrs_test_mae  \\\n",
              "400                138.161619                 32.157961            73.871434   \n",
              "301                136.415355                 32.387178            74.998595   \n",
              "296                139.474059                 31.648130            73.422721   \n",
              "132                138.334141                 31.822100            73.837190   \n",
              "628                137.894456                 32.216613            73.664400   \n",
              "\n",
              "     user_attrs_train_mae     state  \n",
              "400             55.813876  COMPLETE  \n",
              "301             57.314667  COMPLETE  \n",
              "296             54.379721  COMPLETE  \n",
              "132             55.568589  COMPLETE  \n",
              "628             55.962821  COMPLETE  "
            ]
          },
          "execution_count": 31,
          "metadata": {},
          "output_type": "execute_result"
        }
      ],
      "source": [
        "study = optuna.create_study(\n",
        "    study_name=experiment_name, storage=storage_name, load_if_exists=True\n",
        ")\n",
        "print(\"number of trials in the study :\", len(study.trials))\n",
        "trials_df = study.trials_dataframe().drop(\n",
        "    columns=[\"datetime_start\", \"datetime_complete\"]\n",
        ")\n",
        "trials_df.sort_values(by=\"value\").head()"
      ]
    },
    {
      "cell_type": "code",
      "execution_count": null,
      "metadata": {
        "id": "uoRcqYqt0IMa"
      },
      "outputs": [],
      "source": []
    }
  ],
  "metadata": {
    "colab": {
      "provenance": [],
      "toc_visible": true
    },
    "kernelspec": {
      "display_name": "conda_python3",
      "language": "python",
      "name": "conda_python3"
    },
    "language_info": {
      "codemirror_mode": {
        "name": "ipython",
        "version": 3
      },
      "file_extension": ".py",
      "mimetype": "text/x-python",
      "name": "python",
      "nbconvert_exporter": "python",
      "pygments_lexer": "ipython3",
      "version": "3.10.14"
    }
  },
  "nbformat": 4,
  "nbformat_minor": 0
}