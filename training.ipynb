{
 "cells": [
  {
   "cell_type": "code",
   "execution_count": 1,
   "metadata": {},
   "outputs": [
    {
     "name": "stderr",
     "output_type": "stream",
     "text": [
      "c:\\Users\\gabriel.chehade\\Documents\\Projets\\Github\\Predict-Energy-Behavior-of-Prosumers-with-Machine-and-Deep-Learning\\sklearn-api\\.venv\\Lib\\site-packages\\tqdm\\auto.py:21: TqdmWarning: IProgress not found. Please update jupyter and ipywidgets. See https://ipywidgets.readthedocs.io/en/stable/user_install.html\n",
      "  from .autonotebook import tqdm as notebook_tqdm\n"
     ]
    }
   ],
   "source": [
    "import numpy as np\n",
    "import pandas as pd\n",
    "from lightgbm import LGBMRegressor\n",
    "from sklearn.metrics import mean_absolute_error\n",
    "import mlflow\n",
    "import optuna\n",
    "import os\n",
    "import sys\n",
    "sys.path.append(os.path.realpath(\"../../modules\"))\n",
    "sys.path.append(os.path.realpath(\"../../preprocessing\"))\n",
    "from utils import train_test_split\n",
    "from preprocessing import *\n",
    "import time\n",
    "from datetime import datetime, UTC\n",
    "\n",
    "# import warnings\n",
    "# warnings.filterwarnings(\"ignore\", category=UserWarning)"
   ]
  },
  {
   "cell_type": "markdown",
   "metadata": {},
   "source": [
    "# Global variables"
   ]
  },
  {
   "cell_type": "code",
   "execution_count": 2,
   "metadata": {},
   "outputs": [],
   "source": [
    "forecast_horizon = 24\n",
    "n_lags = 48\n",
    "test_window = 24*60 # in hours\n",
    "preprocessing_version = 1 # preprocessing version\n",
    "study_version = 1 # Optuna study to take hyperparameters from\n",
    "random_state = 0"
   ]
  },
  {
   "cell_type": "markdown",
   "metadata": {},
   "source": [
    "# Import Data"
   ]
  },
  {
   "cell_type": "code",
   "execution_count": 3,
   "metadata": {},
   "outputs": [
    {
     "data": {
      "text/html": [
       "<div>\n",
       "<style scoped>\n",
       "    .dataframe tbody tr th:only-of-type {\n",
       "        vertical-align: middle;\n",
       "    }\n",
       "\n",
       "    .dataframe tbody tr th {\n",
       "        vertical-align: top;\n",
       "    }\n",
       "\n",
       "    .dataframe thead th {\n",
       "        text-align: right;\n",
       "    }\n",
       "</style>\n",
       "<table border=\"1\" class=\"dataframe\">\n",
       "  <thead>\n",
       "    <tr style=\"text-align: right;\">\n",
       "      <th></th>\n",
       "      <th>unique_id</th>\n",
       "      <th>ds</th>\n",
       "      <th>y</th>\n",
       "    </tr>\n",
       "  </thead>\n",
       "  <tbody>\n",
       "    <tr>\n",
       "      <th>0</th>\n",
       "      <td>0</td>\n",
       "      <td>2021-09-01</td>\n",
       "      <td>96.590</td>\n",
       "    </tr>\n",
       "    <tr>\n",
       "      <th>1</th>\n",
       "      <td>1</td>\n",
       "      <td>2021-09-01</td>\n",
       "      <td>17.314</td>\n",
       "    </tr>\n",
       "    <tr>\n",
       "      <th>2</th>\n",
       "      <td>2</td>\n",
       "      <td>2021-09-01</td>\n",
       "      <td>656.859</td>\n",
       "    </tr>\n",
       "    <tr>\n",
       "      <th>3</th>\n",
       "      <td>3</td>\n",
       "      <td>2021-09-01</td>\n",
       "      <td>59.000</td>\n",
       "    </tr>\n",
       "    <tr>\n",
       "      <th>4</th>\n",
       "      <td>4</td>\n",
       "      <td>2021-09-01</td>\n",
       "      <td>501.760</td>\n",
       "    </tr>\n",
       "  </tbody>\n",
       "</table>\n",
       "</div>"
      ],
      "text/plain": [
       "   unique_id         ds        y\n",
       "0          0 2021-09-01   96.590\n",
       "1          1 2021-09-01   17.314\n",
       "2          2 2021-09-01  656.859\n",
       "3          3 2021-09-01   59.000\n",
       "4          4 2021-09-01  501.760"
      ]
     },
     "execution_count": 3,
     "metadata": {},
     "output_type": "execute_result"
    }
   ],
   "source": [
    "df = pd.read_csv(\n",
    "    \"../../data/consumption.csv\", usecols=[\"prediction_unit_id\", \"datetime\", \"target\"]\n",
    ")[[\"prediction_unit_id\", \"datetime\", \"target\"]].rename(\n",
    "    columns={\"prediction_unit_id\": \"unique_id\", \"datetime\": \"ds\", \"target\": \"y\"}\n",
    ")\n",
    "df[\"ds\"] = pd.to_datetime(df[\"ds\"])\n",
    "df.head()"
   ]
  },
  {
   "cell_type": "code",
   "execution_count": 4,
   "metadata": {},
   "outputs": [
    {
     "data": {
      "text/plain": [
       "(1009176, 3)"
      ]
     },
     "execution_count": 4,
     "metadata": {},
     "output_type": "execute_result"
    }
   ],
   "source": [
    "df.shape"
   ]
  },
  {
   "cell_type": "markdown",
   "metadata": {},
   "source": [
    "# Train/Test split"
   ]
  },
  {
   "cell_type": "code",
   "execution_count": 5,
   "metadata": {},
   "outputs": [],
   "source": [
    "df_train, df_test = train_test_split(df, test_window=test_window)"
   ]
  },
  {
   "cell_type": "code",
   "execution_count": 6,
   "metadata": {},
   "outputs": [
    {
     "data": {
      "text/plain": [
       "True"
      ]
     },
     "execution_count": 6,
     "metadata": {},
     "output_type": "execute_result"
    }
   ],
   "source": [
    "df.shape[0] == df_train.shape[0] + df_test.shape[0]"
   ]
  },
  {
   "cell_type": "code",
   "execution_count": 7,
   "metadata": {},
   "outputs": [
    {
     "data": {
      "text/plain": [
       "True"
      ]
     },
     "execution_count": 7,
     "metadata": {},
     "output_type": "execute_result"
    }
   ],
   "source": [
    "df.shape[1] == df_train.shape[1] == df_test.shape[1]"
   ]
  },
  {
   "cell_type": "code",
   "execution_count": 8,
   "metadata": {},
   "outputs": [
    {
     "name": "stdout",
     "output_type": "stream",
     "text": [
      "test set : 9.85% of the data set\n"
     ]
    }
   ],
   "source": [
    "test_size = df_test.shape[0] / (df.shape[0])\n",
    "print(f\"test set : {round(test_size*100, 2)}% of the data set\")"
   ]
  },
  {
   "cell_type": "markdown",
   "metadata": {},
   "source": [
    "# Preprocessing"
   ]
  },
  {
   "cell_type": "code",
   "execution_count": 9,
   "metadata": {},
   "outputs": [],
   "source": [
    "preprocessing = vars()[f\"preprocessing_{preprocessing_version}\"]"
   ]
  },
  {
   "cell_type": "code",
   "execution_count": 11,
   "metadata": {},
   "outputs": [
    {
     "name": "stdout",
     "output_type": "stream",
     "text": [
      "(904917, 53) (904917,)\n"
     ]
    },
    {
     "data": {
      "text/html": [
       "<div>\n",
       "<style scoped>\n",
       "    .dataframe tbody tr th:only-of-type {\n",
       "        vertical-align: middle;\n",
       "    }\n",
       "\n",
       "    .dataframe tbody tr th {\n",
       "        vertical-align: top;\n",
       "    }\n",
       "\n",
       "    .dataframe thead th {\n",
       "        text-align: right;\n",
       "    }\n",
       "</style>\n",
       "<table border=\"1\" class=\"dataframe\">\n",
       "  <thead>\n",
       "    <tr style=\"text-align: right;\">\n",
       "      <th></th>\n",
       "      <th>lag24</th>\n",
       "      <th>lag25</th>\n",
       "      <th>lag26</th>\n",
       "      <th>lag27</th>\n",
       "      <th>lag28</th>\n",
       "      <th>lag29</th>\n",
       "      <th>lag30</th>\n",
       "      <th>lag31</th>\n",
       "      <th>lag32</th>\n",
       "      <th>lag33</th>\n",
       "      <th>...</th>\n",
       "      <th>lag67</th>\n",
       "      <th>lag68</th>\n",
       "      <th>lag69</th>\n",
       "      <th>lag70</th>\n",
       "      <th>lag71</th>\n",
       "      <th>rolling_mean_lag1_window_size24</th>\n",
       "      <th>rolling_mean_lag24_window_size24</th>\n",
       "      <th>month</th>\n",
       "      <th>dayofweek</th>\n",
       "      <th>hour</th>\n",
       "    </tr>\n",
       "  </thead>\n",
       "  <tbody>\n",
       "    <tr>\n",
       "      <th>4331</th>\n",
       "      <td>120.540</td>\n",
       "      <td>134.986</td>\n",
       "      <td>150.412</td>\n",
       "      <td>152.763</td>\n",
       "      <td>136.130</td>\n",
       "      <td>121.033</td>\n",
       "      <td>80.621</td>\n",
       "      <td>43.428</td>\n",
       "      <td>46.840</td>\n",
       "      <td>43.671</td>\n",
       "      <td>...</td>\n",
       "      <td>88.184</td>\n",
       "      <td>87.955</td>\n",
       "      <td>91.594</td>\n",
       "      <td>77.691</td>\n",
       "      <td>96.590</td>\n",
       "      <td>90.123375</td>\n",
       "      <td>87.297042</td>\n",
       "      <td>9</td>\n",
       "      <td>4</td>\n",
       "      <td>23</td>\n",
       "    </tr>\n",
       "    <tr>\n",
       "      <th>4392</th>\n",
       "      <td>107.129</td>\n",
       "      <td>120.540</td>\n",
       "      <td>134.986</td>\n",
       "      <td>150.412</td>\n",
       "      <td>152.763</td>\n",
       "      <td>136.130</td>\n",
       "      <td>121.033</td>\n",
       "      <td>80.621</td>\n",
       "      <td>43.428</td>\n",
       "      <td>46.840</td>\n",
       "      <td>...</td>\n",
       "      <td>89.781</td>\n",
       "      <td>88.184</td>\n",
       "      <td>87.955</td>\n",
       "      <td>91.594</td>\n",
       "      <td>77.691</td>\n",
       "      <td>90.931250</td>\n",
       "      <td>87.203833</td>\n",
       "      <td>9</td>\n",
       "      <td>5</td>\n",
       "      <td>0</td>\n",
       "    </tr>\n",
       "    <tr>\n",
       "      <th>4453</th>\n",
       "      <td>81.920</td>\n",
       "      <td>107.129</td>\n",
       "      <td>120.540</td>\n",
       "      <td>134.986</td>\n",
       "      <td>150.412</td>\n",
       "      <td>152.763</td>\n",
       "      <td>136.130</td>\n",
       "      <td>121.033</td>\n",
       "      <td>80.621</td>\n",
       "      <td>43.428</td>\n",
       "      <td>...</td>\n",
       "      <td>96.481</td>\n",
       "      <td>89.781</td>\n",
       "      <td>88.184</td>\n",
       "      <td>87.955</td>\n",
       "      <td>91.594</td>\n",
       "      <td>91.548458</td>\n",
       "      <td>86.574125</td>\n",
       "      <td>9</td>\n",
       "      <td>5</td>\n",
       "      <td>1</td>\n",
       "    </tr>\n",
       "    <tr>\n",
       "      <th>4514</th>\n",
       "      <td>96.193</td>\n",
       "      <td>81.920</td>\n",
       "      <td>107.129</td>\n",
       "      <td>120.540</td>\n",
       "      <td>134.986</td>\n",
       "      <td>150.412</td>\n",
       "      <td>152.763</td>\n",
       "      <td>136.130</td>\n",
       "      <td>121.033</td>\n",
       "      <td>80.621</td>\n",
       "      <td>...</td>\n",
       "      <td>94.592</td>\n",
       "      <td>96.481</td>\n",
       "      <td>89.781</td>\n",
       "      <td>88.184</td>\n",
       "      <td>87.955</td>\n",
       "      <td>92.886708</td>\n",
       "      <td>86.213250</td>\n",
       "      <td>9</td>\n",
       "      <td>5</td>\n",
       "      <td>2</td>\n",
       "    </tr>\n",
       "    <tr>\n",
       "      <th>4575</th>\n",
       "      <td>94.536</td>\n",
       "      <td>96.193</td>\n",
       "      <td>81.920</td>\n",
       "      <td>107.129</td>\n",
       "      <td>120.540</td>\n",
       "      <td>134.986</td>\n",
       "      <td>150.412</td>\n",
       "      <td>152.763</td>\n",
       "      <td>136.130</td>\n",
       "      <td>121.033</td>\n",
       "      <td>...</td>\n",
       "      <td>77.308</td>\n",
       "      <td>94.592</td>\n",
       "      <td>96.481</td>\n",
       "      <td>89.781</td>\n",
       "      <td>88.184</td>\n",
       "      <td>93.257917</td>\n",
       "      <td>85.842542</td>\n",
       "      <td>9</td>\n",
       "      <td>5</td>\n",
       "      <td>3</td>\n",
       "    </tr>\n",
       "  </tbody>\n",
       "</table>\n",
       "<p>5 rows × 53 columns</p>\n",
       "</div>"
      ],
      "text/plain": [
       "        lag24    lag25    lag26    lag27    lag28    lag29    lag30    lag31  \\\n",
       "4331  120.540  134.986  150.412  152.763  136.130  121.033   80.621   43.428   \n",
       "4392  107.129  120.540  134.986  150.412  152.763  136.130  121.033   80.621   \n",
       "4453   81.920  107.129  120.540  134.986  150.412  152.763  136.130  121.033   \n",
       "4514   96.193   81.920  107.129  120.540  134.986  150.412  152.763  136.130   \n",
       "4575   94.536   96.193   81.920  107.129  120.540  134.986  150.412  152.763   \n",
       "\n",
       "        lag32    lag33  ...   lag67   lag68   lag69   lag70   lag71  \\\n",
       "4331   46.840   43.671  ...  88.184  87.955  91.594  77.691  96.590   \n",
       "4392   43.428   46.840  ...  89.781  88.184  87.955  91.594  77.691   \n",
       "4453   80.621   43.428  ...  96.481  89.781  88.184  87.955  91.594   \n",
       "4514  121.033   80.621  ...  94.592  96.481  89.781  88.184  87.955   \n",
       "4575  136.130  121.033  ...  77.308  94.592  96.481  89.781  88.184   \n",
       "\n",
       "      rolling_mean_lag1_window_size24  rolling_mean_lag24_window_size24  \\\n",
       "4331                        90.123375                         87.297042   \n",
       "4392                        90.931250                         87.203833   \n",
       "4453                        91.548458                         86.574125   \n",
       "4514                        92.886708                         86.213250   \n",
       "4575                        93.257917                         85.842542   \n",
       "\n",
       "      month  dayofweek  hour  \n",
       "4331      9          4    23  \n",
       "4392      9          5     0  \n",
       "4453      9          5     1  \n",
       "4514      9          5     2  \n",
       "4575      9          5     3  \n",
       "\n",
       "[5 rows x 53 columns]"
      ]
     },
     "execution_count": 11,
     "metadata": {},
     "output_type": "execute_result"
    }
   ],
   "source": [
    "X_train, y_train = preprocessing(df_train)\n",
    "print(X_train.shape, y_train.shape)\n",
    "X_train.head()"
   ]
  },
  {
   "cell_type": "code",
   "execution_count": 14,
   "metadata": {},
   "outputs": [
    {
     "name": "stdout",
     "output_type": "stream",
     "text": [
      "(94461, 53) (94461,)\n"
     ]
    },
    {
     "data": {
      "text/html": [
       "<div>\n",
       "<style scoped>\n",
       "    .dataframe tbody tr th:only-of-type {\n",
       "        vertical-align: middle;\n",
       "    }\n",
       "\n",
       "    .dataframe tbody tr th {\n",
       "        vertical-align: top;\n",
       "    }\n",
       "\n",
       "    .dataframe thead th {\n",
       "        text-align: right;\n",
       "    }\n",
       "</style>\n",
       "<table border=\"1\" class=\"dataframe\">\n",
       "  <thead>\n",
       "    <tr style=\"text-align: right;\">\n",
       "      <th></th>\n",
       "      <th>lag24</th>\n",
       "      <th>lag25</th>\n",
       "      <th>lag26</th>\n",
       "      <th>lag27</th>\n",
       "      <th>lag28</th>\n",
       "      <th>lag29</th>\n",
       "      <th>lag30</th>\n",
       "      <th>lag31</th>\n",
       "      <th>lag32</th>\n",
       "      <th>lag33</th>\n",
       "      <th>...</th>\n",
       "      <th>lag67</th>\n",
       "      <th>lag68</th>\n",
       "      <th>lag69</th>\n",
       "      <th>lag70</th>\n",
       "      <th>lag71</th>\n",
       "      <th>rolling_mean_lag1_window_size24</th>\n",
       "      <th>rolling_mean_lag24_window_size24</th>\n",
       "      <th>month</th>\n",
       "      <th>dayofweek</th>\n",
       "      <th>hour</th>\n",
       "    </tr>\n",
       "  </thead>\n",
       "  <tbody>\n",
       "    <tr>\n",
       "      <th>918702</th>\n",
       "      <td>1057.285</td>\n",
       "      <td>1107.518</td>\n",
       "      <td>1177.874</td>\n",
       "      <td>1114.973</td>\n",
       "      <td>860.687</td>\n",
       "      <td>624.847</td>\n",
       "      <td>382.365</td>\n",
       "      <td>246.753</td>\n",
       "      <td>193.661</td>\n",
       "      <td>160.944</td>\n",
       "      <td>...</td>\n",
       "      <td>953.645</td>\n",
       "      <td>949.400</td>\n",
       "      <td>923.365</td>\n",
       "      <td>925.559</td>\n",
       "      <td>967.361</td>\n",
       "      <td>721.631208</td>\n",
       "      <td>699.523333</td>\n",
       "      <td>4</td>\n",
       "      <td>1</td>\n",
       "      <td>23</td>\n",
       "    </tr>\n",
       "    <tr>\n",
       "      <th>918768</th>\n",
       "      <td>1055.621</td>\n",
       "      <td>1057.285</td>\n",
       "      <td>1107.518</td>\n",
       "      <td>1177.874</td>\n",
       "      <td>1114.973</td>\n",
       "      <td>860.687</td>\n",
       "      <td>624.847</td>\n",
       "      <td>382.365</td>\n",
       "      <td>246.753</td>\n",
       "      <td>193.661</td>\n",
       "      <td>...</td>\n",
       "      <td>959.313</td>\n",
       "      <td>953.645</td>\n",
       "      <td>949.400</td>\n",
       "      <td>923.365</td>\n",
       "      <td>925.559</td>\n",
       "      <td>717.695458</td>\n",
       "      <td>703.838542</td>\n",
       "      <td>4</td>\n",
       "      <td>2</td>\n",
       "      <td>0</td>\n",
       "    </tr>\n",
       "    <tr>\n",
       "      <th>918833</th>\n",
       "      <td>999.628</td>\n",
       "      <td>1055.621</td>\n",
       "      <td>1057.285</td>\n",
       "      <td>1107.518</td>\n",
       "      <td>1177.874</td>\n",
       "      <td>1114.973</td>\n",
       "      <td>860.687</td>\n",
       "      <td>624.847</td>\n",
       "      <td>382.365</td>\n",
       "      <td>246.753</td>\n",
       "      <td>...</td>\n",
       "      <td>1025.369</td>\n",
       "      <td>959.313</td>\n",
       "      <td>953.645</td>\n",
       "      <td>949.400</td>\n",
       "      <td>923.365</td>\n",
       "      <td>712.335875</td>\n",
       "      <td>708.685833</td>\n",
       "      <td>4</td>\n",
       "      <td>2</td>\n",
       "      <td>1</td>\n",
       "    </tr>\n",
       "    <tr>\n",
       "      <th>918898</th>\n",
       "      <td>1001.917</td>\n",
       "      <td>999.628</td>\n",
       "      <td>1055.621</td>\n",
       "      <td>1057.285</td>\n",
       "      <td>1107.518</td>\n",
       "      <td>1177.874</td>\n",
       "      <td>1114.973</td>\n",
       "      <td>860.687</td>\n",
       "      <td>624.847</td>\n",
       "      <td>382.365</td>\n",
       "      <td>...</td>\n",
       "      <td>921.180</td>\n",
       "      <td>1025.369</td>\n",
       "      <td>959.313</td>\n",
       "      <td>953.645</td>\n",
       "      <td>949.400</td>\n",
       "      <td>708.313417</td>\n",
       "      <td>712.098500</td>\n",
       "      <td>4</td>\n",
       "      <td>2</td>\n",
       "      <td>2</td>\n",
       "    </tr>\n",
       "    <tr>\n",
       "      <th>918963</th>\n",
       "      <td>1014.902</td>\n",
       "      <td>1001.917</td>\n",
       "      <td>999.628</td>\n",
       "      <td>1055.621</td>\n",
       "      <td>1057.285</td>\n",
       "      <td>1107.518</td>\n",
       "      <td>1177.874</td>\n",
       "      <td>1114.973</td>\n",
       "      <td>860.687</td>\n",
       "      <td>624.847</td>\n",
       "      <td>...</td>\n",
       "      <td>710.080</td>\n",
       "      <td>921.180</td>\n",
       "      <td>1025.369</td>\n",
       "      <td>959.313</td>\n",
       "      <td>953.645</td>\n",
       "      <td>705.044333</td>\n",
       "      <td>715.481833</td>\n",
       "      <td>4</td>\n",
       "      <td>2</td>\n",
       "      <td>3</td>\n",
       "    </tr>\n",
       "  </tbody>\n",
       "</table>\n",
       "<p>5 rows × 53 columns</p>\n",
       "</div>"
      ],
      "text/plain": [
       "           lag24     lag25     lag26     lag27     lag28     lag29     lag30  \\\n",
       "918702  1057.285  1107.518  1177.874  1114.973   860.687   624.847   382.365   \n",
       "918768  1055.621  1057.285  1107.518  1177.874  1114.973   860.687   624.847   \n",
       "918833   999.628  1055.621  1057.285  1107.518  1177.874  1114.973   860.687   \n",
       "918898  1001.917   999.628  1055.621  1057.285  1107.518  1177.874  1114.973   \n",
       "918963  1014.902  1001.917   999.628  1055.621  1057.285  1107.518  1177.874   \n",
       "\n",
       "           lag31    lag32    lag33  ...     lag67     lag68     lag69  \\\n",
       "918702   246.753  193.661  160.944  ...   953.645   949.400   923.365   \n",
       "918768   382.365  246.753  193.661  ...   959.313   953.645   949.400   \n",
       "918833   624.847  382.365  246.753  ...  1025.369   959.313   953.645   \n",
       "918898   860.687  624.847  382.365  ...   921.180  1025.369   959.313   \n",
       "918963  1114.973  860.687  624.847  ...   710.080   921.180  1025.369   \n",
       "\n",
       "          lag70    lag71  rolling_mean_lag1_window_size24  \\\n",
       "918702  925.559  967.361                       721.631208   \n",
       "918768  923.365  925.559                       717.695458   \n",
       "918833  949.400  923.365                       712.335875   \n",
       "918898  953.645  949.400                       708.313417   \n",
       "918963  959.313  953.645                       705.044333   \n",
       "\n",
       "        rolling_mean_lag24_window_size24  month  dayofweek  hour  \n",
       "918702                        699.523333      4          1    23  \n",
       "918768                        703.838542      4          2     0  \n",
       "918833                        708.685833      4          2     1  \n",
       "918898                        712.098500      4          2     2  \n",
       "918963                        715.481833      4          2     3  \n",
       "\n",
       "[5 rows x 53 columns]"
      ]
     },
     "execution_count": 14,
     "metadata": {},
     "output_type": "execute_result"
    }
   ],
   "source": [
    "X_test, y_test = preprocessing(df_test)\n",
    "print(X_test.shape, y_test.shape)\n",
    "X_test.head()"
   ]
  },
  {
   "cell_type": "markdown",
   "metadata": {},
   "source": [
    "# Train a vanilla LightGBM"
   ]
  },
  {
   "cell_type": "code",
   "execution_count": 15,
   "metadata": {},
   "outputs": [
    {
     "name": "stdout",
     "output_type": "stream",
     "text": [
      "[LightGBM] [Info] Auto-choosing col-wise multi-threading, the overhead of testing was 0.139845 seconds.\n",
      "You can set `force_col_wise=true` to remove the overhead.\n",
      "[LightGBM] [Info] Total Bins 12794\n",
      "[LightGBM] [Info] Number of data points in the train set: 904917, number of used features: 53\n",
      "[LightGBM] [Info] Start training from score 468.673058\n"
     ]
    },
    {
     "data": {
      "text/plain": [
       "{'train_mae': 50.607146141734816,\n",
       " 'test_mae': 64.93105969874263,\n",
       " 'training_duration': 5.41973090171814}"
      ]
     },
     "execution_count": 15,
     "metadata": {},
     "output_type": "execute_result"
    }
   ],
   "source": [
    "model = LGBMRegressor(random_state=random_state)\n",
    "start = time.time()\n",
    "model.fit(X_train, y_train)\n",
    "end = time.time()\n",
    "\n",
    "# metrics\n",
    "y_fit = model.predict(X_train)\n",
    "y_pred = model.predict(X_test)\n",
    "train_mae = mean_absolute_error(y_train, y_fit)\n",
    "test_mae = mean_absolute_error(y_test, y_pred)\n",
    "training_duration = end - start\n",
    "metrics = {\"train_mae\": train_mae, \"test_mae\": test_mae, \"training_duration\": training_duration}\n",
    "metrics"
   ]
  },
  {
   "cell_type": "markdown",
   "metadata": {},
   "source": [
    "# Setting up the MLFlow experiment"
   ]
  },
  {
   "cell_type": "code",
   "execution_count": 13,
   "metadata": {},
   "outputs": [],
   "source": [
    "mlflow.set_tracking_uri(\"http://localhost:5000\")"
   ]
  },
  {
   "cell_type": "code",
   "execution_count": 15,
   "metadata": {},
   "outputs": [
    {
     "data": {
      "text/plain": [
       "<Experiment: artifact_location='mlflow-artifacts:/139855071362737171', creation_time=1724822394070, experiment_id='139855071362737171', last_update_time=1724822394070, lifecycle_stage='active', name='Enefit Preprocessing 1', tags={}>"
      ]
     },
     "execution_count": 15,
     "metadata": {},
     "output_type": "execute_result"
    }
   ],
   "source": [
    "# Set the current active MLflow experiment\n",
    "experiment_name = f\"Enefit Preprocessing {preprocessing_version}\"\n",
    "mlflow.set_experiment(experiment_name=experiment_name)"
   ]
  },
  {
   "cell_type": "code",
   "execution_count": null,
   "metadata": {},
   "outputs": [
    {
     "data": {
      "text/plain": [
       "'139855071362737171'"
      ]
     },
     "execution_count": 25,
     "metadata": {},
     "output_type": "execute_result"
    }
   ],
   "source": [
    "experiment = mlflow.get_experiment_by_name(experiment_name)\n",
    "experiment.experiment_id"
   ]
  },
  {
   "cell_type": "markdown",
   "metadata": {},
   "source": [
    "# Log the study's best model"
   ]
  },
  {
   "cell_type": "code",
   "execution_count": null,
   "metadata": {},
   "outputs": [
    {
     "data": {
      "text/plain": [
       "'study_1'"
      ]
     },
     "execution_count": 26,
     "metadata": {},
     "output_type": "execute_result"
    }
   ],
   "source": [
    "study_name = \"study_{}\".format(study_version) # will also be used for the run_name\n",
    "study_name"
   ]
  },
  {
   "cell_type": "code",
   "execution_count": null,
   "metadata": {},
   "outputs": [
    {
     "name": "stderr",
     "output_type": "stream",
     "text": [
      "[I 2024-08-28 07:48:21,276] Using an existing study with name 'study_1' instead of creating a new one.\n"
     ]
    }
   ],
   "source": [
    "study_path = \"../../data/optuna-studies\"\n",
    "storage_name = \"sqlite:///{}/{}.db\".format(study_path, study_name)\n",
    "study = optuna.create_study(study_name=study_name, storage=storage_name, load_if_exists=True)"
   ]
  },
  {
   "cell_type": "code",
   "execution_count": null,
   "metadata": {},
   "outputs": [
    {
     "name": "stderr",
     "output_type": "stream",
     "text": [
      "c:\\Users\\gabriel.chehade\\Documents\\Projets\\Github\\Predict-Energy-Behavior-of-Prosumers-with-Machine-and-Deep-Learning\\sklearn-api\\.venv\\Lib\\site-packages\\lightgbm\\engine.py:204: UserWarning: Found `num_trees` in params. Will use it instead of argument\n",
      "  _log_warning(f\"Found `{alias}` in params. Will use it instead of argument\")\n"
     ]
    },
    {
     "name": "stdout",
     "output_type": "stream",
     "text": [
      "[LightGBM] [Warning] feature_fraction is set=0.5153314260276387, colsample_bytree=1.0 will be ignored. Current value: feature_fraction=0.5153314260276387\n",
      "[LightGBM] [Warning] num_iterations is set=356, num_trees=356 will be ignored. Current value: num_iterations=356\n",
      "[LightGBM] [Warning] feature_fraction is set=0.5153314260276387, colsample_bytree=1.0 will be ignored. Current value: feature_fraction=0.5153314260276387\n",
      "[LightGBM] [Info] Auto-choosing col-wise multi-threading, the overhead of testing was 0.122679 seconds.\n",
      "You can set `force_col_wise=true` to remove the overhead.\n",
      "[LightGBM] [Info] Total Bins 12794\n",
      "[LightGBM] [Info] Number of data points in the train set: 904917, number of used features: 53\n",
      "[LightGBM] [Info] Start training from score 468.645991\n",
      "[LightGBM] [Warning] feature_fraction is set=0.5153314260276387, colsample_bytree=1.0 will be ignored. Current value: feature_fraction=0.5153314260276387\n",
      "[LightGBM] [Warning] feature_fraction is set=0.5153314260276387, colsample_bytree=1.0 will be ignored. Current value: feature_fraction=0.5153314260276387\n"
     ]
    },
    {
     "name": "stderr",
     "output_type": "stream",
     "text": [
      "c:\\Users\\gabriel.chehade\\Documents\\Projets\\Github\\Predict-Energy-Behavior-of-Prosumers-with-Machine-and-Deep-Learning\\sklearn-api\\.venv\\Lib\\site-packages\\mlflow\\types\\utils.py:406: UserWarning: Hint: Inferred schema contains integer column(s). Integer columns in Python cannot represent missing values. If your input data contains missing values at inference time, it will be encoded as floats and will cause a schema enforcement error. The best way to avoid this problem is to infer the model schema based on a realistic data sample (training dataset) that includes missing values. Alternatively, you can declare integer columns as doubles (float64) whenever these columns may have missing values. See `Handling Integers With Missing Values <https://www.mlflow.org/docs/latest/models.html#handling-integers-with-missing-values>`_ for more details.\n",
      "  warnings.warn(\n"
     ]
    },
    {
     "name": "stdout",
     "output_type": "stream",
     "text": [
      "[LightGBM] [Warning] feature_fraction is set=0.5153314260276387, colsample_bytree=1.0 will be ignored. Current value: feature_fraction=0.5153314260276387\n"
     ]
    },
    {
     "name": "stderr",
     "output_type": "stream",
     "text": [
      "Downloading artifacts: 100%|██████████| 7/7 [00:02<00:00,  3.15it/s]\n"
     ]
    },
    {
     "name": "stdout",
     "output_type": "stream",
     "text": [
      "[LightGBM] [Warning] feature_fraction is set=0.5153314260276387, colsample_bytree=1.0 will be ignored. Current value: feature_fraction=0.5153314260276387\n"
     ]
    },
    {
     "name": "stderr",
     "output_type": "stream",
     "text": [
      "2024/08/28 08:30:10 INFO mlflow.tracking._tracking_service.client: 🏃 View run best_model_study_1_20240828T062931UTC at: http://localhost:5000/#/experiments/139855071362737171/runs/b0d5225429a04863b236129f56183c3f.\n",
      "2024/08/28 08:30:10 INFO mlflow.tracking._tracking_service.client: 🧪 View experiment at: http://localhost:5000/#/experiments/139855071362737171.\n"
     ]
    }
   ],
   "source": [
    "# run metadata\n",
    "utc_datetime = datetime.now(UTC).strftime(\"%Y%m%dT%H%M%SUTC\")\n",
    "run_name = f\"best_model_{study_name}_{utc_datetime}\"\n",
    "artifact_path = \"lgbm\"\n",
    "\n",
    "# training\n",
    "params = study.best_params\n",
    "model = LGBMRegressor(**params, random_state=random_state)\n",
    "start = time.time()\n",
    "model.fit(X_train, y_train)\n",
    "end = time.time()\n",
    "\n",
    "# metrics\n",
    "y_fit = model.predict(X_train)\n",
    "y_pred = model.predict(X_test)\n",
    "train_mae = mean_absolute_error(y_train, y_fit)\n",
    "test_mae = mean_absolute_error(y_test, y_pred)\n",
    "training_duration = end - start\n",
    "metrics = {\"train_mae\": train_mae, \"test_mae\": test_mae, \"training_duration\": training_duration}\n",
    "\n",
    "with mlflow.start_run(run_name=run_name) as run:\n",
    "    # Log the parameters used for the model fit\n",
    "    mlflow.log_params(params)\n",
    "\n",
    "    # Log the error metrics that were calculated during validation\n",
    "    mlflow.log_metrics(metrics)\n",
    "\n",
    "    # Log an instance of the trained model for later use\n",
    "    mlflow.lightgbm.log_model(\n",
    "        lgb_model=model, input_example=X_train.iloc[:1], artifact_path=artifact_path\n",
    "    )"
   ]
  },
  {
   "cell_type": "code",
   "execution_count": null,
   "metadata": {},
   "outputs": [],
   "source": []
  }
 ],
 "metadata": {
  "kernelspec": {
   "display_name": ".venv",
   "language": "python",
   "name": "python3"
  },
  "language_info": {
   "codemirror_mode": {
    "name": "ipython",
    "version": 3
   },
   "file_extension": ".py",
   "mimetype": "text/x-python",
   "name": "python",
   "nbconvert_exporter": "python",
   "pygments_lexer": "ipython3",
   "version": "3.11.7"
  }
 },
 "nbformat": 4,
 "nbformat_minor": 2
}
